{
 "cells": [
  {
   "cell_type": "markdown",
   "id": "c9370169-316e-42c8-bb72-0ce51d00ac3d",
   "metadata": {},
   "source": [
    "# Exercise: Supervised and Unsupervised Machine Learning\n",
    "\n",
    "Using the iris dataset from the previous lesson, we're going to create two models, one supervised, one unsupervised, and compare how their predictions differ.\n",
    "\n",
    "Complete the notebook by filling in the code where there are `?`."
   ]
  },
  {
   "cell_type": "code",
   "execution_count": null,
   "id": "8b7d7f7f-06e8-4775-a24b-f87c03c53d7b",
   "metadata": {},
   "outputs": [],
   "source": [
    "import numpy as np\n",
    "import pandas as pd\n",
    "import sklearn\n",
    "from sklearn import datasets"
   ]
  },
  {
   "cell_type": "code",
   "execution_count": null,
   "id": "8cec611c-08f5-4c49-927b-d4856958cd71",
   "metadata": {},
   "outputs": [],
   "source": [
    "# Load in the iris dataset\n",
    "iris = datasets.?"
   ]
  },
  {
   "cell_type": "code",
   "execution_count": null,
   "id": "b49828d2-9312-435a-881f-f0fe4a0c363c",
   "metadata": {},
   "outputs": [],
   "source": [
    "# Create the iris `data` dataset as a dataframe and name the columns with `feature_names`\n",
    "df = pd.DataFrame(?, columns=?)\n",
    "\n",
    "# Include the target as well\n",
    "df['target'] = ?"
   ]
  },
  {
   "cell_type": "code",
   "execution_count": null,
   "id": "be486873-0093-4c7e-a90a-de027a932ffe",
   "metadata": {
    "tags": []
   },
   "outputs": [],
   "source": [
    "# Check your dataframe by `.head()`\n",
    "?"
   ]
  },
  {
   "cell_type": "code",
   "execution_count": null,
   "id": "902fb344-55a1-4466-afd5-db6605723ef0",
   "metadata": {},
   "outputs": [],
   "source": [
    "# Target values as an array to compare against supervised and unsupervised\n",
    "df[\"target\"].to_numpy()"
   ]
  },
  {
   "cell_type": "markdown",
   "id": "4c7b3e32-d7a6-4d72-a86c-29e6cdb9c521",
   "metadata": {},
   "source": [
    "## Supervised ML"
   ]
  },
  {
   "cell_type": "code",
   "execution_count": null,
   "id": "26c132a4-1966-4a22-b096-b6d678ccd1cd",
   "metadata": {},
   "outputs": [],
   "source": [
    "from sklearn.linear_model import LinearRegression"
   ]
  },
  {
   "cell_type": "code",
   "execution_count": null,
   "id": "723831d3-0a08-4b8c-bf28-b436e15c3adf",
   "metadata": {},
   "outputs": [],
   "source": [
    "# initialize and fit a linear regression model\n",
    "reg = LinearRegression().fit(?)"
   ]
  },
  {
   "cell_type": "code",
   "execution_count": null,
   "id": "c7e8ecd9-0e03-4c44-8f2d-762a16e61b33",
   "metadata": {},
   "outputs": [],
   "source": [
    "# Scoring of the linear regression model, but slighly deceiving since the iris dataset is classifying not regression\n",
    "reg.score(?)"
   ]
  },
  {
   "cell_type": "code",
   "execution_count": null,
   "id": "5c022e9f-7469-4d05-bb32-c8e2a3a0f95c",
   "metadata": {},
   "outputs": [],
   "source": [
    "# regression output floating point numbers\n",
    "reg.predict(?)"
   ]
  },
  {
   "cell_type": "markdown",
   "id": "99cc656b-ddcf-475c-b438-543ca786504a",
   "metadata": {},
   "source": [
    "# Unsupervised ML"
   ]
  },
  {
   "cell_type": "code",
   "execution_count": null,
   "id": "1c4830d0-437d-41c6-baa1-356fb4e0effb",
   "metadata": {},
   "outputs": [],
   "source": [
    "from sklearn.cluster import KMeans"
   ]
  },
  {
   "cell_type": "code",
   "execution_count": null,
   "id": "2c5facac-8284-42f9-b44f-2701385cd4c9",
   "metadata": {},
   "outputs": [],
   "source": [
    "# We already know the number of clusters, we can use during fit, hint: it's the number of classes\n",
    "kmeans = KMeans(?)"
   ]
  },
  {
   "cell_type": "code",
   "execution_count": null,
   "id": "da62abde-3a3c-40b2-8899-38fa34531072",
   "metadata": {},
   "outputs": [],
   "source": [
    "# Print the labels to see what value is in what cluster\n",
    "?"
   ]
  },
  {
   "cell_type": "code",
   "execution_count": null,
   "id": "d124bb53-f56d-4668-9fa4-d4d6b38ab24f",
   "metadata": {},
   "outputs": [],
   "source": [
    "# What happens if we cluster more than the actual classes?\n",
    "kmeans = KMeans(n_clusters=4, random_state=0).fit(?)"
   ]
  },
  {
   "cell_type": "code",
   "execution_count": null,
   "id": "03fab494-8b06-4476-9ed9-18403d73f960",
   "metadata": {},
   "outputs": [],
   "source": [
    "# Print the labels to see what value is in what cluster\n",
    "?"
   ]
  }
 ],
 "metadata": {
  "kernelspec": {
   "display_name": "Python 3",
   "language": "python",
   "name": "python3"
  },
  "language_info": {
   "codemirror_mode": {
    "name": "ipython",
    "version": 3
   },
   "file_extension": ".py",
   "mimetype": "text/x-python",
   "name": "python",
   "nbconvert_exporter": "python",
   "pygments_lexer": "ipython3",
   "version": "3.7.9"
  }
 },
 "nbformat": 4,
 "nbformat_minor": 5
}
