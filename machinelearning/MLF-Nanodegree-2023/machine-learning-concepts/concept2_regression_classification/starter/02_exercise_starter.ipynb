{
 "cells": [
  {
   "cell_type": "markdown",
   "id": "0a83a3d8-df4d-4372-8dad-89ebb1139897",
   "metadata": {},
   "source": [
    "# Exercise: Regression and Classification Machine Learning\n",
    "\n",
    "In this exercise, we'll dive deeper into the ML concepts by creating a regression and classification model.\n",
    "\n",
    "Your tasks for this exercise are:\n",
    "1. Load the iris dataset into a dataframe\n",
    "2. Create a LinearRegression model and fit it to the dataset\n",
    "3. Score the regression model on the dataset and predict it's values\n",
    "4. Create a RidgeClassifier model and fit it to the dataset, use `alpha=3.0` when initializing the model\n",
    "5. Score the classification model on the dataset and predict it's values"
   ]
  },
  {
   "cell_type": "code",
   "execution_count": null,
   "id": "a31344c4-511e-4f37-b44a-a002488b7471",
   "metadata": {},
   "outputs": [],
   "source": [
    "import numpy as np\n",
    "import pandas as pd\n",
    "import sklearn\n",
    "from sklearn import datasets"
   ]
  },
  {
   "cell_type": "code",
   "execution_count": null,
   "id": "b25e8940-d02d-498e-977c-8a05ec735649",
   "metadata": {},
   "outputs": [],
   "source": [
    "# Load in the iris dataset\n",
    "iris = datasets.?"
   ]
  },
  {
   "cell_type": "code",
   "execution_count": null,
   "id": "75f07475-0f3b-4543-bec3-45166035be43",
   "metadata": {},
   "outputs": [],
   "source": [
    "# Create the iris `data` dataset as a dataframe and name the columns with `feature_names`\n",
    "df = pd.DataFrame(?, columns=?)\n",
    "\n",
    "# Include the target as well\n",
    "df['target'] = ?"
   ]
  },
  {
   "cell_type": "code",
   "execution_count": null,
   "id": "1637f676-e14d-49f8-8630-dcbe7770be9c",
   "metadata": {
    "tags": []
   },
   "outputs": [],
   "source": [
    "# Check your dataframe by `.head()`\n",
    "?"
   ]
  },
  {
   "cell_type": "markdown",
   "id": "e2041374-466c-4bf4-9c74-753fe662e5a2",
   "metadata": {},
   "source": [
    "## Regression ML"
   ]
  },
  {
   "cell_type": "code",
   "execution_count": null,
   "id": "154af3a5-0647-43f2-b12c-3a4b1c076817",
   "metadata": {},
   "outputs": [],
   "source": [
    "from sklearn.linear_model import LinearRegression"
   ]
  },
  {
   "cell_type": "code",
   "execution_count": null,
   "id": "6f7e417c-1818-4e6e-9be9-5bf158302b75",
   "metadata": {},
   "outputs": [],
   "source": [
    "# Fit a standard regression model, we've done this in other exercises\n",
    "reg = ?"
   ]
  },
  {
   "cell_type": "code",
   "execution_count": null,
   "id": "5d8dc6e5-1d64-4dfb-8b4a-55bf688ade72",
   "metadata": {},
   "outputs": [],
   "source": [
    "# Score the model on the same dataset\n",
    "reg.score(?)"
   ]
  },
  {
   "cell_type": "code",
   "execution_count": null,
   "id": "bfc2549e-11a1-4546-8076-2db1049c1372",
   "metadata": {},
   "outputs": [],
   "source": [
    "# Predicting values shows they are not that useful to a classification model\n",
    "reg.predict(?)"
   ]
  },
  {
   "cell_type": "code",
   "execution_count": null,
   "id": "cb3944ec-6103-4ab0-afae-61929fac87be",
   "metadata": {},
   "outputs": [],
   "source": [
    "# If we really wanted to, we could do something like round each regression value to an int\n",
    "# and have it \"act\" like a classification model\n",
    "# This is not required, but something to keep in mind for future reference\n",
    "reg_cls = np.abs(np.rint(reg.predict(df[iris[\"feature_names\"]])))\n",
    "reg_cls"
   ]
  },
  {
   "cell_type": "code",
   "execution_count": null,
   "id": "136ac218-f8da-4726-925a-43ec0490253f",
   "metadata": {},
   "outputs": [],
   "source": [
    "# Evaluate accuracy\n",
    "sum(reg_cls == df[\"target\"]) / df.shape[0]"
   ]
  },
  {
   "cell_type": "markdown",
   "id": "8a665643-5a44-4b9f-85e4-4586e1533a84",
   "metadata": {},
   "source": [
    "# Classification ML"
   ]
  },
  {
   "cell_type": "code",
   "execution_count": null,
   "id": "1a789315-92bf-4c54-9227-a199821dae5b",
   "metadata": {},
   "outputs": [],
   "source": [
    "from sklearn.linear_model import RidgeClassifier"
   ]
  },
  {
   "cell_type": "code",
   "execution_count": null,
   "id": "e9200312-6dbc-4bdc-96eb-9acf48dabdb1",
   "metadata": {},
   "outputs": [],
   "source": [
    "# Fit a ridge classifier, which matches with the problem space of being a classification problem\n",
    "clf = RidgeClassifier(?).fit(?)"
   ]
  },
  {
   "cell_type": "code",
   "execution_count": null,
   "id": "853e213a-8bac-479c-bed3-6478eb9ba570",
   "metadata": {},
   "outputs": [],
   "source": [
    "# Score the model\n",
    "clf.score(?)"
   ]
  },
  {
   "cell_type": "code",
   "execution_count": null,
   "id": "d60763f0-1830-4293-a061-c6d05ea0e2ae",
   "metadata": {},
   "outputs": [],
   "source": [
    "# Predict the class values for the dataset, these will look much better!\n",
    "clf.predict(?)"
   ]
  }
 ],
 "metadata": {
  "kernelspec": {
   "display_name": "Python 3",
   "language": "python",
   "name": "python3"
  },
  "language_info": {
   "codemirror_mode": {
    "name": "ipython",
    "version": 3
   },
   "file_extension": ".py",
   "mimetype": "text/x-python",
   "name": "python",
   "nbconvert_exporter": "python",
   "pygments_lexer": "ipython3",
   "version": "3.7.9"
  }
 },
 "nbformat": 4,
 "nbformat_minor": 5
}
