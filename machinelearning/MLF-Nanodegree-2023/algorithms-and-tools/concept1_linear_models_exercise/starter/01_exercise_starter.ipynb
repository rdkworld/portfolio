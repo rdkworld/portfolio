{
 "cells": [
  {
   "cell_type": "markdown",
   "id": "d9520883-fb9c-42fd-8d73-d19e3a401c7f",
   "metadata": {},
   "source": [
    "# Exercise: Linear Models\n",
    "\n",
    "In this exercise, we'll be exploring two types of linear models, one regression, one classification. While regression is what you typically think of for a linear model, they can also be used effectively in classification problems.\n",
    "\n",
    "You're tasked with compeleting the following steps:\n",
    "1. Load in the wine dataset from scikit learn.\n",
    "2. For the wine dataset, create a train and test split, 80% train / 20% test.\n",
    "3. Create a LogisticRegression model with these hyper parameters: random_state=0, max_iter=10000\n",
    "4. Evaluate the model with the test dataset\n",
    "5. Load the diabetes dataset from scikit learn\n",
    "6. For the Diabetes dataset, create a train and test split, 80% train / 20% test.\n",
    "7. Create a SGDRegressor model model with these hyper parameters: random_state=0, max_iter=10000\n",
    "8. Evaluate the model with the test dataset"
   ]
  },
  {
   "cell_type": "code",
   "execution_count": null,
   "id": "6dfefd6d-ed7f-46e3-a0c0-befda8d6aa23",
   "metadata": {},
   "outputs": [],
   "source": [
    "import numpy as np\n",
    "import pandas as pd\n",
    "from sklearn import datasets\n",
    "from sklearn.model_selection import train_test_split\n",
    "from sklearn.linear_model import LogisticRegression, SGDRegressor"
   ]
  },
  {
   "cell_type": "markdown",
   "id": "66e6fd8c-df16-4109-a7a8-6c6ccb2cdf29",
   "metadata": {},
   "source": [
    "## Linear Classifier"
   ]
  },
  {
   "cell_type": "code",
   "execution_count": null,
   "id": "e7a04364-286e-4b92-a7c4-dc554895c9b2",
   "metadata": {},
   "outputs": [],
   "source": [
    "# Load in the wine dataset\n",
    "wine = ?"
   ]
  },
  {
   "cell_type": "code",
   "execution_count": null,
   "id": "fa712020-12c1-4b62-b512-fb440d9d5b51",
   "metadata": {},
   "outputs": [],
   "source": [
    "# Create the wine `data` dataset as a dataframe and name the columns with `feature_names`\n",
    "df = pd.DataFrame(?, columns=?)\n",
    "\n",
    "# Include the target as well\n",
    "df['target'] = ?"
   ]
  },
  {
   "cell_type": "code",
   "execution_count": null,
   "id": "e984bee8-c113-43b1-94d5-fc8f32f5c1ce",
   "metadata": {},
   "outputs": [],
   "source": [
    "# Check your dataframe by `.head()`\n",
    "?"
   ]
  },
  {
   "cell_type": "code",
   "execution_count": null,
   "id": "b173fb21-cb9e-4474-87c2-c3bf4f08cd05",
   "metadata": {},
   "outputs": [],
   "source": [
    "# Split your data with these ratios: train: 0.8 | test: 0.2\n",
    "df_train, df_test = ?"
   ]
  },
  {
   "cell_type": "code",
   "execution_count": null,
   "id": "7205ac08-20cd-48c5-a90e-44960f6d81f6",
   "metadata": {},
   "outputs": [],
   "source": [
    "# How does the model perform on the training dataset and default model parameters?\n",
    "# Using the hyperparameters in the requirements, is there improvement?\n",
    "# Remember we use the test dataset to score the model\n",
    "clf = LogisticRegression(?).fit(?)\n",
    "clf.score(?)"
   ]
  },
  {
   "cell_type": "markdown",
   "id": "1e26fbb2-efb9-4ae6-aef1-42f8ecd47b86",
   "metadata": {},
   "source": [
    "## Linear Regression"
   ]
  },
  {
   "cell_type": "code",
   "execution_count": 11,
   "id": "f18359b5-0bb0-43ba-95b5-76dce8c4624d",
   "metadata": {},
   "outputs": [],
   "source": [
    "# Load in the diabetes dataset\n",
    "diabetes = ?"
   ]
  },
  {
   "cell_type": "code",
   "execution_count": 12,
   "id": "7151cb23-2f34-4709-859f-a19d094b0b42",
   "metadata": {},
   "outputs": [],
   "source": [
    "# Create the diabetes `data` dataset as a dataframe and name the columns with `feature_names`\n",
    "dfd = pd.DataFrame(?, columns=?)\n",
    "\n",
    "# Include the target as well\n",
    "dfd['target'] = ?"
   ]
  },
  {
   "cell_type": "code",
   "execution_count": null,
   "id": "39c182a0-5cc2-4a26-a2bf-31627de43928",
   "metadata": {},
   "outputs": [],
   "source": [
    "# Check your dataframe by `.head()`\n",
    "?"
   ]
  },
  {
   "cell_type": "code",
   "execution_count": null,
   "id": "16a764a8-b7c8-464c-bd1b-b75d6e95fef7",
   "metadata": {},
   "outputs": [],
   "source": [
    "# Split your data with these ratios: train: 0.8 | test: 0.2\n",
    "dfd_train, dfd_test = ?"
   ]
  },
  {
   "cell_type": "code",
   "execution_count": null,
   "id": "ba67a9df-362d-4779-9155-37051af17bc7",
   "metadata": {},
   "outputs": [],
   "source": [
    "# How does the model perform on the training dataset and default model parameters?\n",
    "# Using the hyperparameters in the requirements, is there improvement?\n",
    "# Remember we use the test dataset to score the model\n",
    "reg = SGDRegressor(?).fit(?)\n",
    "reg.score(?)"
   ]
  }
 ],
 "metadata": {
  "kernelspec": {
   "display_name": "Python 3",
   "language": "python",
   "name": "python3"
  },
  "language_info": {
   "codemirror_mode": {
    "name": "ipython",
    "version": 3
   },
   "file_extension": ".py",
   "mimetype": "text/x-python",
   "name": "python",
   "nbconvert_exporter": "python",
   "pygments_lexer": "ipython3",
   "version": "3.7.9"
  }
 },
 "nbformat": 4,
 "nbformat_minor": 5
}
