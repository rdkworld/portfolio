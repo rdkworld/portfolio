{
 "cells": [
  {
   "cell_type": "markdown",
   "id": "a02482ee-e7a4-4c21-bc6c-a14ef7743f08",
   "metadata": {},
   "source": [
    "# Exercise: Iris Dataset\n",
    "Now that you have a good understanding of exploritory data analysis and it's importance, it's time to put your knowledge to a more practical example. We'll be focusing on a iris public dataset from the scikit-learn library.\n",
    "\n",
    "Our main objectives for this dataset are:\n",
    "1. Load the iris dataset into a pandas dataframe\n",
    "2. Create a table summary of the features and target values\n",
    "3. Create a histogram of all the features and target\n",
    "4. Create a correlation matrix of the features and target\n",
    "5. Create scatter plots of all the features and target"
   ]
  },
  {
   "cell_type": "code",
   "execution_count": null,
   "id": "0c179bc2-f479-4e96-b90d-7830f416cb48",
   "metadata": {},
   "outputs": [],
   "source": [
    "import pandas as pd\n",
    "import sklearn\n",
    "from sklearn import datasets\n",
    "import matplotlib.pyplot as plt"
   ]
  },
  {
   "cell_type": "code",
   "execution_count": null,
   "id": "b50cf038-a16f-4d70-a152-3c01c3526d4c",
   "metadata": {},
   "outputs": [],
   "source": [
    "# Load in the iris dataset\n",
    "iris = datasets.?"
   ]
  },
  {
   "cell_type": "code",
   "execution_count": null,
   "id": "d0b30ae3-0022-4df5-a453-a96da3bc13ae",
   "metadata": {},
   "outputs": [],
   "source": [
    "# For clarity, the iris dataset is a dictionary with the data and target separated\n",
    "iris.keys()"
   ]
  },
  {
   "cell_type": "code",
   "execution_count": null,
   "id": "6ba3d718-a0e0-4823-9ff0-397e3ac2de8e",
   "metadata": {},
   "outputs": [],
   "source": [
    "# Create the iris `data` dataset as a dataframe and name the columns with `feature_names`\n",
    "df = pd.DataFrame(?, columns=?)\n",
    "\n",
    "# Include the target as well\n",
    "df['target'] = ?"
   ]
  },
  {
   "cell_type": "code",
   "execution_count": null,
   "id": "73b40f8f-a785-489b-a434-c62f78805df6",
   "metadata": {},
   "outputs": [],
   "source": [
    "# Loading iris dataset, use `as_frame=True` to return it as a dataframe\n",
    "iris = datasets.?"
   ]
  },
  {
   "cell_type": "code",
   "execution_count": null,
   "id": "128072e8-7eef-45e5-a8e2-ccd874daa0c3",
   "metadata": {},
   "outputs": [],
   "source": [
    "# For clarity, the iris dataset is a dictionary with the data and target separated\n",
    "iris.keys()"
   ]
  },
  {
   "cell_type": "code",
   "execution_count": null,
   "id": "d6074b7b-f32f-4410-a41c-1ed8c99779a3",
   "metadata": {},
   "outputs": [],
   "source": [
    "# Create the iris dataset as a dataframe, it'll be the `frame` key\n",
    "df = ?"
   ]
  },
  {
   "cell_type": "code",
   "execution_count": null,
   "id": "a91acc45-3dcf-4c58-898f-12c301c5489c",
   "metadata": {
    "tags": []
   },
   "outputs": [],
   "source": [
    "# Check your dataframe by `.head()`\n",
    "?"
   ]
  },
  {
   "cell_type": "code",
   "execution_count": null,
   "id": "4ff66dfb-5ead-46b4-b06e-5243d6b77292",
   "metadata": {},
   "outputs": [],
   "source": [
    "# Simple table summary\n",
    "?"
   ]
  },
  {
   "cell_type": "code",
   "execution_count": null,
   "id": "e36957c1-8f59-4f6e-9745-496a724f952c",
   "metadata": {},
   "outputs": [],
   "source": [
    "# Histogram to show all the data distributions including the target\n",
    "?"
   ]
  },
  {
   "cell_type": "code",
   "execution_count": null,
   "id": "b50ad7b4-799a-4e38-8edf-ae4355180be1",
   "metadata": {},
   "outputs": [],
   "source": [
    "# Investigate to see if any data are correlated positively or negatively\n",
    "?"
   ]
  },
  {
   "cell_type": "markdown",
   "id": "12f51b04-3f9e-47d1-b0c3-abbceaea2cd5",
   "metadata": {},
   "source": [
    "# Scatter Plot Of Features\n",
    "Create a scatter plot of the four features against eachother to visualize the results from the correlation matrix\n",
    "1. `sepal length (cm)` vs. `sepal width (cm)`\n",
    "2. `sepal length (cm)` vs. `petal length (cm)`\n",
    "3. `sepal length (cm)` vs. `petal width (cm)`\n",
    "4. `sepal width (cm)` vs. `petal length (cm)`\n",
    "5. `sepal width (cm)` vs. `petal width (cm)`\n",
    "6. `petal length (cm)` vs. `petal width (cm)`"
   ]
  },
  {
   "cell_type": "code",
   "execution_count": null,
   "id": "08958672-fcdd-4be9-9a82-9582d600c319",
   "metadata": {
    "tags": []
   },
   "outputs": [],
   "source": [
    "fig, axes = plt.subplots(nrows=2, ncols=3, figsize=(12, 8))\n",
    "df.plot(ax=axes[0,0], ?)\n",
    "df.plot(ax=axes[0,1], ?)\n",
    "df.plot(ax=axes[0,2], ?)\n",
    "df.plot(ax=axes[1,0], ?)\n",
    "df.plot(ax=axes[1,1], ?)\n",
    "df.plot(ax=axes[1,2], ?)"
   ]
  },
  {
   "cell_type": "markdown",
   "id": "812c876f-f644-45ca-ac11-171efc1be14a",
   "metadata": {},
   "source": [
    "# Scatter Plot Of Features And Target\n",
    "Create a scatter plot of the four features against the target\n",
    "1. `sepal length (cm)`\n",
    "2. `sepal width (cm)`\n",
    "3. `petal length (cm)`\n",
    "4. `petal width (cm)`"
   ]
  },
  {
   "cell_type": "code",
   "execution_count": null,
   "id": "65591992-7188-46c2-93fe-8f3604ba3fb5",
   "metadata": {
    "tags": []
   },
   "outputs": [],
   "source": [
    "fig, axes = plt.subplots(nrows=2, ncols=2, figsize=(10, 8))\n",
    "df.plot(ax=axes[0, 0], ?)\n",
    "df.plot(ax=axes[0, 1], ?)\n",
    "df.plot(ax=axes[1, 0], ?)\n",
    "df.plot(ax=axes[1, 1], ?)"
   ]
  }
 ],
 "metadata": {
  "kernelspec": {
   "display_name": "Python 3",
   "language": "python",
   "name": "python3"
  },
  "language_info": {
   "codemirror_mode": {
    "name": "ipython",
    "version": 3
   },
   "file_extension": ".py",
   "mimetype": "text/x-python",
   "name": "python",
   "nbconvert_exporter": "python",
   "pygments_lexer": "ipython3",
   "version": "3.7.9"
  }
 },
 "nbformat": 4,
 "nbformat_minor": 5
}
