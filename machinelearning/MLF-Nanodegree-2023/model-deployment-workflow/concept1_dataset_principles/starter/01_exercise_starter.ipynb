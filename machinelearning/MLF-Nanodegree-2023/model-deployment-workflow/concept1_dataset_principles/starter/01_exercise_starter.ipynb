{
 "cells": [
  {
   "cell_type": "markdown",
   "id": "cd0efdab-cdff-4a3a-b93b-36b1cdb8a37c",
   "metadata": {},
   "source": [
    "# Exercise: Dataset Principles\n",
    "\n",
    "Since models are nothing without data, it's important to make sure the fundamentals are strong when creating and shaping your datasets. Here we'll create a regression dataset and split it into the three core dataset types: train, validation, and test.\n",
    "\n",
    "Your tasks for this exercise are:\n",
    "1. Create a dataframe with your features and target arrays from `make_regression`.\n",
    "2. Create a 60% Train / 20% Validation / 20% Test dataset group using the `train_test_split` method.\n",
    "3. Confirm the datasets are the correct size by outputing their shape.\n",
    "4. Save the three datasets to CSV"
   ]
  },
  {
   "cell_type": "code",
   "execution_count": null,
   "id": "7d594dbd-6d8d-48cb-8782-f17ad6350f31",
   "metadata": {},
   "outputs": [],
   "source": [
    "import pandas as pd\n",
    "from sklearn.datasets import make_regression\n",
    "from sklearn.model_selection import train_test_split"
   ]
  },
  {
   "cell_type": "code",
   "execution_count": null,
   "id": "f88843cb-0660-42cc-9b48-57347e41b8e3",
   "metadata": {},
   "outputs": [],
   "source": [
    "# Creating a regression dataset with 1000 samples, 5 feature columns, 2 which are actually useful, and 1 target column\n",
    "regression_dataset = make_regression(\n",
    "    n_samples=1000, n_features=5, n_informative=2, n_targets=1, random_state=0\n",
    ")"
   ]
  },
  {
   "cell_type": "code",
   "execution_count": null,
   "id": "9ffee2de-2a93-4317-9c0a-4660e987849d",
   "metadata": {},
   "outputs": [],
   "source": [
    "df = pd.DataFrame(?)\n",
    "df[\"target\"] = ?"
   ]
  },
  {
   "cell_type": "code",
   "execution_count": null,
   "id": "0d7e4014-e014-44a3-86ac-6b3406cf823a",
   "metadata": {},
   "outputs": [],
   "source": [
    "df.head()"
   ]
  },
  {
   "cell_type": "code",
   "execution_count": null,
   "id": "05db4d76-f9e8-441e-8c80-5dc338d7188c",
   "metadata": {},
   "outputs": [],
   "source": [
    "# Create a train: 0.8 | test: 0.2 ratio dataset\n",
    "df_train, df_test = ?\n",
    "\n",
    "# Create a train: 0.6 | validation: 0.2 ratio dataset\n",
    "df_train, df_val = ?\n",
    "\n",
    "# Final dataset sizes: train: 0.6, validation: 0.2, test: 0.2,"
   ]
  },
  {
   "cell_type": "code",
   "execution_count": null,
   "id": "fad18b68-9c2c-4375-b0f1-d6cf724a3ec7",
   "metadata": {},
   "outputs": [],
   "source": [
    "# Output each shape to confirm the size of train/validation/test\n",
    "print(f\"Train: {?}\")\n",
    "print(f\"Validation: {?}\")\n",
    "print(f\"Test: {?}\")"
   ]
  },
  {
   "cell_type": "code",
   "execution_count": null,
   "id": "ca37ecca-722c-428e-9035-897e67412d68",
   "metadata": {},
   "outputs": [],
   "source": [
    "# Output all datasets to csv\n",
    "df_train.to_csv(?)\n",
    "df_val.to_csv(?)\n",
    "df_test.to_csv(?)"
   ]
  }
 ],
 "metadata": {
  "kernelspec": {
   "display_name": "Python 3",
   "language": "python",
   "name": "python3"
  },
  "language_info": {
   "codemirror_mode": {
    "name": "ipython",
    "version": 3
   },
   "file_extension": ".py",
   "mimetype": "text/x-python",
   "name": "python",
   "nbconvert_exporter": "python",
   "pygments_lexer": "ipython3",
   "version": "3.7.9"
  }
 },
 "nbformat": 4,
 "nbformat_minor": 5
}
