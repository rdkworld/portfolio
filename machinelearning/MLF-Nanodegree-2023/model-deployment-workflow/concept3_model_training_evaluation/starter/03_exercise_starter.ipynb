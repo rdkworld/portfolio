{
 "cells": [
  {
   "cell_type": "markdown",
   "id": "cd0efdab-cdff-4a3a-b93b-36b1cdb8a37c",
   "metadata": {},
   "source": [
    "# Exercise: Model Training and Evaluation\n",
    "\n",
    "Now that we have the data fundamentals for creating, cleaning, and modifying our datasets, we can train and evaluate a model, in this case it's a linear regression model.\n",
    "\n",
    "Your tasks for this exercise are:\n",
    "1. Create a dataframe with the regression dataset, include the features and target within the same dataframe.\n",
    "2. Create a 60% Train / 20% Validation / 20% Test dataset group using the `train_test_split` method.\n",
    "3. Fit the LinearRegression model on the training set.\n",
    "4. Evaluate the model on the validation set.\n",
    "5. Evaluate the model on the test set."
   ]
  },
  {
   "cell_type": "code",
   "execution_count": null,
   "id": "7d594dbd-6d8d-48cb-8782-f17ad6350f31",
   "metadata": {},
   "outputs": [],
   "source": [
    "import pandas as pd\n",
    "from sklearn.datasets import make_regression\n",
    "from sklearn.model_selection import train_test_split\n",
    "from sklearn.linear_model import LinearRegression"
   ]
  },
  {
   "cell_type": "code",
   "execution_count": null,
   "id": "f88843cb-0660-42cc-9b48-57347e41b8e3",
   "metadata": {},
   "outputs": [],
   "source": [
    "regression_dataset = make_regression(\n",
    "    n_samples=10000,\n",
    "    n_features=10,\n",
    "    n_informative=5,\n",
    "    bias=0,\n",
    "    noise=40,\n",
    "    n_targets=1,\n",
    "    random_state=0,\n",
    ")"
   ]
  },
  {
   "cell_type": "code",
   "execution_count": null,
   "id": "9ffee2de-2a93-4317-9c0a-4660e987849d",
   "metadata": {},
   "outputs": [],
   "source": [
    "# Create the dataframe using the dataset\n",
    "df = ?\n",
    "df[\"target\"] = ?"
   ]
  },
  {
   "cell_type": "code",
   "execution_count": null,
   "id": "ce3f98fb-4002-4cbb-a478-711eb9ac88c7",
   "metadata": {},
   "outputs": [],
   "source": [
    "# `.head()` to view what the dataset looks like\n",
    "?"
   ]
  },
  {
   "cell_type": "code",
   "execution_count": null,
   "id": "05db4d76-f9e8-441e-8c80-5dc338d7188c",
   "metadata": {},
   "outputs": [],
   "source": [
    "# train: 0.8 | test: 0.2\n",
    "df_train, df_test = ?\n",
    "\n",
    "# train: 0.6 | validation: 0.2\n",
    "df_train, df_val = ?\n",
    "\n",
    "# Final dataset sizes: train: 0.6, validation: 0.2, text: 0.2,"
   ]
  },
  {
   "cell_type": "code",
   "execution_count": null,
   "id": "fad18b68-9c2c-4375-b0f1-d6cf724a3ec7",
   "metadata": {},
   "outputs": [],
   "source": [
    "# Output each shape to confirm the size of train/validation/test\n",
    "print(f\"Train: {df_train.shape}\")\n",
    "print(f\"Validation: {df_val.shape}\")\n",
    "print(f\"Test: {df_test.shape}\")"
   ]
  },
  {
   "cell_type": "code",
   "execution_count": null,
   "id": "4b51585f-ca26-466c-937c-e6e092b5f1ef",
   "metadata": {},
   "outputs": [],
   "source": [
    "# Train the linear model by fitting it on the dataframe features and dataframe target\n",
    "reg = LinearRegression().?"
   ]
  },
  {
   "cell_type": "code",
   "execution_count": null,
   "id": "e215a0d1-e0fa-47e7-86b3-a7b02fcc7bd1",
   "metadata": {},
   "outputs": [],
   "source": [
    "# Evaluate the linear model by scoring it, by default it's the metric r2.\n",
    "reg.score(?)"
   ]
  },
  {
   "cell_type": "code",
   "execution_count": null,
   "id": "19a89d02-ba16-45c5-a250-7c44ab6b4947",
   "metadata": {},
   "outputs": [],
   "source": [
    "# Once done optimizing the model using the validation dataset,\n",
    "# Evaluate the linear model by scoring it on the test dataset.\n",
    "reg.score(?)"
   ]
  }
 ],
 "metadata": {
  "kernelspec": {
   "display_name": "Python 3",
   "language": "python",
   "name": "python3"
  },
  "language_info": {
   "codemirror_mode": {
    "name": "ipython",
    "version": 3
   },
   "file_extension": ".py",
   "mimetype": "text/x-python",
   "name": "python",
   "nbconvert_exporter": "python",
   "pygments_lexer": "ipython3",
   "version": "3.7.9"
  }
 },
 "nbformat": 4,
 "nbformat_minor": 5
}
