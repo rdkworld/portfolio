{
 "cells": [
  {
   "cell_type": "markdown",
   "id": "7e758560-c967-4f2f-88ee-664cba57b9b7",
   "metadata": {},
   "source": [
    "# Exercise: Diabetes Model\n",
    "\n",
    "In this exercise, we're going to take the knowledge we gained from the lesson and apply it to the [Diabetes dataset](https://scikit-learn.org/stable/datasets/toy_dataset.html#diabetes-dataset). This well known dataset already has it's data cleaned and normalized, so no need to do any of those steps. The steps required to complete this exercise are as follows:\n",
    "\n",
    "1. Load the diabetes dataset into a dataframe.\n",
    "2. Check the table summary to show that indeed the mean is zero for all features.\n",
    "3. Split the dataset into train, validation, and test sets\n",
    "4. Use a linear regression `Ridge` model to fit and score:\n",
    "    1. Fit and score on the whole dataset\n",
    "    2. Fit on train, score on validation, using default model\n",
    "    3. Fit on train, score on validation, using hyperparameters model\n",
    "    4. Fit on train, score on test, using hyperparameterized model\n",
    "5. Plot all scores in a bar graph"
   ]
  },
  {
   "cell_type": "code",
   "execution_count": null,
   "id": "55cae662-ce37-4184-b53a-3e8ee2482eb9",
   "metadata": {},
   "outputs": [],
   "source": [
    "import numpy as np\n",
    "import pandas as pd\n",
    "from sklearn import datasets\n",
    "from sklearn.model_selection import train_test_split\n",
    "from sklearn.linear_model import Ridge"
   ]
  },
  {
   "cell_type": "code",
   "execution_count": null,
   "id": "c1c432df-e9bc-4cbe-a5fb-2b8255033151",
   "metadata": {},
   "outputs": [],
   "source": [
    "# Load in the diabetes dataset\n",
    "diabetes = ?"
   ]
  },
  {
   "cell_type": "code",
   "execution_count": null,
   "id": "b00f5730-4124-4c04-b430-fbb465dc83f0",
   "metadata": {},
   "outputs": [],
   "source": [
    "# Create the diabetes `data` dataset as a dataframe and name the columns with `feature_names`\n",
    "df = pd.DataFrame(?, columns=?)\n",
    "\n",
    "# Include the target as well\n",
    "df['target'] = ?"
   ]
  },
  {
   "cell_type": "code",
   "execution_count": null,
   "id": "90210c65-c009-44a2-a4b7-0928e5e81510",
   "metadata": {},
   "outputs": [],
   "source": [
    "df.head()"
   ]
  },
  {
   "cell_type": "code",
   "execution_count": null,
   "id": "42aea01b-ef1d-4577-a99b-d916ffa54ecf",
   "metadata": {},
   "outputs": [],
   "source": [
    "# Describe df using table summary.\n",
    "# No need to normalize, near zero mean.\n",
    "?"
   ]
  },
  {
   "cell_type": "code",
   "execution_count": null,
   "id": "2f5383b7-5228-4ae5-8d1f-4660b1ede157",
   "metadata": {},
   "outputs": [],
   "source": [
    "# train: 0.8 | test: 0.2\n",
    "df_train, df_test = train_test_split(?)\n",
    "\n",
    "# train: 0.6 | validation: 0.2\n",
    "df_train, df_val = train_test_split(?)\n",
    "\n",
    "# Final dataset sizes: train: 0.6, validation: 0.2, text: 0.2"
   ]
  },
  {
   "cell_type": "code",
   "execution_count": null,
   "id": "d5d7dc72-5407-46bf-b04d-ec0dcc362f47",
   "metadata": {},
   "outputs": [],
   "source": [
    "# How does the model perform on the entire dataset and default model parameters\n",
    "reg = Ridge().fit(?)\n",
    "all_df_score = reg.score(?)\n",
    "all_df_score"
   ]
  },
  {
   "cell_type": "code",
   "execution_count": null,
   "id": "8309ea8a-1182-4372-a626-ea8fd453d7ed",
   "metadata": {
    "tags": []
   },
   "outputs": [],
   "source": [
    "# How does the model perform on the training dataset and default model parameters\n",
    "# Remember we use the validation dataset score the model\n",
    "reg = Ridge().fit(?)\n",
    "val_df_score = reg.score(?)\n",
    "val_df_score"
   ]
  },
  {
   "cell_type": "code",
   "execution_count": null,
   "id": "50e33dae-c383-4318-88ac-3a6a6e7d0a99",
   "metadata": {},
   "outputs": [],
   "source": [
    "# How does the model perform on the training dataset and different model parameters\n",
    "# Change alpha, solver, and max_iter\n",
    "reg_h = Ridge(?)\n",
    "val_df_h_score = reg_h.score(?)\n",
    "val_df_h_score"
   ]
  },
  {
   "cell_type": "code",
   "execution_count": null,
   "id": "3b56cc90-dc6d-4a01-8560-f76585e084e4",
   "metadata": {},
   "outputs": [],
   "source": [
    "# Use optimized model on the held out test dataset.\n",
    "test_df_h_score = reg_h.score(?)\n",
    "test_df_h_score"
   ]
  },
  {
   "cell_type": "code",
   "execution_count": null,
   "id": "5f63d361-184f-412a-9711-0e8f27d11039",
   "metadata": {},
   "outputs": [],
   "source": [
    "# Bar plot of all scores from each model fit: all_df_score, val_df_score, val_df_h_score, test_df_h_score\n",
    "pd.Series({?}).plot(kind=\"bar\", legend=False, title=\"R2 Score of Ridge Model\")"
   ]
  }
 ],
 "metadata": {
  "kernelspec": {
   "display_name": "Python 3",
   "language": "python",
   "name": "python3"
  },
  "language_info": {
   "codemirror_mode": {
    "name": "ipython",
    "version": 3
   },
   "file_extension": ".py",
   "mimetype": "text/x-python",
   "name": "python",
   "nbconvert_exporter": "python",
   "pygments_lexer": "ipython3",
   "version": "3.7.9"
  }
 },
 "nbformat": 4,
 "nbformat_minor": 5
}
