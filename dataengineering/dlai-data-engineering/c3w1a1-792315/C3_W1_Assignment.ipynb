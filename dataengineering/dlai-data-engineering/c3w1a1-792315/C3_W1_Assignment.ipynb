{
 "cells": [
  {
   "cell_type": "markdown",
   "metadata": {},
   "source": [
    "# Graph Databases and Vector Search with Neo4j\n",
    "\n",
    "In this lab, you will use the Cypher query language to query highly connected data in the graph database Neo4j. Relationships between data entities can be just as important as the data itself, and graph databases are designed to answer questions about the relationships. You will also leverage the graph database to perform vector search: a method of information retrieval where data points are represented as vectors. One can perform a similarity search between data points by comparing their vector representations. "
   ]
  },
  {
   "cell_type": "markdown",
   "metadata": {},
   "source": [
    "# Table of Contents\n",
    "\n",
    "- [ 1 - Introduction and Setup](#1)\n",
    "  - [ 1.1 - Introduction](#1.1)\n",
    "  - [ 1.2 - Development Environment](#1.2)\n",
    "- [ 2 - Basic Operations with Graph Database](#2)\n",
    "  - [ 2.1 - Introduction to Cypher](#2.1)\n",
    "  - [ 2.2 - Getting Node Information with Match Statements](#2.2)\n",
    "    - [ Exercise 1](#ex01)\n",
    "    - [ Exercise 2](#ex02)\n",
    "  - [ 2.3 - Exploring Relationships](#2.3)\n",
    "    - [ Exercise 3](#ex03)\n",
    "    - [ Exercise 4](#ex04)\n",
    "  - [ 2.4 - Getting Properties](#2.4)\n",
    "    - [ Exercise 5](#ex05)\n",
    "    - [ Exercise 6](#ex06)\n",
    "  - [ 2.5 - Filtering Statements](#2.5)\n",
    "    - [ Exercise 7](#ex07)\n",
    "  - [ 2.6 - Create Statements](#2.6)\n",
    "    - [ Exercise 8](#ex08)\n",
    "  - [ 2.7 - Update Operations](#2.7)\n",
    "    - [ Exercise 9](#ex09)\n",
    "    - [ Exercise 10](#ex10)\n",
    "  - [ 2.8 - Delete Statements](#2.8)\n",
    "    - [ Exercise 11](#ex11)\n",
    "    - [ Exercise 12](#ex12)\n",
    "    - [ Exercise 13](#ex13)\n",
    "- [ 3 - Advanced Queries](#3)\n",
    "  - [ Exercise 14](#ex14)\n",
    "  - [ Exercise 15](#ex15)\n",
    "  - [ Exercise 16](#ex16)\n",
    "- [ 4 - Upload Files for Grading](#4)\n",
    "- [ 5 - Vector Search](#5)\n",
    "  - [ Exercise 17](#ex17)"
   ]
  },
  {
   "cell_type": "markdown",
   "metadata": {},
   "source": [
    "<a name='1'></a>\n",
    "## 1 - Introduction and Setup"
   ]
  },
  {
   "cell_type": "markdown",
   "metadata": {},
   "source": [
    "<a name='1.1'></a>\n",
    "### 1.1 - Introduction\n",
    "\n",
    "You are employed by AeroTrack Insights, an organization committed to compiling data on airline routes and devising strategies for enhancing travel efficiency. Your current task involves working with the newly implemented graph database called 'Air Routes', which comprehensively represents a significant portion of the global airline route network. This database encompasses data about airports across several countries and provinces, spanning all continents. Additionally, it includes details regarding the routes connecting these airports, countries, and continents. To begin extracting valuable insights from this database, it is imperative to acquaint yourself with graph databases and the range of queries they enable. "
   ]
  },
  {
   "cell_type": "markdown",
   "metadata": {},
   "source": [
    "Relationships between different entities are shown in the following diagram:"
   ]
  },
  {
   "cell_type": "markdown",
   "metadata": {},
   "source": [
    "![image](./images/air-routes-graph.png)"
   ]
  },
  {
   "cell_type": "markdown",
   "metadata": {},
   "source": [
    "<a name='1.2'></a>\n",
    "### 1.2 - Development Environment\n",
    "\n",
    "1.2.1. Import some packages that you will use during this lab."
   ]
  },
  {
   "cell_type": "code",
   "execution_count": null,
   "metadata": {},
   "outputs": [],
   "source": [
    "import os \n",
    "import json\n",
    "import subprocess\n",
    "\n",
    "from dotenv import load_dotenv\n",
    "from neo4j import GraphDatabase\n",
    "\n",
    "LAB_PREFIX='de-c3w1a1'"
   ]
  },
  {
   "cell_type": "markdown",
   "metadata": {},
   "source": [
    "1.2.2. Although you are provided with this notebook to perform your queries and the exercises, you are also encouraged to explore the Neo4j graphical interface and execute the same queries there to better visualize the results. To access the graphical interface, go to your AWS management console and search for **CloudFormation**. You will see two stacks deployed, one associated with your Cloud9 environment (name with prefix `aws-cloud9`) and another named with an alphanumeric ID. Click on the alphanumeric ID stack, and navigate to the **Outputs** tab. Copy the value of the `Neo4jDNSUI` key (including the port at the end of it). Paste it to a new browser window, and use the following credentials to access the database::\n",
    "\n",
    "* username: `neo4j`\n",
    "* password: `adminneo4j`"
   ]
  },
  {
   "cell_type": "markdown",
   "metadata": {},
   "source": [
    "In that graphical interface, you can see the results not only as plain text but also visualize them as graphs. If you want to visualize the result of the queries that you are going to create during this lab, you can always go to this graphical interface and execute them again."
   ]
  },
  {
   "cell_type": "markdown",
   "metadata": {},
   "source": [
    "1.2.3. Open the `./src/env` file and replace the placeholder `<Neo4j-DNS-Connection>` with the `Neo4jDNSConnection` value from the CloudFormation Outputs. **Please do not include the colon and the port number there!** As you can see, the port number is set in that file separately. Save changes and run the following cell:"
   ]
  },
  {
   "cell_type": "code",
   "execution_count": null,
   "metadata": {},
   "outputs": [],
   "source": [
    "load_dotenv('./src/env', override=True)"
   ]
  },
  {
   "cell_type": "markdown",
   "metadata": {},
   "source": [
    "<a name='2'></a>\n",
    "## 2 - Basic Operations with Graph Database"
   ]
  },
  {
   "cell_type": "markdown",
   "metadata": {},
   "source": [
    "<a name='2.1'></a>\n",
    "### 2.1 - Introduction to Cypher\n",
    "\n",
    "Cypher is a declarative query language designed for expressing queries across graph databases. It provides a concise and intuitive syntax for performing operations such as creating, updating, retrieving, and deleting data within graph structures. It reuses syntax from SQL and mixes it with ASCII elements to represent graph elements. OpenCypher, on the other hand, is an open standard for graph query languages inspired by Cypher. It aims to standardize the Cypher query language across different graph database implementations. Alongside Cypher, Gremlin and SPARQLВ are the most popular Graph Query Languages."
   ]
  },
  {
   "cell_type": "markdown",
   "metadata": {},
   "source": [
    "When using Cypher to query your graph database, you need to understand the difference between nodes, relationships, and paths. Let's take a closer look at these components."
   ]
  },
  {
   "cell_type": "markdown",
   "metadata": {},
   "source": [
    "#### Nodes\n",
    "\n",
    "A node is used to capture a data item, usually an entity, like a customer, an order, a product, etc.\n",
    "\n",
    "- `()`:  This represents a *node*. You did not specify a specific type of node or any properties of that node. It's not relevant to the query.\n",
    "- `(n)`:  This represents a *node* referred to by the variable **n**. You can refer to this variable in other parts of your query.\n",
    "- `(n:Airport)`: Nodes can have different types (i.e. they can belong to different classes/categories). You can add a *label* to your node to specify its type. Here you are assigning the variable **n** the nodes with the type **Airport**.\n",
    "- `(n:Airport {code: 'BOS', desc: 'Boston Logan'})`: A node can have properties, which you can specify with `{}`. Here you are assigning the variable **n** the nodes of type **Airport** that have specific values for the **code** and **desc** properties.\n",
    "- `n.code`: You can access a specific property using this syntax, in this case, the **code** from the node denoted by **n**."
   ]
  },
  {
   "cell_type": "markdown",
   "metadata": {},
   "source": [
    "#### Relationships/Edges\n",
    "\n",
    "A relationship or edge is used to describe a connection between two nodes.\n",
    "\n",
    "- `[r]`: This represents a *relationship* referred to by the variable **r**. You can refer to this variable in other parts of your query. \n",
    "- `[r:Route]`: Relationships can have different types (i.e. they can belong to different classes/categories). You can add a *label* to your *relationship* to specify its type. Here you are assigning the variable **r** the relationships with the type **Route**.\n",
    "- `[:Route]`: A *relationship* with the *label* **Route** not referred to by any variable.\n",
    "- `[r:Route {dist:809}]`: Relationships can have properties, which you can specify with `{}`. Here you are assigning the variable **r** the *relationships* of type **Route** that have specific values for the **dist** property.\n",
    "- `[r:Route*..4]`: This syntax is used to match a pattern where the relationship **r** with the label **route** can be repeated between 1 to 4 times. In other words, it matches paths where the **route** relationship occurs consecutively at least once and at most four times."
   ]
  },
  {
   "cell_type": "markdown",
   "metadata": {},
   "source": [
    "#### Paths\n",
    "A path is used to capture the graph structure.\n",
    "\n",
    "- `(a:Airport)-[:Route]-(b:Airport)`: This represents a *path* that describes that node **a** and node **b** are connected by a **Route** relationship.\n",
    "- `(a:Airport)-[:Route]->(b:Airport)`: A path can be directed. In this case, this represents a path that describes a directed relationship from node **a** to node **b**, but not the other way around. \n",
    "- `(a:Airport)<-[:Route]-(b:Airport)`: A path that describes a directed relationship from node **b** to node **a**, but not the other way around. \n",
    "- `(a:Airport)-[:Route]-(b:Airport)-[:Route]-(c:Airport)`: A path can chain multiple relationships and any of them can be directional.\n",
    "\n",
    "You will see more about nodes, relationships and paths in the next exercises while exploring the syntax of the language. \n",
    "\n",
    "The **variables** will appear by naming parts of the patterns or a query to reference them. You will see the examples below.\n"
   ]
  },
  {
   "cell_type": "markdown",
   "metadata": {},
   "source": [
    "#### Pattern Matching Syntax\n",
    "\n",
    "In the following table you can find the characters that represent each component in the Cypher language:\n",
    "\n",
    "|   Cypher Pattern|Description|\n",
    "|:--|:--|\n",
    "|`( )`|A node|\n",
    "|`[ ]`|An edge|\n",
    "|`-->`|Follow outgoing edges from a node|\n",
    "|`<--`|Follow incoming edges to a node|\n",
    "|`--`|Follow edges in either direction|\n",
    "|`-[]->`|Include the outgoing edges in the query (for example, to check a label or property)|\n",
    "|`<-[]-`|Include the incoming edges in the query (for example, to check a label or property)|\n",
    "|`-[]-` |Include edges in either direction in the query|\n",
    "|`-[]->( )`|The node on the other end of an outgoing edge|\n",
    "|`<-[]-()`|The node on the other end of an incoming edge|"
   ]
  },
  {
   "cell_type": "markdown",
   "metadata": {},
   "source": [
    "\n",
    "To find more information about Cypher/OpenCypher, you can visit these resources:\n",
    "- [Cypher Manual](https://neo4j.com/docs/cypher-manual/current/introduction/)\n",
    "- [LearnXinYminutes Cypher](https://learnxinyminutes.com/docs/cypher/)\n",
    "\n",
    "Let's explore and understand the dataset while having some practice with Cypher. "
   ]
  },
  {
   "cell_type": "markdown",
   "metadata": {},
   "source": [
    "<a name='2.2'></a>\n",
    "### 2.2 - Getting Node Information with Match Statements\n",
    "\n",
    "Start by defining a function to execute queries in the graph database and retrieve the result."
   ]
  },
  {
   "cell_type": "code",
   "execution_count": null,
   "metadata": {},
   "outputs": [],
   "source": [
    "URI = f\"neo4j://{os.getenv('NEO4JHOST')}:{os.getenv('PORT')}\"\n",
    "#В Add your database credentials in the format: (username, password)\n",
    "AUTH = (os.getenv('USERNAME'), os.getenv('PASSWORD'))\n",
    "\n",
    "def execute_query(query:str, db_uri:str = URI, auth: tuple[str, str] = AUTH) -> str:\n",
    "    \"\"\"Connects to a Neo4j database and sends a query\n",
    "\n",
    "    Args:\n",
    "        query (str): Query to be performed in Ne4j graph DB\n",
    "        db_uri (str): Database URI\n",
    "        auth (tuple): Tuple of strings with user and password for the DB\n",
    "\n",
    "    Returns:\n",
    "        str: Query results\n",
    "    \"\"\"\n",
    "\n",
    "    with GraphDatabase.driver(db_uri, auth=auth) as driver:\n",
    "        driver.verify_connectivity()\n",
    "        records, summary, keys = driver.execute_query(query,database_=\"neo4j\",)\n",
    "        \n",
    "        return json.dumps([r.data() for r in records], indent=2)"
   ]
  },
  {
   "cell_type": "markdown",
   "metadata": {},
   "source": [
    "Match statements in Cypher are used to retrieve data from the graph by specifying patterns of nodes and relationships. These patterns define the structure of the data you want to retrieve or manipulate. The `MATCH` statement is used to specify patterns of nodes and relationships to match in the graph. It is the primary way to retrieve data from the graph. The `RETURN` keyword is used to specify what data to include in the query result. It specifies the properties of nodes and relationships to return, as well as any computed values. The `LIMIT` keyword limits the number of returned values. Run each of the following cells to better understand how `MATCH` statements work."
   ]
  },
  {
   "cell_type": "markdown",
   "metadata": {},
   "source": [
    "**Match all nodes**: Let's get some nodes, limited only to 20 values. Note that you are using `(n)` to get a *node* referred to the variable **n**, as mentioned in an earlier section."
   ]
  },
  {
   "cell_type": "code",
   "execution_count": null,
   "metadata": {},
   "outputs": [],
   "source": [
    "query = \"MATCH (n) RETURN n LIMIT 20\"\n",
    "records = execute_query(query)\n",
    "print(records)"
   ]
  },
  {
   "cell_type": "markdown",
   "metadata": {},
   "source": [
    "**Count all nodes**: As mentioned before, the `RETURN` keyword allows to return not only nodes or relationships, but also computed values. Here, you will count all the nodes available in the dataset with the `count()` function. Also, note that you can use aliases for your results with the `AS` keyword."
   ]
  },
  {
   "cell_type": "code",
   "execution_count": null,
   "metadata": {},
   "outputs": [],
   "source": [
    "query = \"MATCH (n) RETURN count(n) AS count\"\n",
    "records = execute_query(query)\n",
    "print(records)"
   ]
  },
  {
   "cell_type": "markdown",
   "metadata": {},
   "source": [
    "Now, let's query which types of nodes represent the air routes network. Nodes can have labels, which allow you to identify the type or category of each node. "
   ]
  },
  {
   "cell_type": "markdown",
   "metadata": {},
   "source": [
    "<a name='ex01'></a>\n",
    "### Exercise 1\n",
    "\n",
    "**Get node labels and count the number of nodes per label**. This involves using the `labels()` function, which retrieves the labels for a given node `n`, and the `count(*)` function, which counts the number of nodes. Use the `DISTINCT` keyword straight after the `RETURN` keyword to get only the unique labels."
   ]
  },
  {
   "cell_type": "code",
   "execution_count": null,
   "metadata": {
    "exercise": [
     "ex01"
    ],
    "tags": [
     "graded"
    ]
   },
   "outputs": [],
   "source": [
    "### START CODE HERE ### (1 line of code)\n",
    "query = \"MATCH (n) RETURN None None(None), None(None)\"\n",
    "### END CODE HERE ###\n",
    "records = execute_query(query)\n",
    "print(records)"
   ]
  },
  {
   "cell_type": "markdown",
   "metadata": {},
   "source": [
    "##### __Expected Output__ \n",
    "\n",
    "```json\n",
    "[\n",
    "  {\n",
    "    \"labels(n)\": [\n",
    "      \"Continent\"\n",
    "    ],\n",
    "    \"count(*)\": 7\n",
    "  },\n",
    "  {\n",
    "    \"labels(n)\": [\n",
    "      \"Airport\"\n",
    "    ],\n",
    "    \"count(*)\": 3504\n",
    "  },\n",
    "  {\n",
    "    \"labels(n)\": [\n",
    "      \"Country\"\n",
    "    ],\n",
    "    \"count(*)\": 237\n",
    "  }\n",
    "]\n",
    "```"
   ]
  },
  {
   "cell_type": "markdown",
   "metadata": {},
   "source": [
    "**Match nodes by label**: You can add the type or category of a node by passing a label. Here you will get only the nodes labelled as `Airport`."
   ]
  },
  {
   "cell_type": "code",
   "execution_count": null,
   "metadata": {},
   "outputs": [],
   "source": [
    "query = \"MATCH (a:Airport) RETURN a LIMIT 10\"\n",
    "records = execute_query(query)\n",
    "print(records)"
   ]
  },
  {
   "cell_type": "markdown",
   "metadata": {},
   "source": [
    "<a name='ex02'></a>\n",
    "### Exercise 2\n",
    "\n",
    "Complete the code to explore the nodes with the label `Country`. Limit your result to 10 values."
   ]
  },
  {
   "cell_type": "code",
   "execution_count": null,
   "metadata": {
    "exercise": [
     "ex02"
    ],
    "tags": [
     "graded"
    ]
   },
   "outputs": [],
   "source": [
    "### START CODE HERE ### (2 lines of code)\n",
    "query = \"MATCH (c:None) RETURN c None None\"\n",
    "records = None(None)\n",
    "### END CODE HERE ###\n",
    "\n",
    "print(records)"
   ]
  },
  {
   "cell_type": "markdown",
   "metadata": {},
   "source": [
    "##### __Expected Output__ \n",
    "\n",
    "*Note*: Not all of the output is shown and the order of the nodes can be different.\n",
    "\n",
    "```json\n",
    "[\n",
    "  {\n",
    "    \"c\": {\n",
    "      \"code\": \"AF\",\n",
    "      \"id\": 3505,\n",
    "      \"type\": \"country\",\n",
    "      \"desc\": \"Afghanistan\"\n",
    "    }\n",
    "  },\n",
    "  {\n",
    "    \"c\": {\n",
    "      \"code\": \"AL\",\n",
    "      \"id\": 3506,\n",
    "      \"type\": \"country\",\n",
    "      \"desc\": \"Albania\"\n",
    "    }\n",
    "  },\n",
    "...\n",
    "]\n",
    "```"
   ]
  },
  {
   "cell_type": "markdown",
   "metadata": {},
   "source": [
    "<a name='2.3'></a>\n",
    "### 2.3 - Exploring Relationships\n",
    "\n",
    "Now explore the **relationships between the nodes**. Execute the following query to return ten rows of a generic path using the path syntax. "
   ]
  },
  {
   "cell_type": "code",
   "execution_count": null,
   "metadata": {},
   "outputs": [],
   "source": [
    "query = \"MATCH (n)-[r:Route]-() RETURN n, r LIMIT 10\"\n",
    "records = execute_query(query)\n",
    "print(records)"
   ]
  },
  {
   "cell_type": "markdown",
   "metadata": {},
   "source": [
    "Remember that relationships are defined by using square brackets such as `[r:route]`. In this case, you will see that you are searching for all nodes `()` that are related. To find all the relationships that are directed, you can use the syntax provided in the **Paths** description (see [2.1](#2.1)) in which by using `->` you can indicate a directed relationship."
   ]
  },
  {
   "cell_type": "markdown",
   "metadata": {},
   "source": [
    "<a name='ex03'></a>\n",
    "### Exercise 3\n",
    "\n",
    "Write a query to **count all relationships**. As you want to count the relationships `r`, complete the code with the `count(r)` function. Name the result as `relationships_count`."
   ]
  },
  {
   "cell_type": "code",
   "execution_count": null,
   "metadata": {
    "exercise": [
     "ex03"
    ],
    "tags": [
     "graded"
    ]
   },
   "outputs": [],
   "source": [
    "### START CODE HERE ### (1 line of code)\n",
    "query = \"MATCH ()-[r]->() RETURN None(None) AS None\"\n",
    "### END CODE HERE ###\n",
    "records = execute_query(query)\n",
    "print(records)"
   ]
  },
  {
   "cell_type": "markdown",
   "metadata": {},
   "source": [
    "##### __Expected Output__ \n",
    "\n",
    "```json\n",
    "[\n",
    "  {\n",
    "    \"relationships_count\": 57645\n",
    "  }\n",
    "]\n",
    "```"
   ]
  },
  {
   "cell_type": "markdown",
   "metadata": {},
   "source": [
    "<a name='ex04'></a>\n",
    "### Exercise 4\n",
    "\n",
    "Create a query that returns the **count of relationships per type**. Use the function `TYPE()` passing the relationship `r` and `count(*)` for that purpose. You should add the `DISTINCT` keyword straight after the `RETURN` keyword. "
   ]
  },
  {
   "cell_type": "code",
   "execution_count": null,
   "metadata": {
    "exercise": [
     "ex04"
    ],
    "tags": [
     "graded"
    ]
   },
   "outputs": [],
   "source": [
    "### START CODE HERE ### (1 line of code)\n",
    "query = \"MATCH ()-[r]-() RETURN None None(None), None(None)\"\n",
    "### END CODE HERE ###\n",
    "records = execute_query(query)\n",
    "print(records)"
   ]
  },
  {
   "cell_type": "markdown",
   "metadata": {},
   "source": [
    "##### __Expected Output__ \n",
    "\n",
    "```json\n",
    "[\n",
    "  {\n",
    "    \"TYPE(r)\": \"Route\",\n",
    "    \"count(*)\": 101274\n",
    "  },\n",
    "  {\n",
    "    \"TYPE(r)\": \"Contains\",\n",
    "    \"count(*)\": 14016\n",
    "  }\n",
    "]\n",
    "```"
   ]
  },
  {
   "cell_type": "markdown",
   "metadata": {},
   "source": [
    "**Match nodes according to relationships (undirected)**: You are going to search the paths that connect two airports. In this case, there is no direction in the relationship as you can travel from one airport to another and vice versa. This is indicated by using a simple hyphen (`-`) between the nodes and the relationship."
   ]
  },
  {
   "cell_type": "code",
   "execution_count": null,
   "metadata": {},
   "outputs": [],
   "source": [
    "query = \"\"\"\n",
    "        MATCH (a:Airport)-[:Route]-(b:Airport)\n",
    "        RETURN a,b\n",
    "        LIMIT 10\n",
    "        \"\"\"\n",
    "records = execute_query(query)\n",
    "print(records)"
   ]
  },
  {
   "cell_type": "markdown",
   "metadata": {},
   "source": [
    "**Match nodes according to relationships (directed)**: now you're going to search the paths that represent directed relationships. In your dataset, Countries and Continents contain Airports, which indicates a directed relationship as the inverse relationship is not true (for example, Airports do not contain Continents). For that, you will use the syntax `()-[r:Contains]->()` where the `->` indicates the direction of the relation and `Contains` is the label of the relationship. When returning a path, you assign the entire pattern to a variable, as seen below where you'll assign the path to a variable `p`."
   ]
  },
  {
   "cell_type": "code",
   "execution_count": null,
   "metadata": {},
   "outputs": [],
   "source": [
    "query = \"MATCH p=()-[r:Contains]->() RETURN p LIMIT 10\"\n",
    "records = execute_query(query)\n",
    "print(records)"
   ]
  },
  {
   "cell_type": "markdown",
   "metadata": {},
   "source": [
    "<a name='2.4'></a>\n",
    "### 2.4 - Getting Properties\n",
    "\n",
    "Apart from a label, nodes can have some other properties."
   ]
  },
  {
   "cell_type": "markdown",
   "metadata": {},
   "source": [
    "<a name='ex05'></a>\n",
    "### Exercise 5\n",
    "\n",
    "Complete the code to **get properties of the nodes**. Use the `properties()` function passing the node variable `a` to get the properties of nodes with the label `Airport`. Limit your result to only 1 node."
   ]
  },
  {
   "cell_type": "code",
   "execution_count": null,
   "metadata": {
    "exercise": [
     "ex05"
    ],
    "tags": [
     "graded"
    ]
   },
   "outputs": [],
   "source": [
    "### START CODE HERE ### (1 line of code)\n",
    "query = \"MATCH (None:None) RETURN None(None) LIMIT None\"\n",
    "### END CODE HERE ###\n",
    "records = execute_query(query)\n",
    "print(records)"
   ]
  },
  {
   "cell_type": "markdown",
   "metadata": {},
   "source": [
    "##### __Expected Output__ \n",
    "\n",
    "```json\n",
    "[\n",
    "  {\n",
    "    \"properties(a)\": {\n",
    "      \"region\": \"US-AK\",\n",
    "      \"lon\": -149.996002197266,\n",
    "      \"desc\": \"Anchorage Ted Stevens\",\n",
    "      \"elev\": 151,\n",
    "      \"code\": \"ANC\",\n",
    "      \"type\": \"airport\",\n",
    "      \"longest\": 12400,\n",
    "      \"country\": \"US\",\n",
    "      \"city\": \"Anchorage\",\n",
    "      \"id\": 2,\n",
    "      \"runways\": 3,\n",
    "      \"icao\": \"PANC\",\n",
    "      \"lat\": 61.1744003295898\n",
    "    }\n",
    "  }\n",
    "]\n",
    "```"
   ]
  },
  {
   "cell_type": "markdown",
   "metadata": {},
   "source": [
    "Not only can nodes have properties, but relationships can have properties, too!"
   ]
  },
  {
   "cell_type": "markdown",
   "metadata": {},
   "source": [
    "<a name='ex06'></a>\n",
    "### Exercise 6\n",
    "\n",
    "Complete the query to **get properties of the relationship** with type `Route`. Use the `properties()` function passing the relationship `r`. Limit your results to just 1 value."
   ]
  },
  {
   "cell_type": "code",
   "execution_count": null,
   "metadata": {
    "exercise": [
     "ex06"
    ],
    "tags": [
     "graded"
    ]
   },
   "outputs": [],
   "source": [
    "### START CODE HERE ### (1 line of code)\n",
    "query = \"MATCH ()-[r:Route]-() RETURN None(None) LIMIT None\"\n",
    "### END CODE HERE ###\n",
    "records = execute_query(query)\n",
    "print(records)"
   ]
  },
  {
   "cell_type": "markdown",
   "metadata": {},
   "source": [
    "##### __Expected Output__ \n",
    "\n",
    "```json\n",
    "[\n",
    "  {\n",
    "    \"properties(r)\": {\n",
    "      \"dist\": 1732\n",
    "    }\n",
    "  }\n",
    "]\n",
    "```"
   ]
  },
  {
   "cell_type": "markdown",
   "metadata": {},
   "source": [
    "**Match nodes by label and property**:  You can use the properties to filter your results and extract only the nodes with a particular value of a certain property."
   ]
  },
  {
   "cell_type": "code",
   "execution_count": null,
   "metadata": {},
   "outputs": [],
   "source": [
    "query = \"MATCH (a:Airport {code : 'BOS'}) RETURN a\"\n",
    "records = execute_query(query)\n",
    "print(records)"
   ]
  },
  {
   "cell_type": "markdown",
   "metadata": {},
   "source": [
    "**Match all relationships and aggregate a property**: Properties of relationships can be used to perform aggregations. For example, let's get the average distance of all routes."
   ]
  },
  {
   "cell_type": "code",
   "execution_count": null,
   "metadata": {},
   "outputs": [],
   "source": [
    "query = \"MATCH ()-[r:Route]->() RETURN avg(r.dist)\"\n",
    "records = execute_query(query)\n",
    "print(records)"
   ]
  },
  {
   "cell_type": "markdown",
   "metadata": {},
   "source": [
    "<a name='2.5'></a>\n",
    "### 2.5 - Filtering Statements\n",
    "\n",
    "**Match nodes with a `WHERE` clause**: The `WHERE` statement is used to filter the results based on conditions. It allows you to specify conditions that nodes, relationships, or properties must meet to be included in the result. The syntax looks like\n",
    "\n",
    "```cypher\n",
    "MATCH <PATTERN>\n",
    "WHERE <NODE-OR-RELATION>.<PROPERTY> = <VALUE>\n",
    "RETURN <PATTERN>\n",
    "```\n",
    "    "
   ]
  },
  {
   "cell_type": "markdown",
   "metadata": {},
   "source": [
    "<a name='ex07'></a>\n",
    "### Exercise 7\n",
    "\n",
    "Extract the origin airport from routes with a distance larger than 1000 miles from the destination airport. These nodes can be filtered out using the route `r` property `.dist`. Return the nodes `a` limiting the result to only 5 values."
   ]
  },
  {
   "cell_type": "code",
   "execution_count": null,
   "metadata": {
    "exercise": [
     "ex07"
    ],
    "tags": [
     "graded"
    ]
   },
   "outputs": [],
   "source": [
    "### START CODE HERE ### (1 line of code)\n",
    "query = \"MATCH (a:Airport)-[r:Route]->(b:Airport) WHERE None.None > 1000 RETURN None LIMIT None\"\n",
    "### END CODE HERE ###\n",
    "\n",
    "records = execute_query(query)\n",
    "print(records)"
   ]
  },
  {
   "cell_type": "markdown",
   "metadata": {},
   "source": [
    "##### __Expected Output__ \n",
    "\n",
    "*Note*: Not all of the output is shown and the order of the nodes can be different.\n",
    "\n",
    "```json\n",
    "[\n",
    "  {\n",
    "    \"a\": {\n",
    "      \"country\": \"US\",\n",
    "      \"longest\": 11489,\n",
    "      \"code\": \"PHX\",\n",
    "      \"city\": \"Phoenix\",\n",
    "      \"lon\": -112.012001037598,\n",
    "      \"type\": \"airport\",\n",
    "      \"elev\": 1135,\n",
    "      \"icao\": \"KPHX\",\n",
    "      \"id\": 20,\n",
    "      \"runways\": 3,\n",
    "      \"region\": \"US-AZ\",\n",
    "      \"lat\": 33.4342994689941,\n",
    "      \"desc\": \"Phoenix Sky Harbor International Airport\"\n",
    "    }\n",
    "  },\n",
    "...\n",
    "]\n",
    "```"
   ]
  },
  {
   "cell_type": "markdown",
   "metadata": {},
   "source": [
    "<a name='2.6'></a>\n",
    "### 2.6 - Create Statements\n",
    "\n",
    "Let's perform some **creation operations**. The `CREATE` statement is used to create new nodes and relationships in the graph. It allows you to specify the structure and properties of the new elements. To create a new node with some properties and return the node you can use a syntax like:\n",
    "\n",
    "```cypher\n",
    "CREATE (<VARIABLE>:<LABEL> {<PROPERTY> : <VALUE>, ..., <PROPERTY> : <VALUE>})\n",
    "RETURN <VARIABLE>\n",
    "```"
   ]
  },
  {
   "cell_type": "markdown",
   "metadata": {},
   "source": [
    "In the next two cells you will add the following two airports:\n",
    "\n",
    "1. **Airport 1:**\n",
    "  * Country: \"US\"\n",
    "  * Longest: 1008\n",
    "  * Code: \"CLR\"\n",
    "  * City: \"Calipatria\"\n",
    "  * Longitud: -115.521389\n",
    "  * Type: \"airport\"\n",
    "  * Elevation: -182\n",
    "  * ICAO Code: \"KCLR\"\n",
    "  * ID: 3800\n",
    "  * Region: \"US-CA\"\n",
    "  * Runaways: 1\n",
    "  * Latitude: 33.131389\n",
    "  * Description: \"Cliff Hatfield Memorial Airport\"\n",
    "\n",
    "\n",
    "2. **Airport 2:**\n",
    "  * Country: \"US\"\n",
    "  * Longest: 803\n",
    "  * Code: \"BWC\"\n",
    "  * City: \"Brawley\"\n",
    "  * Longitud: -115.516944\n",
    "  * Type: \"airport\"\n",
    "  * Elevation: -100\n",
    "  * ICAO Code: \"KBWC\"\n",
    "  * ID: 3801\n",
    "  * Region: \"US-CA\"\n",
    "  * Runaways: 1\n",
    "  * Latitude: 32.993056\n",
    "  * Description: \"Brawley Municipal Airport\""
   ]
  },
  {
   "cell_type": "code",
   "execution_count": null,
   "metadata": {},
   "outputs": [],
   "source": [
    "query = \"CREATE (a:Airport {country : 'US', longest : 1008, code: 'CLR', city: 'Calipatria', lon: -115.521389, type: 'airport', elev: -182, icao: 'KCLR', id: 3800, region: 'US-CA', runaways: 1, lat: 33.131389, desc: 'Cliff Hatfield Memorial Airport' }) RETURN a\"\n",
    "records = execute_query(query)\n",
    "print(records)"
   ]
  },
  {
   "cell_type": "code",
   "execution_count": null,
   "metadata": {},
   "outputs": [],
   "source": [
    "query = \"CREATE (a:Airport {country : 'US', longest : 803, code: 'BWC', city: 'Brawley', lon: -115.516944, type: 'airport', elev: -100, icao: 'KBWC', id: 3801, region: 'US-CA', runaways: 1, lat: 32.993056, desc: 'Brawley Municipal Airport' }) RETURN a\"\n",
    "records = execute_query(query)\n",
    "print(records)"
   ]
  },
  {
   "cell_type": "markdown",
   "metadata": {},
   "source": [
    "To create a new relationship between the nodes, you can use `MATCH` statement to search the nodes you want to join according to a property and then the `CREATE` statement to introduce the relationship, such as:\n",
    "\n",
    "```cypher\n",
    "MATCH (<NODE1>:<TYPE> {<PROPERTY>: <VALUE>}), (<NODE2>:<TYPE> {<PROPERTY>: <VALUE2>})\n",
    "CREATE (<NODE1>)-[:<RELATIONSHIP> {<PROPERTY>: <VALUE>}]->(<NODE2>)\n",
    "```\n",
    "\n",
    "Take into account that at creation time, relationships between nodes must be directed in Cypher. Despite that, you can always query it as an undirected relationship. "
   ]
  },
  {
   "cell_type": "markdown",
   "metadata": {},
   "source": [
    "<a name='ex08'></a>\n",
    "### Exercise 8\n",
    "\n",
    "Use the two nodes that you just created using the nodes' `code` properties `'CLR'` and `'BWC'`. Set the distance property `dist` as 12 (there are around 12 miles between the two airports). Return the created relationship."
   ]
  },
  {
   "cell_type": "code",
   "execution_count": null,
   "metadata": {
    "exercise": [
     "ex08"
    ],
    "tags": [
     "graded"
    ]
   },
   "outputs": [],
   "source": [
    "### START CODE HERE ### (1 line of code)\n",
    "query = \"MATCH (a:Airport {None: 'None'}), (b:Airport {None: 'None'}) CREATE (a)-[r:Route {None: None}]->(b) RETURN None\"\n",
    "### END CODE HERE ### \n",
    "records = execute_query(query)\n",
    "print(records)"
   ]
  },
  {
   "cell_type": "markdown",
   "metadata": {},
   "source": [
    "##### __Expected Output__ \n",
    "\n",
    "```json\n",
    "[\n",
    "  {\n",
    "    \"r\": [\n",
    "      {},\n",
    "      \"Route\",\n",
    "      {}\n",
    "    ]\n",
    "  }\n",
    "]\n",
    "```"
   ]
  },
  {
   "cell_type": "markdown",
   "metadata": {},
   "source": [
    "Now that you created the nodes and the relationship, query the path with all the destinations associated with the `'CLR'` origin airport."
   ]
  },
  {
   "cell_type": "code",
   "execution_count": null,
   "metadata": {},
   "outputs": [],
   "source": [
    "query = \"\"\"\n",
    "        MATCH p=(a:Airport {code: 'CLR'})-[r]->(n)        \n",
    "        RETURN p\n",
    "        \"\"\"\n",
    "records = execute_query(query)\n",
    "print(records)"
   ]
  },
  {
   "cell_type": "markdown",
   "metadata": {},
   "source": [
    "##### __Expected Output__ \n",
    "\n",
    "```json\n",
    "[\n",
    "  {\n",
    "    \"p\": [\n",
    "      {\n",
    "        \"country\": \"US\",\n",
    "        \"longest\": 1008,\n",
    "        \"code\": \"CLR\",\n",
    "        \"city\": \"Calipatria\",\n",
    "        \"lon\": -115.521389,\n",
    "        \"type\": \"airport\",\n",
    "        \"elev\": -182,\n",
    "        \"runaways\": 1,\n",
    "        \"icao\": \"KCLR\",\n",
    "        \"id\": 3800,\n",
    "        \"region\": \"US-CA\",\n",
    "        \"lat\": 33.131389,\n",
    "        \"desc\": \"Cliff Hatfield Memorial Airport\"\n",
    "      },\n",
    "      \"Route\",\n",
    "      {\n",
    "        \"country\": \"US\",\n",
    "        \"longest\": 803,\n",
    "        \"code\": \"BWC\",\n",
    "        \"city\": \"Brawley\",\n",
    "        \"lon\": -115.516944,\n",
    "        \"type\": \"airport\",\n",
    "        \"elev\": -100,\n",
    "        \"runaways\": 1,\n",
    "        \"icao\": \"KBWC\",\n",
    "        \"id\": 3801,\n",
    "        \"region\": \"US-CA\",\n",
    "        \"lat\": 32.993056,\n",
    "        \"desc\": \"Brawley Municipal Airport\"\n",
    "      }\n",
    "    ]\n",
    "  }\n",
    "]\n",
    "```"
   ]
  },
  {
   "cell_type": "markdown",
   "metadata": {},
   "source": [
    "<a name='2.7'></a>\n",
    "### 2.7 - Update Operations\n",
    "\n",
    "You can use `MATCH`, `WHERE` and `SET` statements to update node properties, using a syntax like:\n",
    "\n",
    "```cypher\n",
    "MATCH (<NODE>:<TYPE>)\n",
    "WHERE <NODE>.<CONDITIONAL-PROPERTY> = <CONDITIONAL-VALUE>\n",
    "SET <NODE>.<PROPERTY-TO-UPDATE> = <NEW-VALUE>\n",
    "```\n",
    "\n",
    "With `MATCH` and `WHERE` you will select and filter a node according to a particular condition, while the `SET` statement is used to update the values. "
   ]
  },
  {
   "cell_type": "markdown",
   "metadata": {},
   "source": [
    "<a name='ex09'></a>\n",
    "### Exercise 9\n",
    "\n",
    "Complete the query to update the airport with code `'BWC'`. Its elevation (property `elev`) is actually -128 ft instead of the -100 ft value that has been inserted previously."
   ]
  },
  {
   "cell_type": "code",
   "execution_count": null,
   "metadata": {
    "exercise": [
     "ex09"
    ],
    "tags": [
     "graded"
    ]
   },
   "outputs": [],
   "source": [
    "### START CODE HERE ### (1 line of code)\n",
    "query = \"MATCH (a:None) WHERE None.None = 'None' SET None.None = -128 RETURN a\"\n",
    "### END CODE HERE ###\n",
    "records = execute_query(query)\n",
    "print(records)"
   ]
  },
  {
   "cell_type": "markdown",
   "metadata": {},
   "source": [
    "##### __Expected Output__ \n",
    "\n",
    "```json\n",
    "[\n",
    "  {\n",
    "    \"a\": {\n",
    "      \"country\": \"US\",\n",
    "      \"longest\": 803,\n",
    "      \"code\": \"BWC\",\n",
    "      \"city\": \"Brawley\",\n",
    "      \"lon\": -115.516944,\n",
    "      \"type\": \"airport\",\n",
    "      \"elev\": -128,\n",
    "      \"runaways\": 1,\n",
    "      \"icao\": \"KBWC\",\n",
    "      \"id\": 3801,\n",
    "      \"region\": \"US-CA\",\n",
    "      \"lat\": 32.993056,\n",
    "      \"desc\": \"Brawley Municipal Airport\"\n",
    "    }\n",
    "  }\n",
    "]\n",
    "```"
   ]
  },
  {
   "cell_type": "markdown",
   "metadata": {},
   "source": [
    "<a name='ex10'></a>\n",
    "### Exercise 10\n",
    "\n",
    "Now, query the airport with code `'BWC'` and return the elevation to check that the value has been updated."
   ]
  },
  {
   "cell_type": "code",
   "execution_count": null,
   "metadata": {
    "exercise": [
     "ex10"
    ],
    "tags": [
     "graded"
    ]
   },
   "outputs": [],
   "source": [
    "### START CODE HERE ### (1 line of code)\n",
    "query = \"MATCH (a:None {None: 'None'}) RETURN None.None\"\n",
    "### END CODE HERE ### \n",
    "records = execute_query(query)\n",
    "print(records)"
   ]
  },
  {
   "cell_type": "markdown",
   "metadata": {},
   "source": [
    "##### __Expected Output__ \n",
    "\n",
    "```json\n",
    "[\n",
    "  {\n",
    "    \"a.elev\": -128\n",
    "  }\n",
    "]\n",
    "```"
   ]
  },
  {
   "cell_type": "markdown",
   "metadata": {},
   "source": [
    "<a name='2.8'></a>\n",
    "### 2.8 - Delete Statements\n",
    "\n",
    "As an important part of the CRUD operations, the `DELETE` statement is used to delete nodes and relationships from the graph. It allows you to specify the elements to delete based on patterns or conditions. \n",
    "\n",
    "With the deletion of a specific node, you should also delete the associated relationships. Here's the syntax for deletion:\n",
    "\n",
    "```cypher\n",
    "MATCH (<NODE>:<TYPE>)-[r]-()\n",
    "WHERE <NODE>.<PROPERTY> = <VALUE>\n",
    "DELETE r, <NODE>\n",
    "\n",
    "```"
   ]
  },
  {
   "cell_type": "markdown",
   "metadata": {},
   "source": [
    "In the next exercises, you will delete the last two nodes that you inserted."
   ]
  },
  {
   "cell_type": "markdown",
   "metadata": {},
   "source": [
    "<a name='ex11'></a>\n",
    "### Exercise 11\n",
    "\n",
    "Delete the airport node with the code `'CLR'` and the relationship associated with it."
   ]
  },
  {
   "cell_type": "code",
   "execution_count": null,
   "metadata": {
    "exercise": [
     "ex11"
    ],
    "tags": [
     "graded"
    ]
   },
   "outputs": [],
   "source": [
    "### START CODE HERE ### (1 line of code)\n",
    "query = \"MATCH (a:None)-[r]-() WHERE None.None = 'None' DELETE None, None\"\n",
    "### END CODE HERE ### \n",
    "records = execute_query(query)\n",
    "print(records)"
   ]
  },
  {
   "cell_type": "markdown",
   "metadata": {},
   "source": [
    "##### __Expected Output__ \n",
    "\n",
    "```json\n",
    "[]\n",
    "```"
   ]
  },
  {
   "cell_type": "markdown",
   "metadata": {},
   "source": [
    "<a name='ex12'></a>\n",
    "### Exercise 12\n",
    "\n",
    "Delete the second airport node with the code `'BWC'`."
   ]
  },
  {
   "cell_type": "code",
   "execution_count": null,
   "metadata": {
    "exercise": [
     "ex12"
    ],
    "tags": [
     "graded"
    ]
   },
   "outputs": [],
   "source": [
    "### START CODE HERE ### (1 line of code)\n",
    "query = \"MATCH (a:None) WHERE None.None = 'None' DELETE None\"\n",
    "### END CODE HERE ### \n",
    "records = execute_query(query)\n",
    "print(records)"
   ]
  },
  {
   "cell_type": "markdown",
   "metadata": {},
   "source": [
    "##### __Expected Output__ \n",
    "\n",
    "```json\n",
    "[]\n",
    "```"
   ]
  },
  {
   "cell_type": "markdown",
   "metadata": {},
   "source": [
    "<a name='ex13'></a>\n",
    "### Exercise 13\n",
    "\n",
    "Complete the query to search for the two deleted nodes (codes `'CLR'` and `'BWC'`). The expected output is an empty list."
   ]
  },
  {
   "cell_type": "code",
   "execution_count": null,
   "metadata": {
    "exercise": [
     "ex13"
    ],
    "tags": [
     "graded"
    ]
   },
   "outputs": [],
   "source": [
    "### START CODE HERE ### (1 line of code)\n",
    "query = \"MATCH (a:None {None: 'None'}), (b:None {None: 'None'}) RETURN None, None\"\n",
    "### END CODE HERE ### \n",
    "records = execute_query(query)\n",
    "print(records)"
   ]
  },
  {
   "cell_type": "markdown",
   "metadata": {},
   "source": [
    "##### __Expected Output__ \n",
    "\n",
    "```json\n",
    "[]\n",
    "```"
   ]
  },
  {
   "cell_type": "markdown",
   "metadata": {},
   "source": [
    "<a name='3'></a>\n",
    "## 3 - Advanced Queries\n",
    "\n",
    "In the previous section, you have learned the basic syntax for the CRUD operations in Cypher. In the following exercises, you will create some more advanced queries to search for complex paths and patterns in your data."
   ]
  },
  {
   "cell_type": "markdown",
   "metadata": {},
   "source": [
    "<a name='ex14'></a>\n",
    "### Exercise 14\n",
    "\n",
    "Find **the number of all direct routes** from LaGuardia Airport in New York (code `'LGA'`). You will need to use the syntax for a path between two nodes and the function `count()` applied to the `r`. Add the `DISTINCT` keyword before that. Name your result as `count_routes`."
   ]
  },
  {
   "cell_type": "code",
   "execution_count": null,
   "metadata": {
    "exercise": [
     "ex14"
    ],
    "tags": [
     "graded"
    ]
   },
   "outputs": [],
   "source": [
    "### START CODE HERE ### (1 line of code)\n",
    "query = \"MATCH (origin:Airport {None: 'None'})-[r:None]->(dest:Airport) RETURN None None(None) AS None\"\n",
    "### END CODE HERE ###\n",
    "records = execute_query(query)\n",
    "print(records)"
   ]
  },
  {
   "cell_type": "markdown",
   "metadata": {},
   "source": [
    "##### __Expected Output__ \n",
    "\n",
    "```json\n",
    "[\n",
    "  {\n",
    "    \"count_routes\": 81\n",
    "  }\n",
    "]\n",
    "```"
   ]
  },
  {
   "cell_type": "markdown",
   "metadata": {},
   "source": [
    "In the next exercise, you will use **WITH** clause which allows you to chain query parts together, carrying over variables or introducing new ones for further operations. As it has been noted above, variables do not get passed to the subsequent parts of the query, unless they are included in the WITH clause. This feature is particularly useful for performing aggregations, filtering results, or managing complex queries by breaking them down into simpler, manageable parts."
   ]
  },
  {
   "cell_type": "markdown",
   "metadata": {},
   "source": [
    "<a name='ex15'></a>\n",
    "### Exercise 15\n",
    "\n",
    "Show 10 airports located in the United States (`country` property equal to `US`) that only have one route. You will need to use the function `count()` and `WHERE` statement based on the result of that. The WITH clause will be used to count the routes for each airport and carry over the results for filtering."
   ]
  },
  {
   "cell_type": "code",
   "execution_count": null,
   "metadata": {
    "exercise": [
     "ex15"
    ],
    "tags": [
     "graded"
    ]
   },
   "outputs": [],
   "source": [
    "### START CODE HERE ### (1 line of code)\n",
    "query = \"MATCH (a:Airport)-[r:Route]->(b:Airport) WITH a, None(r) AS count_routes WHERE None=1 and None.None = 'None' RETURN a LIMIT 10\"\n",
    "### END CODE HERE ###\n",
    "records = execute_query(query)\n",
    "print(records)"
   ]
  },
  {
   "cell_type": "markdown",
   "metadata": {},
   "source": [
    "##### __Expected Output__ \n",
    "\n",
    "*Note*: Not all of the output is shown and the order of the nodes can be different.\n",
    "\n",
    "```json\n",
    "[\n",
    "  {\n",
    "    \"a\": {\n",
    "      \"country\": \"US\",\n",
    "      \"longest\": 6601,\n",
    "      \"code\": \"TXK\",\n",
    "      \"city\": \"Texarkana\",\n",
    "      \"lon\": -93.9909973144531,\n",
    "      \"type\": \"airport\",\n",
    "      \"elev\": 390,\n",
    "      \"icao\": \"KTXK\",\n",
    "      \"id\": 300,\n",
    "      \"runways\": 2,\n",
    "      \"region\": \"US-AR\",\n",
    "      \"lat\": 33.4537010192871,\n",
    "      \"desc\": \"Texarkana Regional Webb Field\"\n",
    "    }\n",
    "  },\n",
    "...\n",
    "]\n",
    "```"
   ]
  },
  {
   "cell_type": "markdown",
   "metadata": {
    "vscode": {
     "languageId": "plaintext"
    }
   },
   "source": [
    "<a name='ex16'></a>\n",
    "### Exercise 16\n",
    "\n",
    "Find the possible routes that use only one intermediary airport starting from Columbia Regional Airport (`'COU'`) and ending in Miami International Airport (`'MIA'`). Remember the syntax to define how many relationships are needed in a path.\n",
    "\n",
    "The syntax `[:Route*..2]` is used to capture paths with up to 2 relationships, meaning direct flights and those with one intermediary airport."
   ]
  },
  {
   "cell_type": "code",
   "execution_count": null,
   "metadata": {
    "exercise": [
     "ex16"
    ],
    "tags": [
     "graded"
    ]
   },
   "outputs": [],
   "source": [
    "### START CODE HERE ### (1 line of code)\n",
    "query = \"MATCH paths=(origin:Airport {code: 'None'})-[:Route*..2]->(dest:Airport{code: 'None'}) RETURN None\"\n",
    "### END CODE HERE ###\n",
    "records = execute_query(query)\n",
    "print(records)"
   ]
  },
  {
   "cell_type": "markdown",
   "metadata": {},
   "source": [
    "##### __Expected Output__ \n",
    "\n",
    "*Note*: Not all of the output is shown and the order of the nodes can be different.\n",
    "\n",
    "```json\n",
    "[\n",
    "{\n",
    "    \"paths\": [\n",
    "      {\n",
    "        \"country\": \"US\",\n",
    "        \"longest\": 6501,\n",
    "        \"code\": \"COU\",\n",
    "        \"city\": \"Columbia\",\n",
    "        \"lon\": -92.219596862793,\n",
    "        \"type\": \"airport\",\n",
    "        \"elev\": 889,\n",
    "        \"icao\": \"KCOU\",\n",
    "        \"id\": 377,\n",
    "        \"runways\": 2,\n",
    "        \"region\": \"US-MO\",\n",
    "        \"lat\": 38.8180999755859,\n",
    "        \"desc\": \"Columbia Regional Airport\"\n",
    "      },\n",
    "      \"Route\",\n",
    "      {\n",
    "        \"country\": \"US\",\n",
    "        \"longest\": 13000,\n",
    "        \"code\": \"ORD\",\n",
    "        \"city\": \"Chicago\",\n",
    "        \"lon\": -87.90480042,\n",
    "        \"type\": \"airport\",\n",
    "        \"elev\": 672,\n",
    "        \"icao\": \"KORD\",\n",
    "        \"id\": 18,\n",
    "        \"runways\": 7,\n",
    "        \"region\": \"US-IL\",\n",
    "        \"lat\": 41.97859955,\n",
    "        \"desc\": \"Chicago O'Hare International Airport\"\n",
    "      },\n",
    "      \"Route\",\n",
    "      {\n",
    "        \"country\": \"US\",\n",
    "        \"longest\": 13016,\n",
    "        \"code\": \"MIA\",\n",
    "        \"city\": \"Miami\",\n",
    "        \"lon\": -80.2906036376953,\n",
    "        \"type\": \"airport\",\n",
    "        \"elev\": 8,\n",
    "        \"icao\": \"KMIA\",\n",
    "        \"id\": 16,\n",
    "        \"runways\": 4,\n",
    "        \"region\": \"US-FL\",\n",
    "        \"lat\": 25.7931995391846,\n",
    "        \"desc\": \"Miami International Airport\"\n",
    "      }\n",
    "    ]\n",
    "  },\n",
    "...\n",
    "]\n",
    "```"
   ]
  },
  {
   "cell_type": "markdown",
   "metadata": {},
   "source": [
    "Finally, using the [shortestPath()](https://neo4j.com/docs/cypher-manual/current/appendix/tutorials/shortestpath-planning/)  function, you can find the shortest path between the airport Guillermo LeГіn Valencia (`'PPN'`) in Colombia and Newman Airport (`'ZNE'`) in Australia."
   ]
  },
  {
   "cell_type": "code",
   "execution_count": null,
   "metadata": {},
   "outputs": [],
   "source": [
    "query =\"MATCH p=shortestPath((origin:Airport {code: 'PPN'})-[:Route*1..20]->(dest:Airport{code: 'ZNE'})) RETURN p\"\n",
    "records = execute_query(query)\n",
    "print(records)"
   ]
  },
  {
   "cell_type": "markdown",
   "metadata": {},
   "source": [
    "The previous query will return the shortest path assuming all routes are the same, but the air routes graph does contain the distance for each route as a property. So you can refer to the air routes graph as a weighted graph, where each edge (i.e. route) between nodes has a weight which is denoted by the distance of that route. To perform a more accurate search in a weighted graph you should use an algorithm such as the Dijkstra Shortest Path Algorithm. This is one of the procedures that has already been implemented in Neo4j and in most Graph Databases. This algorithm is out of the scope of this lab, but if you are interested, you can read about it [here](https://neo4j.com/docs/graph-data-science/current/algorithms/dijkstra-single-source/)."
   ]
  },
  {
   "cell_type": "markdown",
   "metadata": {},
   "source": [
    "<a name='4'></a>\n",
    "## 4 - Upload Files for Grading\n",
    "\n",
    "Upload the notebook into S3 bucket for grading purposes.\n",
    "\n",
    "*Note*: you may need to click **Save** button before the upload."
   ]
  },
  {
   "cell_type": "code",
   "execution_count": null,
   "metadata": {},
   "outputs": [],
   "source": [
    "# Retrieve the AWS account ID\n",
    "result = subprocess.run(['aws', 'sts', 'get-caller-identity', '--query', 'Account', '--output', 'text'], capture_output=True, text=True)\n",
    "AWS_ACCOUNT_ID = result.stdout.strip()\n",
    "\n",
    "SUBMISSION_BUCKET = f\"{LAB_PREFIX}-{AWS_ACCOUNT_ID}-us-east-1-submission\"\n",
    "\n",
    "!aws s3 cp ./C3_W1_Assignment.ipynb s3://$SUBMISSION_BUCKET/C3_W1_Assignment_Learner.ipynb"
   ]
  },
  {
   "cell_type": "markdown",
   "metadata": {},
   "source": [
    "<a name='5'></a>\n",
    "## 5 - Vector Search\n",
    "\n",
    "*Note:* This section and Exercise 17 are optional (ungraded).\n",
    "\n",
    "Vector search is a powerful technique in information retrieval, it relies on data representations as vectors in a high-dimensional space. These vectors capture the semantic relationships and similarities between the data points. By leveraging embeddings, which are dense vector representations learned from data, vector search enables efficient and accurate retrieval of relevant information. Neo4j can integrate vector search capabilities by storing embeddings as properties of graph nodes or relationships. This integration empowers Neo4j to perform advanced similarity searches, recommendation systems, and other Machine Learning tasks within the context of graph data structures, enhancing its utility in various domains such as recommendation engines, fraud detection, and knowledge graphs.\n",
    "\n",
    "First, you already have some embeddings in a CSV file that is already hosted in the Neo4j server. To check the file, use the following query to get the first record:"
   ]
  },
  {
   "cell_type": "code",
   "execution_count": null,
   "metadata": {},
   "outputs": [],
   "source": [
    "query =\"\"\"LOAD CSV WITH HEADERS FROM 'file:///air-routes-latest-nodes-with-embeddings.csv' AS row\n",
    "RETURN row LIMIT 1\"\"\"\n",
    "records = execute_query(query)\n",
    "print(records)"
   ]
  },
  {
   "cell_type": "markdown",
   "metadata": {},
   "source": [
    "Now you will proceed to load all the embeddings. You use `MATCH` to find the node and then add the embedding as a property using the `SET` keyword (this is an Update operation!). You can check the embedding file schema by using the following query:"
   ]
  },
  {
   "cell_type": "code",
   "execution_count": null,
   "metadata": {},
   "outputs": [],
   "source": [
    "query =\"\"\"LOAD CSV WITH HEADERS FROM 'file:///air-routes-latest-nodes-with-embeddings.csv' AS row\n",
    "WITH * WHERE row.label = \"airport\"\n",
    "MATCH (a:Airport {id: toInteger(row.id)})\n",
    "SET a.embedding = toFloatList(split(row.embedding,';'))\n",
    "RETURN count(a);\"\"\"\n",
    "result = execute_query(query)"
   ]
  },
  {
   "cell_type": "markdown",
   "metadata": {},
   "source": [
    "<a name='ex17'></a>\n",
    "### Exercise 17"
   ]
  },
  {
   "cell_type": "markdown",
   "metadata": {},
   "source": [
    "1. Go to the Neo4j user interface that you opened in another window in section step [1.2.2.](#1.2). Copy the command from below into the Neo4j command line.\n",
    "![image](./images/neo4j-cmd.png)"
   ]
  },
  {
   "cell_type": "markdown",
   "metadata": {},
   "source": [
    "```cypher\n",
    "CREATE VECTOR INDEX `air-route-embeddings` FOR (n: None) ON (n.None) OPTIONS {indexConfig: {\n",
    " `vector.dimensions`: 1536,\n",
    " `vector.similarity_function`: 'cosine'\n",
    "}}\n",
    "```"
   ]
  },
  {
   "cell_type": "markdown",
   "metadata": {},
   "source": [
    "2. You'll need to complete the code by replacing all of the `None` placeholders. Remember, you are trying to create a vector index for the `Airport` nodes on the `embedding` property. You should use the `'cosine'` similarity function when setting up the configurations. You can read more about the vector index and similarity functions in the documentation [here](https://neo4j.com/docs/cypher-manual/current/indexes/semantic-indexes/vector-indexes/)."
   ]
  },
  {
   "cell_type": "markdown",
   "metadata": {},
   "source": [
    "3. Once you have completed the code you can click run. Then wait until you see the message *Add 1 index, completed after x ms.*\n",
    "![image](./images/neo4j-cmd-run.png)"
   ]
  },
  {
   "cell_type": "markdown",
   "metadata": {},
   "source": [
    "Now that you have the embeddings and a vector index created on top of them, you can start doing a vector search on the graph. This is an example of a query using the vector index to find 5 nodes with similar embeddings and a score of the similarity between them; in this case you want to find airports similar to the one with code `'ANC'`."
   ]
  },
  {
   "cell_type": "code",
   "execution_count": null,
   "metadata": {},
   "outputs": [],
   "source": [
    "vector_query = \"\"\"MATCH (a:Airport {code: 'ANC'}) \n",
    "CALL db.index.vector.queryNodes('air-route-embeddings', 5, a.embedding)\n",
    "YIELD node AS similar_airport, score\n",
    "MATCH (similar_airport)\n",
    "RETURN similar_airport.code, similar_airport.country, similar_airport.desc, similar_airport.region, score\"\"\"\n",
    "records = execute_query(vector_query)\n",
    "print(records)"
   ]
  },
  {
   "cell_type": "markdown",
   "metadata": {},
   "source": [
    "##### __Expected Output__ \n",
    "\n",
    "*Note*: Not all of the output is shown and the order of the records can be different.\n",
    "\n",
    "```json\n",
    "[\n",
    "  {\n",
    "    \"similar_airport.code\": \"ANC\",\n",
    "    \"similar_airport.country\": \"US\",\n",
    "    \"similar_airport.desc\": \"Anchorage Ted Stevens\",\n",
    "    \"similar_airport.region\": \"US-AK\",\n",
    "    \"score\": 1.0\n",
    "  },\n",
    "  {\n",
    "    \"similar_airport.code\": \"AUK\",\n",
    "    \"similar_airport.country\": \"US\",\n",
    "    \"similar_airport.desc\": \"Alakanuk Airport\",\n",
    "    \"similar_airport.region\": \"US-AK\",\n",
    "    \"score\": 0.9300153255462646\n",
    "  },\n",
    "...\n",
    "]\n",
    "```"
   ]
  },
  {
   "cell_type": "markdown",
   "metadata": {},
   "source": [
    "As you can appreciate the top result is the same node you were using to search for similar ones, the airport is Anchorage Ted Stevens and it is located in Alaska. The next 4 results are airports with similar embeddings, in this case, they are also airports in Alaska; as the airports share similar properties is no wonder why they are the most similar to the one in Anchorage.\n",
    "\n",
    "Now run a vector search to find 10 airports similar to LaGuardia Airport in New York, retrieve their code, country, description and region."
   ]
  },
  {
   "cell_type": "code",
   "execution_count": null,
   "metadata": {},
   "outputs": [],
   "source": [
    "vector_query = \"\"\"MATCH (a:Airport {code: 'LGA'}) \n",
    "CALL db.index.vector.queryNodes('air-route-embeddings', 10, a.embedding)\n",
    "YIELD node AS similar_airport, score\n",
    "MATCH (similar_airport)\n",
    "RETURN similar_airport.code, similar_airport.country, similar_airport.desc, similar_airport.region, score\"\"\"\n",
    "records = execute_query(vector_query)\n",
    "print(records)"
   ]
  },
  {
   "cell_type": "markdown",
   "metadata": {},
   "source": [
    "##### __Expected Output__ \n",
    "\n",
    "*Note*: Not all of the output is shown and the order of the records can be different.\n",
    "\n",
    "```json\n",
    "[\n",
    "  {\n",
    "    \"similar_airport.code\": \"LGA\",\n",
    "    \"similar_airport.country\": \"US\",\n",
    "    \"similar_airport.desc\": \"New York La Guardia\",\n",
    "    \"similar_airport.region\": \"US-NY\",\n",
    "    \"score\": 0.9999998807907104\n",
    "  },\n",
    "  {\n",
    "    \"similar_airport.code\": \"ISP\",\n",
    "    \"similar_airport.country\": \"US\",\n",
    "    \"similar_airport.desc\": \"Long Island Mac Arthur Airport\",\n",
    "    \"similar_airport.region\": \"US-NY\",\n",
    "    \"score\": 0.8915630578994751\n",
    "  },\n",
    "...\n",
    "]\n",
    "```"
   ]
  },
  {
   "cell_type": "markdown",
   "metadata": {},
   "source": [
    "This lab has demonstrated the significant advantages of leveraging graph databases and vector search techniques. By representing data as interconnected nodes and relationships, graph databases inherently capture complex relationships and dependencies, enabling more nuanced and insightful analysis compared to traditional relational databases. When combined with vector search capabilities, you can also extend the functionality of graph representation to incorporate semantic similarity searches, recommendation systems, and other advanced analytics tasks. You can find different Graph Database alternatives in the market apart from Neo4j. For example in AWS, Amazon Neptune is a fully managed graph database service that enables building graph-based applications in the cloud. One of Neptune's advantages is that it incorporates a variety of well-known graph query languages such as OpenCypher."
   ]
  },
  {
   "cell_type": "markdown",
   "metadata": {},
   "source": [
    "In case if you want to go back to the exercises before this optional section, you may want to cleanup the embeddings. To do that, go to the Neo4j user interface that you opened in another window in section step [1.2.2.](#1.2). Copy the command from below into the Neo4j command line to remove the index.\n",
    "\n",
    "```cypher\n",
    "DROP INDEX `air-route-embeddings` \n",
    "```\n",
    "\n",
    "Then run the following cell to perform the cleanup of the embeddings:"
   ]
  },
  {
   "cell_type": "code",
   "execution_count": null,
   "metadata": {},
   "outputs": [],
   "source": [
    "cleanup_query = \"\"\"MATCH (a:Airport)\n",
    "WHERE a.embedding IS NOT NULL\n",
    "REMOVE a.embedding\n",
    "RETURN count(a)\"\"\"\n",
    "records = execute_query(cleanup_query)\n",
    "print(records)"
   ]
  }
 ],
 "metadata": {
  "kernelspec": {
   "display_name": "Python 3 (ipykernel)",
   "language": "python",
   "name": "python3"
  },
  "language_info": {
   "codemirror_mode": {
    "name": "ipython",
    "version": 3
   },
   "file_extension": ".py",
   "mimetype": "text/x-python",
   "name": "python",
   "nbconvert_exporter": "python",
   "pygments_lexer": "ipython3",
   "version": "3.9.16"
  }
 },
 "nbformat": 4,
 "nbformat_minor": 4
}
