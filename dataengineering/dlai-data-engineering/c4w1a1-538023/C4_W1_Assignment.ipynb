{
 "cells": [
  {
   "cell_type": "markdown",
   "metadata": {},
   "source": [
    "# Data Modeling with DBT\n",
    "\n",
    "During this week's assignment, you will learn how to model a dataset based on two multi-dimensional data models such as the Star Schema and One Big Table (OBT)."
   ]
  },
  {
   "cell_type": "markdown",
   "metadata": {},
   "source": [
    "# Table of Contents\n",
    "\n",
    "- [ 1 - Introduction and Setup](#1)\n",
    "  - [ 1.1 - Initiating dbt 101 Project](#1.1)\n",
    "  - [ 1.2 - Source Configuration](#1.2)\n",
    "- [ 2 - Modeling](#2)\n",
    "- [ 3 - Star Schema](#3)\n",
    "  - [ 3.1 - Description of the Approach](#3.1)\n",
    "  - [ 3.2 - Creating the Facts Table](#3.2)\n",
    "  - [ 3.3 - Creating the Customers Dimension Table](#3.3)\n",
    "  - [ 3.4 - Creating the Employees Dimension Table](#3.4)\n",
    "  - [ 3.5 - Creating the Office Dimension Table](#3.5)\n",
    "  - [ 3.6 - Creating the Product Dimension Table](#3.6)\n",
    "  - [ 3.7 - Creating the Date Dimension Table](#3.7)\n",
    "  - [ 3.8 - Running the Star Schema Model](#3.8)\n",
    "- [ 4 - One Big Table (OBT)](#4)\n",
    "- [ 5 - Performing Tests over the Data in the New Models](#5)\n",
    "- [ 6 - Upload Files for Grading](#6)"
   ]
  },
  {
   "cell_type": "markdown",
   "metadata": {},
   "source": [
    "Please, load the required SQL model."
   ]
  },
  {
   "cell_type": "code",
   "execution_count": null,
   "metadata": {},
   "outputs": [],
   "source": [
    "%load_ext sql\n",
    "\n",
    "LAB_PREFIX='de-c4w1a1'"
   ]
  },
  {
   "cell_type": "markdown",
   "metadata": {},
   "source": [
    "<a name='1'></a>\n",
    "## 1 - Introduction and Setup\n",
    "\n",
    "Data modeling is one of the pillars of Data Engineering, it involves organizing bits of data into defined models with their respective data types and relationships between each other. Most of the work in data modeling involves using predefined techniques or patterns on a raw dataset based on the business's requirements. Data models like the **Star Schema** and **One Big Table (OBT)** have become popular for analytical workloads in recent years. In this lab, you will apply these models to the `classicmodels` dataset."
   ]
  },
  {
   "cell_type": "markdown",
   "metadata": {},
   "source": [
    "<a name='1.1'></a>\n",
    "### 1.1 - Initiating **dbt 101** Project\n",
    "\n",
    "**dbt** is a transformation workflow command line tool based on SQL, it consists of a compiler and a runner. A user writes `dbt` files and then can invoke `dbt` to run these files on the data warehouse of their choice. The compiler converts the `dbt` files into raw SQL scripts and runs them for you."
   ]
  },
  {
   "cell_type": "markdown",
   "metadata": {},
   "source": [
    "Let's start a `dbt` project.\n",
    "\n",
    "*Note*:<span style=\"color:red\"> All terminal commands in this lab should be run in the Cloud9 terminal, not Jupyter, as it may cause some issues.</span>"
   ]
  },
  {
   "cell_type": "markdown",
   "metadata": {},
   "source": [
    "1.1.1. Activate the Python virtual environment for the lab. Run the following command in the Cloud9 terminal:"
   ]
  },
  {
   "cell_type": "markdown",
   "metadata": {},
   "source": [
    "```bash\n",
    "source lab-venv/bin/activate\n",
    "```    "
   ]
  },
  {
   "cell_type": "markdown",
   "metadata": {},
   "source": [
    "1.1.2. Check that `dbt` Core is installed."
   ]
  },
  {
   "cell_type": "markdown",
   "metadata": {},
   "source": [
    "```bash\n",
    "dbt --version\n",
    "```"
   ]
  },
  {
   "cell_type": "markdown",
   "metadata": {},
   "source": [
    "1.1.3. Initiate the `classicmodels_modeling` project with the `init` command:"
   ]
  },
  {
   "cell_type": "markdown",
   "metadata": {},
   "source": [
    "```bash\n",
    "dbt init classicmodels_modeling\n",
    "```"
   ]
  },
  {
   "cell_type": "markdown",
   "metadata": {},
   "source": [
    "Select the `postgres` database by pressing `1` and then `Enter` when prompted to. After that you will be prompted to enter other values, but you should quit that with `Cmd + C` or `Ctrl + C` as you will configure the rest of the connection details later. Check that the folder `classicmodels_modeling` will be created."
   ]
  },
  {
   "cell_type": "markdown",
   "metadata": {},
   "source": [
    "1.1.4. You need to reactivate the Python virtual environment again with the command"
   ]
  },
  {
   "cell_type": "markdown",
   "metadata": {},
   "source": [
    "```bash\n",
    "source lab-venv/bin/activate\n",
    "```"
   ]
  },
  {
   "cell_type": "markdown",
   "metadata": {},
   "source": [
    "1.1.5. Copy the `packages.yml` file to the project folder:"
   ]
  },
  {
   "cell_type": "markdown",
   "metadata": {},
   "source": [
    "```bash\n",
    "cp ./scripts/packages.yml ./classicmodels_modeling/\n",
    "```   "
   ]
  },
  {
   "cell_type": "markdown",
   "metadata": {},
   "source": [
    "1.1.6. Navigate into your project's directory:"
   ]
  },
  {
   "cell_type": "markdown",
   "metadata": {},
   "source": [
    "```bash\n",
    "cd classicmodels_modeling\n",
    "```"
   ]
  },
  {
   "cell_type": "markdown",
   "metadata": {},
   "source": [
    "1.1.7. Run the following command from the `classicmodels_modeling` folder to fetch the latest stable versions of tools and libraries specified in the `packages.yml` file."
   ]
  },
  {
   "cell_type": "markdown",
   "metadata": {},
   "source": [
    "```bash\n",
    "dbt deps\n",
    "```"
   ]
  },
  {
   "cell_type": "markdown",
   "metadata": {},
   "source": [
    "1.1.8. Open the main configuration file for the project `./classicmodels_modeling/dbt_project.yml`. Go through the comments in that file to understand its content."
   ]
  },
  {
   "cell_type": "markdown",
   "metadata": {},
   "source": [
    "<a name='1.2'></a>\n",
    "### 1.2 - Source Configuration\n",
    "\n",
    "When developing with `dbt Core`, `dbt` connects to your data warehouse using a profile, which is a `YAML` file with all the connection details to your warehouse. You are going to use a Postgres database."
   ]
  },
  {
   "cell_type": "markdown",
   "metadata": {},
   "source": [
    "1.2.1. Go to **CloudFormation** in the AWS console. You will see two stacks deployed, one associated with your Cloud9 environment (name with prefix `aws-cloud9`) and another named with an alphanumeric ID. Click on the alphanumeric ID stack and search for the **Outputs** tab. You will see the key `PostgresEndpoint`, copy the corresponding **Value**. "
   ]
  },
  {
   "attachments": {},
   "cell_type": "markdown",
   "metadata": {},
   "source": [
    "1.2.2. Open the file located at `./scripts/profiles.yml`. Replace the placeholders `<DATABASE_ENDPOINT>` with the endpoint value. Save changes."
   ]
  },
  {
   "cell_type": "markdown",
   "metadata": {},
   "source": [
    "1.2.3. Assuming you are already inside the `classicmodels_modeling` folder in the terminal, run the following command to copy the `profiles.yml` file to the invisible folder `.dbt` of the project:"
   ]
  },
  {
   "cell_type": "markdown",
   "metadata": {},
   "source": [
    "```bash\n",
    "cp ../scripts/profiles.yml ~/.dbt/profiles.yml \n",
    "```"
   ]
  },
  {
   "cell_type": "markdown",
   "metadata": {},
   "source": [
    "1.2.4. Test the connection with the following command:"
   ]
  },
  {
   "cell_type": "markdown",
   "metadata": {},
   "source": [
    "```bash\n",
    "dbt debug\n",
    "```"
   ]
  },
  {
   "cell_type": "markdown",
   "metadata": {},
   "source": [
    "It should return a `Connection test: OK connection ok` at the end of the output."
   ]
  },
  {
   "attachments": {},
   "cell_type": "markdown",
   "metadata": {},
   "source": [
    "1.2.5. Load the connection configuration into the notebook with the following cell:"
   ]
  },
  {
   "cell_type": "code",
   "execution_count": null,
   "metadata": {},
   "outputs": [],
   "source": [
    "import yaml\n",
    "\n",
    "with open(\"./scripts/profiles.yml\", 'r') as stream:\n",
    "    data_loaded = yaml.safe_load(stream)\n",
    "    \n",
    "DBCONFIG = data_loaded[\"classicmodels_modeling\"][\"outputs\"][\"dev\"]\n",
    "DBHOST = DBCONFIG[\"host\"]\n",
    "DBPORT = int(DBCONFIG[\"port\"])\n",
    "DBNAME = DBCONFIG[\"dbname\"]\n",
    "DBUSER = DBCONFIG[\"user\"]\n",
    "DBPASSWORD = DBCONFIG[\"password\"]\n",
    "db_connection_url = f'postgresql+psycopg2://{DBUSER}:{DBPASSWORD}@{DBHOST}:{DBPORT}/{DBNAME}'\n",
    "\n",
    "%sql {db_connection_url}"
   ]
  },
  {
   "cell_type": "markdown",
   "metadata": {},
   "source": [
    "<a name='2'></a>\n",
    "## 2 - Modeling\n",
    "\n",
    "Inside the `classicmodels_modeling` project folder, you have the `models` folder, which contains an example of a model definition. Let's explore it."
   ]
  },
  {
   "cell_type": "markdown",
   "metadata": {},
   "source": [
    "2.1. Open `./classicmodels_modeling/models/example/schema.yml` file and go through its contents. The file contains a version in the header and then a list of models. For each model, you will need to give a name, a description and a list of columns. For each column, you can also add a description and some tests to verify constraints such as a unique value check and that no value is `NULL`."
   ]
  },
  {
   "cell_type": "markdown",
   "metadata": {},
   "source": [
    "2.2. Open `my_first_dbt_model.sql` file from the same folder and have a look at the SQL code. In the first line of the model's script, you could override the project \n",
    "configuration and personalize the model configuration. In this case this model will be materialized as a table instead of a view. After that a model is based on a `SELECT` statement over the source data, in this particular case it uses a `CTE` to create some sample data. But you could just write a query that uses the connector to bring data from the data warehouse."
   ]
  },
  {
   "cell_type": "markdown",
   "metadata": {},
   "source": [
    "2.3. Have a look at another example of the model:"
   ]
  },
  {
   "cell_type": "markdown",
   "metadata": {},
   "source": [
    "```sql\n",
    "SELECT \n",
    "    {{ dbt_utils.generate_surrogate_key(['employeeNumber']) }} as employee_key, \n",
    "    employees.lastName as employee_last_name, \n",
    "    employees.firstName as employee_first_name, \n",
    "    employees.jobTitle as job_title, \n",
    "    employees.email as email\n",
    "FROM classicmodels.employees\n",
    "```"
   ]
  },
  {
   "cell_type": "markdown",
   "metadata": {},
   "source": [
    "This is an example of a model based on the Employees' table in `classicmodels`. Here you are using the function `generate_surrogate_key` from `dbt_utils` to create a surrogate key based on the natural key `employeeNumber`. This is a good practice in data modeling because natural keys in your production data might change, or they could cause issues with your data models. For that reason, it is better to substitute natural keys and to perform the joins between dimension tables and fact tables with surrogate keys."
   ]
  },
  {
   "cell_type": "markdown",
   "metadata": {},
   "source": [
    "<a name='2.4'></a>\n",
    "2.4. Now that you have familiarized yourself with the examples, create two new subfolders in the `models` folder inside the project: `star_schema` and `obt`. You can also delete the `example` subfolder.\n",
    "\n",
    "```bash\n",
    "mkdir -p models/star_schema\n",
    "mkdir -p models/obt\n",
    "rm -rf models/example\n",
    "```"
   ]
  },
  {
   "cell_type": "markdown",
   "metadata": {},
   "source": [
    "<a name='3'></a>\n",
    "## 3 - Star Schema\n",
    "\n",
    "<a name='3.1'></a>\n",
    "### 3.1 - Description of the Approach\n",
    "\n",
    "**A star schema** is composed of **fact** tables (containing an identifier, numerical measures and foreign keys) and dimensional tables. You are going to expand upon the star schema you used back in Course 1 Week 2 and implement the improved star schema as a `dbt` model in the project. \n",
    "\n",
    "Let's remember the Entity Relationship Diagram (ERD) for [`classicmodels`](https://www.mysqltutorial.org/mysql-sample-database.aspx):\n",
    "\n",
    "![erm](images/erm.png)\n",
    "\n",
    "Verify the tables are loaded into the source database in Postgres:"
   ]
  },
  {
   "cell_type": "code",
   "execution_count": null,
   "metadata": {},
   "outputs": [],
   "source": [
    "%%sql\n",
    "SELECT * FROM information_schema.tables \n",
    "WHERE table_schema = 'classicmodels'"
   ]
  },
  {
   "cell_type": "markdown",
   "metadata": {},
   "source": [
    "You will follow the four steps proposed in the book [The Data Warehouse Toolkit](https://www.kimballgroup.com/data-warehouse-business-intelligence-resources/books/data-warehouse-dw-toolkit/) by Ralph Kimball and Margy Ross. The steps are the following:\n",
    "- Select the Business process.\n",
    "- Declare the Granularity of your data.\n",
    "- Identify the Dimensions Tables.\n",
    "- Identify the Facts."
   ]
  },
  {
   "cell_type": "markdown",
   "metadata": {},
   "source": [
    "Let's briefly describe each of those steps:\n",
    "\n",
    "**Select the Business process**\n",
    "\n",
    "The original ERM of the `classicmodels` database is where the company, a specialist retailer in scale model toys, draws its data from. The most important business activity for this company is the sales of their products captured in the orders placed by customers, the business process you will model."
   ]
  },
  {
   "cell_type": "markdown",
   "metadata": {},
   "source": [
    "**Declare the Granularity of your data**\n",
    "\n",
    "Each order contains some details that appear in the `orderdetails` table. A customer can place an order for one or more product items. The `orderNumber` field in the `orderdetails` table together with the `productCode` links a product to the order; and the granularity of your model would allow access to product information for each item on that order."
   ]
  },
  {
   "cell_type": "markdown",
   "metadata": {},
   "source": [
    "**Identify the dimensions**\n",
    "\n",
    "It is important for a business to hold information about its customers, and the employees who serve the customer, their branches/offices and the products sold. These data would shed insights into the business’s performance. So, let’s create dimensions tables in your start schema with those aspects:\n",
    "\n",
    "- Customers Dimension\n",
    "- Employees Dimension\n",
    "- Offices Dimension\n",
    "- Products Dimension"
   ]
  },
  {
   "cell_type": "markdown",
   "metadata": {},
   "source": [
    "**Identify the Facts**\n",
    "\n",
    "For each order placed by a customer, the unit price and quantity of a product ordered are important as they are used to calculate the sale total of this single order. Hence, this information from the `orderdetails` table should be included as facts in the fact table."
   ]
  },
  {
   "cell_type": "markdown",
   "metadata": {},
   "source": [
    "Under the considerations stated in the four-step process to develop the star schema the idea is that you will implement the following model to your data:\n",
    "\n",
    "![star_schema](images/star_schema.png)\n",
    "\n",
    "In this star schema, you have identified the orders table and order details as the primary tables for modeling, as they contain a business-critical process that involves **facts** such as transaction amounts and quantities. The dimensional tables related to the fact table are customers, products, employees and offices. You can examine and perform aggregations to the fact table on either or multiples of these dimensions.\n",
    "\n",
    "Now, it's your turn to implement the proposed data model. "
   ]
  },
  {
   "cell_type": "markdown",
   "metadata": {},
   "source": [
    "<a name='3.2'></a>\n",
    "### 3.2 - Creating the Facts Table"
   ]
  },
  {
   "cell_type": "markdown",
   "metadata": {},
   "source": [
    "3.2.1. Review the query that extracts the data for the fact table."
   ]
  },
  {
   "cell_type": "code",
   "execution_count": null,
   "metadata": {},
   "outputs": [],
   "source": [
    "%%sql\n",
    "SELECT \n",
    "    orders.orderNumber, orderdetails.orderLineNumber,\n",
    "    customers.customerNumber AS customer_key, \n",
    "    employees.employeeNumber AS employee_key,\n",
    "    offices.officeCode AS office_key,\n",
    "    productCode AS product_key, \n",
    "    orders.orderDate AS order_date,\n",
    "    orders.requiredDate AS order_required_date, \n",
    "    orders.shippedDate AS order_shipped_date,\n",
    "    orderdetails.quantityOrdered AS quantity_ordered, \n",
    "    orderdetails.priceEach AS product_price\n",
    "FROM classicmodels.orders\n",
    "JOIN classicmodels.orderdetails ON orders.orderNumber = orderdetails.orderNumber\n",
    "JOIN classicmodels.customers ON orders.customerNumber = customers.customerNumber\n",
    "JOIN classicmodels.employees ON customers.salesRepEmployeeNumber = employees.employeeNumber\n",
    "JOIN classicmodels.offices ON employees.officeCode = offices.officeCode\n",
    "LIMIT 5"
   ]
  },
  {
   "cell_type": "markdown",
   "metadata": {},
   "source": [
    "3.2.2. Now you will need to create the `dbt` model for the `fact_orders` table. Open the `./classicmodels_modeling/dbt_project.yml` file and paste the following in the new line after `version: '1.0.0'`:"
   ]
  },
  {
   "cell_type": "markdown",
   "metadata": {},
   "source": [
    "```yml\n",
    "vars:\n",
    "  source_schema: classicmodels\n",
    "  star_schema: classicmodels_star_schema\n",
    "  surrogate_key_treat_nulls_as_empty_strings: true\n",
    "  \"dbt_date:time_zone\": \"America/Los_Angeles\"\n",
    "```"
   ]
  },
  {
   "cell_type": "markdown",
   "metadata": {},
   "source": [
    "This is for creation of some [variables](https://docs.getdbt.com/reference/dbt-jinja-functions/var) that can be used throughout your `dbt` models during compilation."
   ]
  },
  {
   "cell_type": "markdown",
   "metadata": {},
   "source": [
    "3.2.3. Find the key `classicmodels_modeling` at the end of the file (nested under the `models` key). Delete the nested key `example`, which is the following two lines:"
   ]
  },
  {
   "cell_type": "markdown",
   "metadata": {},
   "source": [
    "```yml\n",
    "    example:\n",
    "      +materialized: view\n",
    "```"
   ]
  },
  {
   "cell_type": "markdown",
   "metadata": {},
   "source": [
    "Then add the following nested key instead:"
   ]
  },
  {
   "cell_type": "markdown",
   "metadata": {},
   "source": [
    "```yml\n",
    "    star_schema:\n",
    "      +materialized: table\n",
    "      +schema: star_schema\n",
    "```"
   ]
  },
  {
   "cell_type": "markdown",
   "metadata": {},
   "source": [
    "Save changes."
   ]
  },
  {
   "cell_type": "markdown",
   "metadata": {},
   "source": [
    "3.2.4. Go to the folder `./classicmodels_modeling/models/star_schema/` (which was created at step [2.4](#2.4)) and create an SQL file named `fact_orders.sql`."
   ]
  },
  {
   "cell_type": "markdown",
   "metadata": {},
   "source": [
    "3.2.5 Copy the previous query for the fact table (without the `%%sql` and `LIMIT` clause) and paste it into a new file located at `fact_orders.sql`. Make the following changes:\n",
    "\n",
    "- Replace every appearance of `classicmodels` with `{{var(\"source_schema\")}}` (in 5 places). Each table reference in your query should now be in the format `{{var(\"source_schema\")}}.<TABLE_NAME>`. This will use jinja templating to dynamically replace `source_schema` with the actual schema name, which is currently `classicmodels`.\n",
    "- Replace the default key columns with surrogate keys using the `{{ dbt_utils.generate_surrogate_key(['']) }}` function. This function accepts an array of column names to generate the surrogate keys:\n",
    "    * Replace `orders.orderNumber, orderdetails.orderLineNumber` with `{{ dbt_utils.generate_surrogate_key(['orders.orderNumber', 'orderdetails.orderLineNumber']) }} as fact_order_key`.\n",
    "    * Replace `Replace customers.customerNumber with:` with `{{ dbt_utils.generate_surrogate_key(['customers.customerNumber']) }}`.\n",
    "    * Do the same for `employees.employeeNumber`, `offices.officeCode` and `productCode`.\n",
    "\n",
    "Save changes."
   ]
  },
  {
   "cell_type": "markdown",
   "metadata": {},
   "source": [
    "3.2.6. Copy the file located at `./scripts/schema.yml` into `./classicmodels_modeling/models/star_schema/` folder:"
   ]
  },
  {
   "cell_type": "markdown",
   "metadata": {},
   "source": [
    "```bash\n",
    "cp ../scripts/schema.yml ./models/star_schema/schema.yml\n",
    "```"
   ]
  },
  {
   "cell_type": "markdown",
   "metadata": {},
   "source": [
    "Open the `schema.yml` file. You will see that it is partially filled for you with the schema definition for the `fact_orders` and `dim_customers` tables.\n",
    "\n",
    "With that, you have created the model for the fact table `fact_orders`. Before you run the model against the database to create the tables, you need to create the dimension tables. The process to create the models for the dimension tables will be similar to what you did."
   ]
  },
  {
   "cell_type": "markdown",
   "metadata": {},
   "source": [
    "<a name='3.3'></a>\n",
    "### 3.3 - Creating the Customers Dimension Table"
   ]
  },
  {
   "cell_type": "markdown",
   "metadata": {},
   "source": [
    "3.3.1. Here is the query to create the dimension table `dim_customers`. The complete output has 122 rows, you will use `LIMIT` to avoid extracting too many rows in the preview."
   ]
  },
  {
   "cell_type": "code",
   "execution_count": null,
   "metadata": {},
   "outputs": [],
   "source": [
    "%%sql\n",
    "SELECT \n",
    "    customerNumber as customer_key, \n",
    "    customerName as customer_name,   \n",
    "    contactLastName as customer_last_name, \n",
    "    contactFirstName as customer_first_name, \n",
    "    phone as phone, \n",
    "    addressLine1 as address_line_1, \n",
    "    addressLine2 as address_line_2, \n",
    "    postalCode as postal_code, \n",
    "    city as city, \n",
    "    state as state, \n",
    "    country as country,\n",
    "    creditLimit as credit_limit\n",
    "FROM classicmodels.customers\n",
    "LIMIT 5"
   ]
  },
  {
   "cell_type": "markdown",
   "metadata": {},
   "source": [
    "Follow the same process to create this part in the model. "
   ]
  },
  {
   "cell_type": "markdown",
   "metadata": {},
   "source": [
    "3.3.2. Go to the folder `./classicmodels_modeling/models/star_schema/` and create an SQL file `dim_customers.sql`."
   ]
  },
  {
   "cell_type": "markdown",
   "metadata": {},
   "source": [
    "3.3.3. Copy the previous query without the `%%sql` and `LIMIT` clause, paste it into the new file `dim_customers.sql`. Make the following changes in the file:\n",
    "\n",
    "- Replace `classicmodels` with `{{var(\"source_schema\")}}` (in 1 place). The table reference now is in the format `{{var(\"source_schema\")}}.<TABLE_NAME>`. \n",
    "- Replace `customerNumber` with `{{ dbt_utils.generate_surrogate_key(['customerNumber']) }}` to generate the surrogate key.\n",
    "\n",
    "Save changes.\n"
   ]
  },
  {
   "cell_type": "markdown",
   "metadata": {},
   "source": [
    "3.3.4. Remember that the `schema.yml` file has been already configured for the `dim_customers` table, but notice that for this table, you will find the following:"
   ]
  },
  {
   "cell_type": "markdown",
   "metadata": {},
   "source": [
    "```yml\n",
    "- name: customer_key\n",
    "    description: The primary key for this table\n",
    "    data_tests:\n",
    "      - unique\n",
    "      - not_null\n",
    "```"
   ]
  },
  {
   "cell_type": "markdown",
   "metadata": {},
   "source": [
    "This is the syntax to create tests over your columns. You will use this later."
   ]
  },
  {
   "cell_type": "markdown",
   "metadata": {},
   "source": [
    "<a name='3.4'></a>\n",
    "### 3.4 - Creating the Employees Dimension Table"
   ]
  },
  {
   "cell_type": "markdown",
   "metadata": {},
   "source": [
    "3.4.1. Here is the query to create the dimension table `dim_employees`. You will use a `LIMIT` to avoid extracting too many rows. The complete output has 23 rows."
   ]
  },
  {
   "cell_type": "code",
   "execution_count": null,
   "metadata": {},
   "outputs": [],
   "source": [
    "%%sql\n",
    "SELECT\n",
    "    employeeNumber as employee_key,\n",
    "    lastName as employee_last_name, \n",
    "    firstName as employee_first_name, \n",
    "    jobTitle as job_title, \n",
    "    email as email\n",
    "FROM classicmodels.employees\n",
    "LIMIT 5"
   ]
  },
  {
   "cell_type": "markdown",
   "metadata": {},
   "source": [
    "3.4.2. Go to the folder `./classicmodels_modeling/models/star_schema/` and create an SQL file `dim_employees.sql`."
   ]
  },
  {
   "cell_type": "markdown",
   "metadata": {},
   "source": [
    "3.4.3. Copy the previous query without the `%%sql` and `LIMIT` clause, and paste it into the new file `dim_employees.sql`. Make the following changes in the file:\n",
    "\n",
    "- Replace `classicmodels` with `{{var(\"source_schema\")}}` (in 1 place).\n",
    "- Replace `employeeNumber` with `{{ dbt_utils.generate_surrogate_key(['employeeNumber']) }}` to generate the surrogate key.\n",
    "\n",
    "Save changes."
   ]
  },
  {
   "cell_type": "markdown",
   "metadata": {},
   "source": [
    "3.4.4. Open the `schema.yml` file and based on the `dim_customers` schema, create the schema for the `dim_employees` table. The `employee_key` should be the primary key for this table, so you can set the same tests as in `dim_customers`. Make sure to use the appropriate column names."
   ]
  },
  {
   "cell_type": "markdown",
   "metadata": {},
   "source": [
    "<a name='3.5'></a>\n",
    "### 3.5 - Creating the Office Dimension Table\n",
    "\n",
    "3.5.1. This is the query to create the dimension table `dim_offices`."
   ]
  },
  {
   "cell_type": "code",
   "execution_count": null,
   "metadata": {},
   "outputs": [],
   "source": [
    "%%sql\n",
    "SELECT \n",
    "    officeCode as office_key, \n",
    "    postalCode as postal_code, \n",
    "    city as city, \n",
    "    state as state, \n",
    "    country as country, \n",
    "    territory as territory\n",
    "FROM classicmodels.offices"
   ]
  },
  {
   "cell_type": "markdown",
   "metadata": {},
   "source": [
    "3.5.2. Go to the folder `./classicmodels_modeling/models/star_schema/` and create an SQL file `dim_offices.sql`."
   ]
  },
  {
   "cell_type": "markdown",
   "metadata": {},
   "source": [
    "3.5.3. Copy the previous query, paste it into the new file `dim_offices.sql`. Make the following changes in the file:\n",
    "\n",
    "- Replace `classicmodels` with `{{var(\"source_schema\")}}` (in 1 place).\n",
    "- Replace `officeCode` with `{{ dbt_utils.generate_surrogate_key(['officeCode']) }}` to generate the surrogate key.\n",
    "\n",
    "Save changes."
   ]
  },
  {
   "cell_type": "markdown",
   "metadata": {},
   "source": [
    "3.5.4. Open the `schema.yml` file and based on the `dim_customers` schema, create the schema for the `dim_offices` table. The `office_key` should be the primary key for this table, so you can set the same tests as in `dim_customers`. Make sure to use the appropriate column names."
   ]
  },
  {
   "cell_type": "markdown",
   "metadata": {},
   "source": [
    "<a name='3.6'></a>\n",
    "### 3.6 - Creating the Product Dimension Table\n",
    "\n",
    "3.6.1. This is the query to create the dimension table `dim_products`. Use `LIMIT` as the total output has 110 rows."
   ]
  },
  {
   "cell_type": "code",
   "execution_count": null,
   "metadata": {},
   "outputs": [],
   "source": [
    "%%sql\n",
    "SELECT \n",
    "    productCode as product_key, \n",
    "    productName as product_name, \n",
    "    products.productLine as product_line, \n",
    "    productScale as product_scale, \n",
    "    productVendor as product_vendor,\n",
    "    productDescription as product_description, \n",
    "    textDescription as product_line_description\n",
    "FROM classicmodels.products\n",
    "JOIN classicmodels.productlines ON products.productLine=productlines.productLine\n",
    "LIMIT 3"
   ]
  },
  {
   "cell_type": "markdown",
   "metadata": {},
   "source": [
    "3.6.2. Create an SQL file `dim_products.sql` in the folder `./classicmodels_modeling/models/star_schema/`."
   ]
  },
  {
   "cell_type": "markdown",
   "metadata": {},
   "source": [
    "3.6.3. Copy the previous query, paste it into the new file `dim_products.sql`. Make the following changes in the file:\n",
    "\n",
    "- Replace `classicmodels` with `{{var(\"source_schema\")}}` (in 2 places).\n",
    "- Replace `productCode` with `{{ dbt_utils.generate_surrogate_key(['productCode']) }}` to generate the surrogate key.\n",
    "\n",
    "Save changes."
   ]
  },
  {
   "cell_type": "markdown",
   "metadata": {},
   "source": [
    "3.6.4. Open the `schema.yml` file and based on the `dim_customers` schema, create the schema for the `dim_products` table. The `product_key` should be the primary key for this table, so you can set the same tests as in `dim_customers`. Make sure to use the appropriate column names."
   ]
  },
  {
   "cell_type": "markdown",
   "metadata": {},
   "source": [
    "<a name='3.7'></a>\n",
    "### 3.7 - Creating the Date Dimension Table\n",
    "\n",
    "As you may know, time is one of the most important dimensions in star schemas, for this case, you will limit the time dimension to the dates that appear in the `orders` table. Generating this dimension can be cumbersome, so you are going to make use of the `dbt_date` package to generate the date dimension."
   ]
  },
  {
   "cell_type": "markdown",
   "metadata": {},
   "source": [
    "3.7.1. Create a `dates.sql` model file in the `./classicmodels_modeling/models/star_schema/` folder."
   ]
  },
  {
   "cell_type": "markdown",
   "metadata": {},
   "source": [
    "3.7.2. Inside of it, add the line to call the `get_date_dimension` function from the `dbt_date` package. This function takes an initial and final date, for `classicmodels` the dates are between the start of 2003 and the end of 2005. Here is the format of the function call:"
   ]
  },
  {
   "cell_type": "markdown",
   "metadata": {},
   "source": [
    "```sql\n",
    "{{ dbt_date.get_date_dimension(\"YYYY-MM-DD\", \"YYYY-MM-DD\") }}\n",
    "```"
   ]
  },
  {
   "cell_type": "markdown",
   "metadata": {},
   "source": [
    "3.7.3. Create a `dim_dates.sql` model file in the `./classicmodels_modeling/models/star_schema/` folder."
   ]
  },
  {
   "cell_type": "markdown",
   "metadata": {},
   "source": [
    "3.7.4. In `dim_dates.sql` write the following SQL query to select required columns from the `date_dimension` model:"
   ]
  },
  {
   "cell_type": "markdown",
   "metadata": {},
   "source": [
    "```sql\n",
    "SELECT\n",
    "    date_day,\n",
    "    day_of_week,\n",
    "    day_of_month,\n",
    "    day_of_year,\n",
    "    week_of_year,\n",
    "    month_of_year,\n",
    "    month_name,\n",
    "    quarter_of_year,\n",
    "    year_number\n",
    "FROM\n",
    "    date_dimension d\n",
    "```"
   ]
  },
  {
   "cell_type": "markdown",
   "metadata": {},
   "source": [
    "To access the `date` model, add a CTE statement prior to that `SELECT` statement (at the start of the file):"
   ]
  },
  {
   "cell_type": "markdown",
   "metadata": {},
   "source": [
    "```sql\n",
    "with date_dimension as (\n",
    "    select * from {{ ref('dates') }}\n",
    ")\n",
    "```"
   ]
  },
  {
   "cell_type": "markdown",
   "metadata": {},
   "source": [
    "Save changes to the file."
   ]
  },
  {
   "cell_type": "markdown",
   "metadata": {},
   "source": [
    "3.7.5. Open the `schema.yml` file and add the following schema for the `dim_dates` table:"
   ]
  },
  {
   "cell_type": "markdown",
   "metadata": {},
   "source": [
    "```yml\n",
    "  - name: dim_dates\n",
    "    columns:\n",
    "      - name: date_day\n",
    "        description: The primary key for this table\n",
    "        data_tests:\n",
    "          - unique\n",
    "          - not_null\n",
    "      - name: day_of_week\n",
    "      - name: day_of_month\n",
    "      - name: day_of_year\n",
    "      - name: week_of_year\n",
    "      - name: month_of_year\n",
    "      - name: month_name\n",
    "      - name: quarter_of_year\n",
    "      - name: year_number\n",
    "```"
   ]
  },
  {
   "attachments": {},
   "cell_type": "markdown",
   "metadata": {},
   "source": [
    "<a name='3.8'></a>\n",
    "### 3.8 - Running the Star Schema Model\n",
    "\n",
    "Once you have created all the models for your star schema, it is time to run `dbt` against your database to create the proposed star schema. "
   ]
  },
  {
   "attachments": {},
   "cell_type": "markdown",
   "metadata": {},
   "source": [
    "3.8.1. In the `Cloud9` terminal where you have activated the Python environment, make sure to set the `dbt` project folder as your working directory:"
   ]
  },
  {
   "cell_type": "markdown",
   "metadata": {},
   "source": [
    "```bash\n",
    "cd /home/ec2-user/environment/classicmodels_modeling\n",
    "```"
   ]
  },
  {
   "attachments": {},
   "cell_type": "markdown",
   "metadata": {},
   "source": [
    "3.8.2. Once you are in the `~/environment/classicmodels_modeling` folder in Cloud9 terminal, then run `dbt` with the following command:"
   ]
  },
  {
   "cell_type": "markdown",
   "metadata": {},
   "source": [
    "```bash\n",
    "dbt run -s star_schema\n",
    "```"
   ]
  },
  {
   "cell_type": "markdown",
   "metadata": {},
   "source": [
    "This should run your models and perform the creation and population of the tables in a new database named `classicmodels_star_schema` that resides in the same RDS server. Given that you are going to create several models with `dbt`, the `-s` (or `--select`) option allows you to select the particular data model that you want to run. "
   ]
  },
  {
   "cell_type": "markdown",
   "metadata": {},
   "source": [
    "3.8.7. Now, it is time to check if the tables were created and populated. Run the next cell to change the connection to the `classicmodels_star_schema` database:"
   ]
  },
  {
   "cell_type": "code",
   "execution_count": null,
   "metadata": {},
   "outputs": [],
   "source": [
    "%%sql\n",
    "SELECT * FROM information_schema.tables \n",
    "WHERE table_schema = 'classicmodels_star_schema'"
   ]
  },
  {
   "cell_type": "markdown",
   "metadata": {},
   "source": [
    "And count the number of rows in each table to verify that they were populated:"
   ]
  },
  {
   "cell_type": "code",
   "execution_count": null,
   "metadata": {
    "exercise": [
     "ex01"
    ],
    "tags": [
     "graded"
    ]
   },
   "outputs": [],
   "source": [
    "%sql SELECT count(*) FROM classicmodels_star_schema.fact_orders;"
   ]
  },
  {
   "cell_type": "markdown",
   "metadata": {},
   "source": [
    "##### __Expected Output__\n",
    "\n",
    "| **count** |\n",
    "| --------- |\n",
    "| 2996     |\n"
   ]
  },
  {
   "cell_type": "code",
   "execution_count": null,
   "metadata": {
    "exercise": [
     "ex02"
    ],
    "tags": [
     "graded"
    ]
   },
   "outputs": [],
   "source": [
    "%sql SELECT count(*) FROM classicmodels_star_schema.dim_customers;"
   ]
  },
  {
   "cell_type": "markdown",
   "metadata": {},
   "source": [
    "##### __Expected Output__\n",
    "\n",
    "| **count** |\n",
    "| --------- |\n",
    "| 122       |"
   ]
  },
  {
   "cell_type": "code",
   "execution_count": null,
   "metadata": {
    "exercise": [
     "ex03"
    ],
    "tags": [
     "graded"
    ]
   },
   "outputs": [],
   "source": [
    "%sql SELECT count(*) FROM classicmodels_star_schema.dim_employees;"
   ]
  },
  {
   "cell_type": "markdown",
   "metadata": {},
   "source": [
    "##### __Expected Output__\n",
    "\n",
    "| **count** |\n",
    "| --------- |\n",
    "| 23        |"
   ]
  },
  {
   "cell_type": "code",
   "execution_count": null,
   "metadata": {
    "exercise": [
     "ex04"
    ],
    "tags": [
     "graded"
    ]
   },
   "outputs": [],
   "source": [
    "%sql SELECT count(*) FROM classicmodels_star_schema.dim_offices;"
   ]
  },
  {
   "cell_type": "markdown",
   "metadata": {},
   "source": [
    "##### __Expected Output__\n",
    "\n",
    "| **count** |\n",
    "| --------- |\n",
    "| 7         |"
   ]
  },
  {
   "cell_type": "code",
   "execution_count": null,
   "metadata": {
    "exercise": [
     "ex05"
    ],
    "tags": [
     "graded"
    ]
   },
   "outputs": [],
   "source": [
    "%sql SELECT count(*) FROM classicmodels_star_schema.dim_products;"
   ]
  },
  {
   "cell_type": "markdown",
   "metadata": {},
   "source": [
    "##### __Expected Output__\n",
    "\n",
    "| **count** |\n",
    "| --------- |\n",
    "| 110       |"
   ]
  },
  {
   "cell_type": "code",
   "execution_count": null,
   "metadata": {
    "exercise": [
     "ex06"
    ],
    "tags": [
     "graded"
    ]
   },
   "outputs": [],
   "source": [
    "%sql SELECT count(*) FROM classicmodels_star_schema.dim_dates;"
   ]
  },
  {
   "cell_type": "markdown",
   "metadata": {},
   "source": [
    "##### __Expected Output__\n",
    "\n",
    "| **count** |\n",
    "| --------- |\n",
    "| 1095      |"
   ]
  },
  {
   "cell_type": "markdown",
   "metadata": {},
   "source": [
    "<a name='4'></a>\n",
    "## 4 - One Big Table (OBT)\n",
    "\n",
    "As the name suggests, it means a large table containing all the relevant data needed for analysis. It is similar to a fact table, but instead of using dimensional tables and foreign keys, it contains the required dimensional values for each row within. This approach ensures the data warehouse doesn't have to perform any joins to query the relevant data each time you need it. Here is an example of an OBT table focused on the orders of `classicmodels`:\n",
    "\n",
    "![image](images/obt.png)"
   ]
  },
  {
   "cell_type": "markdown",
   "metadata": {},
   "source": [
    "4.1. Create the file `orders_obt.sql` in the `./classicmodels_modeling/models/obt/` folder. Here is the SQL query to which you need to apply jinja templating like you did in [Section 3](#3). No need to create any keys there."
   ]
  },
  {
   "cell_type": "code",
   "execution_count": null,
   "metadata": {},
   "outputs": [],
   "source": [
    "%%sql\n",
    "SELECT\n",
    "    orderdetails.orderNumber as order_number,\n",
    "    orderdetails.orderLineNumber as order_line_number,\n",
    "    products.productName as product_name,\n",
    "    products.productScale as product_scale,\n",
    "    products.productVendor as product_vendor,\n",
    "    products.productDescription as product_description,\n",
    "    products.buyPrice as product_buy_price,\n",
    "    products.MSRP as product_msrp,\n",
    "    productlines.textDescription as product_line,\n",
    "    orderdetails.quantityOrdered as quantity_ordered,\n",
    "    orderdetails.priceEach as product_price,\n",
    "    orders.orderDate as order_date,\n",
    "    orders.requiredDate as order_required_date,\n",
    "    orders.shippedDate as order_shipped_date,\n",
    "    customers.customerName as customer_name,\n",
    "    customers.city as customer_city,\n",
    "    customers.state as customer_state,\n",
    "    customers.postalCode as customer_postal_code,\n",
    "    customers.creditLimit as customer_credit_limit,\n",
    "    employees.firstName as sales_rep_first_name,\n",
    "    employees.lastName as sales_rep_last_name,\n",
    "    employees.jobTitle as sales_rep_title,\n",
    "    orders.status as order_status,\n",
    "    orders.comments as order_comments\n",
    "FROM classicmodels.orderdetails\n",
    "JOIN classicmodels.orders ON orderdetails.orderNumber =  orders.orderNumber\n",
    "JOIN classicmodels.products ON orderdetails.productCode =  products.productCode\n",
    "JOIN classicmodels.productlines ON products.productLine =  productlines.productLine\n",
    "JOIN classicmodels.customers ON orders.customerNumber =  customers.customerNumber\n",
    "JOIN classicmodels.employees ON customers.salesRepEmployeeNumber =  employees.employeeNumber\n",
    "LIMIT 2"
   ]
  },
  {
   "attachments": {},
   "cell_type": "markdown",
   "metadata": {},
   "source": [
    "4.2. Create the `schema.yml` file in the `./classicmodels_modeling/models/obt/` folder and develop the appropriate schemas for the `orders_obt` table. For now, you don't need to add the tests for the primary key, just make sure to list the names of the columns in the schema file. You will add the required test in the next section."
   ]
  },
  {
   "attachments": {},
   "cell_type": "markdown",
   "metadata": {},
   "source": [
    "4.3. Open the `./classicmodels_modeling/dbt_project.yml` file, at the end of it, under the `classicmodels_modeling` key (which is nested inside the `models` key), add the following lines:\n",
    "\n",
    "```yml\n",
    "    obt:\n",
    "      +materialized: table\n",
    "      +schema: obt\n",
    "```\n",
    "\n",
    "Save changes."
   ]
  },
  {
   "attachments": {},
   "cell_type": "markdown",
   "metadata": {},
   "source": [
    "4.4. Make sure you are in the `~/environment/classicmodels_modeling` folder in Cloud9 terminal. Run the following command:"
   ]
  },
  {
   "cell_type": "markdown",
   "metadata": {},
   "source": [
    "```shell\n",
    "dbt run --select \"obt\"\n",
    "```"
   ]
  },
  {
   "attachments": {},
   "cell_type": "markdown",
   "metadata": {},
   "source": [
    "4.5. Once you run the dbt run statement, verify that the tables exist and do a record count for each table:"
   ]
  },
  {
   "cell_type": "code",
   "execution_count": null,
   "metadata": {},
   "outputs": [],
   "source": [
    "%%sql\n",
    "SELECT * FROM information_schema.tables \n",
    "WHERE table_schema = 'classicmodels_obt'"
   ]
  },
  {
   "cell_type": "code",
   "execution_count": null,
   "metadata": {
    "exercise": [
     "ex07"
    ],
    "tags": [
     "graded"
    ]
   },
   "outputs": [],
   "source": [
    "%sql SELECT count(*) FROM classicmodels_obt.orders_obt;"
   ]
  },
  {
   "cell_type": "markdown",
   "metadata": {},
   "source": [
    "##### __Expected Output__\n",
    "\n",
    "| **count** |\n",
    "| --------- |\n",
    "| 2996      |"
   ]
  },
  {
   "cell_type": "markdown",
   "metadata": {},
   "source": [
    "<a name='5'></a>\n",
    "## 5 - Performing Tests over the Data in the New Models\n",
    "\n",
    "You can perform some tests over the data that was populated in your new star schema model. In the `schema.yml` file you have the definition for each model and each column. You can place certain tests at the column level or at the table level. As an example of tests at the table level, you could define the following one for the `orders_obt` table:"
   ]
  },
  {
   "cell_type": "markdown",
   "metadata": {},
   "source": [
    "```yml\n",
    "- name: orders_obt\n",
    "  description: \"Orders OBT\"\n",
    "  columns:\n",
    "    ...\n",
    "  data_tests:\n",
    "    - dbt_utils.unique_combination_of_columns:\n",
    "        combination_of_columns:\n",
    "        - order_number\n",
    "        - order_line_number\n",
    "```"
   ]
  },
  {
   "cell_type": "markdown",
   "metadata": {},
   "source": [
    "*Note*: The indentation in `.yml` files is crucial for the correct interpretation of the file. Ensure that the indentation levels are consistent to avoid errors in processing the `YAML` file."
   ]
  },
  {
   "cell_type": "markdown",
   "metadata": {},
   "source": [
    "This test verifies that the combination of columns that form the primary key is unique. Note that this primary key is composed by a combination of 2 columns. To check for the primary key on other tables that are non composed keys, you can define the test at the column level, such as:"
   ]
  },
  {
   "cell_type": "markdown",
   "metadata": {},
   "source": [
    "```yml\n",
    "- name: dim_customers\n",
    "  description: \"Customer dimension\"\n",
    "  columns:\n",
    "    - name: customer_key\n",
    "      description: The primary key for this table\n",
    "      data_tests:\n",
    "        - unique\n",
    "        - not_null\n",
    "```"
   ]
  },
  {
   "cell_type": "markdown",
   "metadata": {},
   "source": [
    "Add those tests to your model and run the `dbt test` command to check them:"
   ]
  },
  {
   "cell_type": "markdown",
   "metadata": {},
   "source": [
    "```bash\n",
    "dbt test -s obt\n",
    "```"
   ]
  },
  {
   "cell_type": "markdown",
   "metadata": {},
   "source": [
    "In this lab, you have learned about `dbt` and further your experience with data modeling, each data model has its advantages and setbacks and should be used based on the business and analytical requirements. OBT performs faster in terms of data retrieval speed when compared against a star schema, however updating OBT could be much more complex and a star schema is better in terms of conceptualizing and sharing your data while requiring less storage space. "
   ]
  },
  {
   "cell_type": "markdown",
   "metadata": {},
   "source": [
    "<a name='6'></a>\n",
    "## 6 - Upload Files for Grading\n",
    "\n",
    "Upload the notebook into S3 bucket for grading purposes. To do this, run the following commands in the terminal.\n",
    "\n",
    "*Note*: you may need to click **Save** button before the upload."
   ]
  },
  {
   "cell_type": "markdown",
   "metadata": {},
   "source": [
    "```bash\n",
    "AWS_ACCOUNT_ID=$(aws sts get-caller-identity --query Account --output text)\n",
    "aws s3 cp /home/ec2-user/environment/C4_W1_Assignment.ipynb s3://de-c4w1a1-${AWS_ACCOUNT_ID}-us-east-1-submission/C4_W1_Assignment_Learner.ipynb\n",
    "```"
   ]
  }
 ],
 "metadata": {
  "kernelspec": {
   "display_name": "Python 3 (ipykernel)",
   "language": "python",
   "name": "python3"
  },
  "language_info": {
   "codemirror_mode": {
    "name": "ipython",
    "version": 3
   },
   "file_extension": ".py",
   "mimetype": "text/x-python",
   "name": "python",
   "nbconvert_exporter": "python",
   "pygments_lexer": "ipython3",
   "version": "3.9.19"
  }
 },
 "nbformat": 4,
 "nbformat_minor": 4
}
