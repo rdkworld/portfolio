{
 "cells": [
  {
   "cell_type": "markdown",
   "metadata": {},
   "source": [
    "# Capstone Project Part 1 - ETL and Data Modeling\n",
    "\n",
    "During this capstone project, you will develop a data pipeline as part of a new project in the company DeFtunes. You will showcase the abilities and tools you have been using during the whole specialization."
   ]
  },
  {
   "cell_type": "markdown",
   "metadata": {},
   "source": [
    "# Table of Contents\n",
    "\n",
    "- [ 1 - Introduction](#1)\n",
    "- [ 2 - Data Sources](#2)\n",
    "- [ 3 - Exploratory Data Analysis](#3)\n",
    "- [ 4 - ETL Pipeline with AWS Glue and Terraform](#4)\n",
    "  - [ 4.1 - Landing Zone](#4.1)\n",
    "  - [ 4.2 - Transformation Zone](#4.2)\n",
    "  - [ 4.3 - Serving Zone](#4.3)\n",
    "- [ 5 - Data Modeling with dbt and Redshift Spectrum](#5)\n",
    "  - [ 5.1 - Redshift Setup](#5.1)\n",
    "  - [ 5.2 - Redshift Test](#5.2)\n",
    "  - [ 5.3 - dbt Setup](#5.3)\n",
    "  - [ 5.4 - Data Modeling](#5.4)\n",
    "- [ 6 - Upload Files for Grading](#6)"
   ]
  },
  {
   "cell_type": "markdown",
   "metadata": {},
   "source": [
    "<a name='1'></a>\n",
    "## 1 - Introduction\n",
    "\n",
    "DeFtunes is a new company in the music industry, offering a subscription-based app for streaming songs. Recently, they have expanded their services to include digital song purchases. With this new retail feature, DeFtunes requires a data pipeline to extract purchase data from their new API and operational database, enrich and model this data, and ultimately deliver the comprehensive data model for the Data Analysis team to review and gain insights. Your task is to develop this pipeline, ensuring the data is accurately processed and ready for in-depth analysis.\n",
    "\n",
    "Here is the diagram with the main requirements for this project:\n",
    "\n",
    "![Capstone_Diagram](images/Capstone-diagram.png)\n",
    "\n",
    "1. The pipeline has to follow a medallion architecture with a landing, transform and serving zone.\n",
    "2. The data generated in the pipeline will be stored in the company's data lake, in this case, an S3 bucket.\n",
    "3. The silver layer should use Iceberg tables, and the gold layer should be inside Redshift.\n",
    "4. The pipeline should be reproducible, you will have to implement it using Terraform.\n",
    "5. The data should be modelled into a star schema in the serving layer, you should use dbt for the modelling part.\n",
    "\n",
    "Before starting, you will need to import some required libraries and modules for the capstone development."
   ]
  },
  {
   "cell_type": "code",
   "execution_count": null,
   "metadata": {},
   "outputs": [],
   "source": [
    "import json\n",
    "import requests\n",
    "import pandas as pd\n",
    "import subprocess\n",
    "\n",
    "%load_ext sql\n",
    "\n",
    "LAB_PREFIX='de-c4w4a1'"
   ]
  },
  {
   "cell_type": "markdown",
   "metadata": {},
   "source": [
    "<a name='2'></a>\n",
    "## 2 - Data Sources\n",
    "\n",
    "The first data source you will be using is the DeFtunes operational database, which is running in RDS with a Postgres engine. This database contains a table with all the relevant information for the available songs that you can purchase. Let's connect to the table using the `%sql` magic. \n",
    "\n",
    "2.1. To define the connection string, go to CloudFormation Outputs in the AWS console. You will see the key `PostgresEndpoint`, copy the corresponding **Value** and replace with it the placeholder `<POSTGRES_ENDPOINT>` in the cell below (please, replace the whole placeholder including the brackets `<>`). Then run the cell code."
   ]
  },
  {
   "cell_type": "code",
   "execution_count": null,
   "metadata": {},
   "outputs": [],
   "source": [
    "RDSDBHOST = '<POSTGRES_ENDPOINT>'\n",
    "RDSDBPORT = '5432'\n",
    "RDSDBNAME = 'postgres'\n",
    "RDSDBUSER = 'postgresuser'\n",
    "RDSDBPASSWORD = 'adminpwrd'\n",
    "\n",
    "postgres_connection_url = f'postgresql+psycopg2://{RDSDBUSER}:{RDSDBPASSWORD}@{RDSDBHOST}:{RDSDBPORT}/{RDSDBNAME}'\n",
    "%sql {postgres_connection_url}"
   ]
  },
  {
   "cell_type": "markdown",
   "metadata": {},
   "source": [
    "2.2. Test that the connection works by running the following query."
   ]
  },
  {
   "cell_type": "code",
   "execution_count": null,
   "metadata": {},
   "outputs": [],
   "source": [
    "%%sql\n",
    "SELECT schema_name\n",
    "FROM information_schema.schemata;"
   ]
  },
  {
   "cell_type": "markdown",
   "metadata": {},
   "source": [
    "2.3. Inside the `deftunes` schema there is a table `songs` which was mentioned before. Let's query a sample from it:\n",
    "\n",
    "*Note:* The `songs` table is based on the Million Song Dataset, more information can be found [here](http://millionsongdataset.com/)."
   ]
  },
  {
   "cell_type": "code",
   "execution_count": null,
   "metadata": {},
   "outputs": [],
   "source": [
    "%%sql\n",
    "SELECT *\n",
    "FROM deftunes.songs\n",
    "LIMIT 5;"
   ]
  },
  {
   "cell_type": "markdown",
   "metadata": {},
   "source": [
    "2.4. The second data source is a new API designed for the song purchase process. This API contains information on the purchases done by the users of the App and also contains relevant information about each user. Copy the endpoint value from the CloudFormation outputs tab and replace the placeholder `<API_ENDPOINT>` with it."
   ]
  },
  {
   "cell_type": "code",
   "execution_count": null,
   "metadata": {},
   "outputs": [],
   "source": [
    "API_ENDPOINT = \"<API_ENDPOINT>\""
   ]
  },
  {
   "cell_type": "markdown",
   "metadata": {},
   "source": [
    "You can also access the documentation to the API by opening the new browser tab, pasting the API endpoint value and adding `/docs` to it. You will see an interactive interface to test the API."
   ]
  },
  {
   "cell_type": "markdown",
   "metadata": {},
   "source": [
    "2.5. The first endpoint is to the `sessions` path in the API, which retrieves the transactional sessions. Let's test the API by performing a GET request to the endpoint with the next cell. If everything works you should get a `200` status code from the `sessions_response` object."
   ]
  },
  {
   "cell_type": "code",
   "execution_count": null,
   "metadata": {},
   "outputs": [],
   "source": [
    "request_start_date = \"2020-01-01\"\n",
    "request_end_date = \"2020-03-01\"\n",
    "sessions_response = requests.get(f'http://{API_ENDPOINT}/sessions?start_date={request_start_date}&end_date={request_end_date}')\n",
    "print(sessions_response.status_code)"
   ]
  },
  {
   "cell_type": "markdown",
   "metadata": {},
   "source": [
    "2.6. You can get the content of the response in JSON format using the `.json()` method, let's print the first record with the following cell."
   ]
  },
  {
   "cell_type": "code",
   "execution_count": null,
   "metadata": {},
   "outputs": [],
   "source": [
    "sessions_json = sessions_response.json()\n",
    "print(json.dumps(sessions_json[0], indent=4))"
   ]
  },
  {
   "cell_type": "markdown",
   "metadata": {},
   "source": [
    "2.7. The second endpoint is to the `users` path in the API, it retrieves the transactional sessions. Perform a GET request to the endpoint with the next cell, then print a sample with the cell after that one."
   ]
  },
  {
   "cell_type": "code",
   "execution_count": null,
   "metadata": {},
   "outputs": [],
   "source": [
    "users_request = requests.get(f'http://{API_ENDPOINT}/users')\n",
    "print(users_request.status_code)"
   ]
  },
  {
   "cell_type": "code",
   "execution_count": null,
   "metadata": {},
   "outputs": [],
   "source": [
    "users_json = users_request.json()\n",
    "print(json.dumps(users_json[0], indent=4))"
   ]
  },
  {
   "cell_type": "markdown",
   "metadata": {},
   "source": [
    "<a name='3'></a>\n",
    "## 3 - Exploratory Data Analysis\n",
    "\n",
    "To better understand the data sources, start analyzing the data types and values that come from each source. You can use the pandas library to perform Exploratory Data Analysis (EDA) on samples of data."
   ]
  },
  {
   "cell_type": "markdown",
   "metadata": {},
   "source": [
    "3.1. Let's begin with the `songs` table in the source RDS database, we will take advantage of the `%sql` magic to bring a sample with SQL and convert it into a pandas dataframe."
   ]
  },
  {
   "cell_type": "code",
   "execution_count": null,
   "metadata": {},
   "outputs": [],
   "source": [
    "songs_result = %sql SELECT *FROM deftunes.songs LIMIT 5\n",
    "songs_df = songs_result.DataFrame()\n",
    "songs_df.head()"
   ]
  },
  {
   "cell_type": "markdown",
   "metadata": {},
   "source": [
    "3.1. Use Pandas info() method to print out a summary of information about the dataframe, including information about the columns such as their data types."
   ]
  },
  {
   "cell_type": "code",
   "execution_count": null,
   "metadata": {},
   "outputs": [],
   "source": [
    "print(songs_df.info())"
   ]
  },
  {
   "cell_type": "markdown",
   "metadata": {},
   "source": [
    "3.2. Use the describe() method to generate a summary of statistics about the numerical and object columns in the dataframe."
   ]
  },
  {
   "cell_type": "code",
   "execution_count": null,
   "metadata": {},
   "outputs": [],
   "source": [
    "songs_df.describe()"
   ]
  },
  {
   "cell_type": "markdown",
   "metadata": {},
   "source": [
    "3.3. Convert JSON objects `sessions_json` and `users_json` into pandas dataframes, and display the first few rows."
   ]
  },
  {
   "cell_type": "code",
   "execution_count": null,
   "metadata": {},
   "outputs": [],
   "source": [
    "session_df = pd.json_normalize(sessions_json)\n",
    "session_df.head()"
   ]
  },
  {
   "cell_type": "code",
   "execution_count": null,
   "metadata": {},
   "outputs": [],
   "source": [
    "user_df = pd.json_normalize(users_json)\n",
    "user_df.head()"
   ]
  },
  {
   "cell_type": "markdown",
   "metadata": {},
   "source": [
    "<a name='4'></a>\n",
    "## 4 - ETL Pipeline with AWS Glue and Terraform\n",
    "\n",
    "Now you will start creating the required resources and infrastructure for your data pipeline. Remember that you will use a medallion architecture.\n",
    "\n",
    "The pipeline will be composed by the following steps:\n",
    "- An extraction job to get the data from the PostgreSQL Database. This data will be stored in the landing zone of your Data Lake.\n",
    "- An extraction job to get the data from the two API endpoints. This data will be stored in the landing zone of your Data Lake in JSON format.\n",
    "- A transformation job that takes the raw data extracted from the PostgreSQL Database, casts some fields to the correct data types, adds some metadata and stores the dataset in Iceberg format.\n",
    "- A transformation that takes the JSON data extracted from the API endpoints, normalizes some nested fields, adds metadata and stores the dataset in Iceberg format.\n",
    "- The creation of some schemas in your Data Warehouse hosted in Redshift."
   ]
  },
  {
   "cell_type": "markdown",
   "metadata": {},
   "source": [
    "<a name='4.1'></a>\n",
    "### 4.1 - Landing Zone\n",
    "\n",
    "For the landing zone, you are going to create three Glue Jobs: one to extract the data from the PostgreSQL database and two to get the data from each API's endpoint. You are going to create those jobs using Terraform to guarantee that the infrastructure for each job will be always the same and changes can be tracked easily. Let's start by creating the jobs and then creating the infrastructure."
   ]
  },
  {
   "cell_type": "markdown",
   "metadata": {},
   "source": [
    "4.1.1. Go to the `terraform/assets/extract_jobs` folder. You will find two scripts\n",
    "\n",
    "- `de-c4w4a1-extract-songs-job.py`: this script extracts data from the PostgreSQL source database.\n",
    "- `de-c4w4a1-api-extract-job.py`: this script extracts data from the API. Endpoints can be provided through parameters.\n",
    "\n",
    "Open each of them and follow the instructions in the comments to complete the scripts. Save changes to both of the files.\n",
    "\n",
    "In a later section, you will run those Glue Jobs. Take into account that in the landing zone of your Data Lake you will see that the data will be stored in subfolders named according to the date of ingestion, which by default is your current date."
   ]
  },
  {
   "cell_type": "markdown",
   "metadata": {},
   "source": [
    "4.1.2. You will need to complete the terraform module `extract_job`. Given that you already created the scripts for the Glue Jobs, let's start by uploading them to an S3 bucket. Open the `terraform/modules/extract_job/s3.tf` file. You are already provided with some resources such as the scripts bucket and its permissions. Complete the code in the file following the instructions. Make sure that you save changes."
   ]
  },
  {
   "cell_type": "markdown",
   "metadata": {},
   "source": [
    "4.1.3. Open the `terraform/modules/extract_job/glue.tf` file. In this file you will set all the required resources to create the Glue Jobs. Complete the code following the instructions and save changes."
   ]
  },
  {
   "cell_type": "markdown",
   "metadata": {},
   "source": [
    "4.1.4. Explore the rest of the files of the `extract_job` module to understand the whole infrastructure. Avoid performing further changes to other files. Here is the summary of what you can find in those files:\n",
    "- In `terraform/modules/extract_job/iam.tf` file you can find the creation of the role used to execute the Glue Jobs. There is also the attachment of a policy holding the permissions. Those permissions can be found directly in the `terraform/modules/extract_job/policies.tf` file.\n",
    "- The `terraform/modules/extract_job/network.tf` has the definition of the private subnet and the source database security group used to create the Glue Connection used to allow the Glue Jobs to connect to the source PostgreSQL database.\n",
    "- The `terraform/modules/extract_job/variables.tf` contains the necessary input parameters for this module, while the `terraform/modules/extract_job/outputs.tf` sets the possible outputs that terraform will show in the console from this module."
   ]
  },
  {
   "cell_type": "markdown",
   "metadata": {},
   "source": [
    "4.1.5. You are ready to deploy the first module of your infrastructure. Open the `terraform/main.tf` file and uncomment the lines associated with the module named `extract_job` (lines 1 to 14); make sure to keep the rest of modules commented. Open the `terraform/outputs.tf` file and uncomment the outputs associated with the extract module (lines 5 to 20). Save changes in both of the files."
   ]
  },
  {
   "cell_type": "markdown",
   "metadata": {},
   "source": [
    "4.1.6. In the VSCode terminal, go to the `terraform` folder and deploy the infrastructure with the following commands.\n",
    "\n",
    "*Note*:<span style=\"color:red\"> All terminal commands in this lab should be run in the VSCode terminal, not Jupyter, as it may cause some issues.</span>\n",
    "\n",
    "```bash\n",
    "cd terraform\n",
    "terraform init\n",
    "terraform plan\n",
    "terraform apply\n",
    "```\n",
    "\n",
    "*Note*: Remember that the command `terraform apply` will prompt you to reply `yes`."
   ]
  },
  {
   "cell_type": "markdown",
   "metadata": {},
   "source": [
    "4.1.7. You will get some outputs, in particular, you require the following three: `glue_api_users_extract_job`, `glue_sessions_users_extract_job` and `glue_rds_extract_job`. Those outputs correspond to the three glue jobs that will extract the data from the API endpoints and the database respectively. Use the following command in the terminal to execute each job based on its name. Replace `<JOB-NAME>` with the value of the terraform outputs (`de-c4w4a1-api-users-extract-job`, `de-c4w4a1-api-sessions-extract-job` and `de-c4w4a1-rds-extract-job`) respectively. You can run those three jobs in parallel.\n",
    "\n",
    "```bash\n",
    "aws glue start-job-run --job-name <JOB-NAME> | jq -r '.JobRunId'\n",
    "```\n",
    "\n",
    "You should get `JobRunID` in the output. Use this job run ID to track each job status by using this command, replacing the `<JOB-NAME>` and `<JobRunID>` placeholders.\n",
    "\n",
    "```bash\n",
    "aws glue get-job-run --job-name <JOB-NAME> --run-id <JobRunID> --output text --query \"JobRun.JobRunState\"\n",
    "```\n",
    "\n",
    "Wait until the statuses of those three jobs change to `SUCCEEDED` (each job should take around 3 mins)."
   ]
  },
  {
   "cell_type": "markdown",
   "metadata": {},
   "source": [
    "<a name='4.2'></a>\n",
    "### 4.2 - Transformation Zone\n",
    "\n",
    "Once you have run the jobs that feed the first layer of your Data Lake three-tier architecture, it is time to generate the jobs to transform the data and store it in the second layer. The methodology will be similar to the previous zone: you will create the Glue Job scripts to take the data out of the landing layer, transform it and put it into the transformation zone layer. Then you will create the necessary resources in AWS using Terraform."
   ]
  },
  {
   "cell_type": "markdown",
   "metadata": {},
   "source": [
    "4.2.1. Go to the `terraform/assets/transform_jobs` folder. You will find two scripts:\n",
    "- `de-c4w4a1-transform-songs-job.py`\n",
    "- `de-c4w4a1-transform-json-job.py`\n",
    "\n",
    "The two scripts will take the data out of the `landing_zone` layer in the Data Lake and, after some transformations, will store the data into the `transform_zone` layer in Apache Iceberg format.\n",
    "\n",
    "Open each of them and follow the instructions in the comments to complete the scripts. Save changes to both of the files.\n",
    "\n",
    "If you want to know more about saving data into Apache Iceberg format using the Glue Catalog, you can check the [documentation](https://docs.aws.amazon.com/glue/latest/dg/aws-glue-programming-etl-format-iceberg.html#aws-glue-programming-etl-format-iceberg-insert)."
   ]
  },
  {
   "cell_type": "markdown",
   "metadata": {},
   "source": [
    "4.2.2. Time to complete the terraform module `transform_job`. Open the `terraform/modules/transform_job/s3.tf` file. Complete the script following the instructions and save changes."
   ]
  },
  {
   "cell_type": "markdown",
   "metadata": {},
   "source": [
    "4.2.3. Open the `terraform/modules/transform_job/glue.tf` file. Complete the code following the instructions and save changes."
   ]
  },
  {
   "cell_type": "markdown",
   "metadata": {},
   "source": [
    "4.2.4. Open the `terraform/main.tf` file and uncomment the lines associated with the module named `transform_job` (lines 16 to 30). "
   ]
  },
  {
   "cell_type": "markdown",
   "metadata": {},
   "source": [
    "4.2.5. Open the `terraform/outputs.tf` file and uncomment the lines 22 to 34. "
   ]
  },
  {
   "cell_type": "markdown",
   "metadata": {},
   "source": [
    "4.2.6. In the terminal, go to the `terraform` folder and deploy the infrastructure with the following commands:\n",
    "\n",
    "```bash\n",
    "cd terraform\n",
    "terraform init\n",
    "terraform plan\n",
    "terraform apply\n",
    "```\n",
    "\n",
    "*Note*: Remember that the command `terraform apply` will prompt you to reply `yes`."
   ]
  },
  {
   "cell_type": "markdown",
   "metadata": {},
   "source": [
    "4.2.7. You will get some additional outputs, in particular, you require the following two: `glue_json_transformation_job` and `glue_songs_transformation_job`. Execute the two glue jobs, based on the name (`de-c4w4a1-json-transform-job` or `de-c4w4a1-songs-transform-job`). You can run those two jobs in parallel. Use the following command in the VSCode terminal:\n",
    "\n",
    "```bash\n",
    "aws glue start-job-run --job-name <JOB-NAME> | jq -r '.JobRunId'\n",
    "```\n",
    "\n",
    "And based on the job run ID track each job status by using this command:\n",
    "\n",
    "```bash\n",
    "aws glue get-job-run --job-name <JOB-NAME> --run-id <JobRunID> --output text --query \"JobRun.JobRunState\"\n",
    "```\n",
    "\n",
    "Wait until the jobs statuses change to `SUCCEEDED` (each job should take around 3 mins)."
   ]
  },
  {
   "cell_type": "markdown",
   "metadata": {},
   "source": [
    "<a name='4.3'></a>\n",
    "### 4.3 - Serving Zone\n",
    "\n",
    "For the last layer of your Three-tier Data Lake architecture, you are going to use AWS Redshift as a Data Warehouse solution. The transformations will be performed directly inside Redshift, but you need to make the data available in that storage solution. For that, you will use Redshift Spectrum, which is a feature that allows you to run queries against data stored in S3 without having to load the data into Redshift tables. For that, you are required to use a Glue Catalog which was already created in the `transform` module.\n",
    "\n",
    "Follow the instructions below to finish setting up your resources for the `serving` module."
   ]
  },
  {
   "cell_type": "markdown",
   "metadata": {},
   "source": [
    "4.3.1. Open the file located at `terraform/modules/serving/iam.tf`. Complete the code and save changes."
   ]
  },
  {
   "cell_type": "markdown",
   "metadata": {},
   "source": [
    "4.3.2. Open the file `terraform/modules/serving/redshift.tf`. Complete the code and save changes."
   ]
  },
  {
   "cell_type": "markdown",
   "metadata": {},
   "source": [
    "4.3.4. Open the `terraform/main.tf` file and uncomment the lines associated with the module named `serving` (lines 32 to 48). "
   ]
  },
  {
   "cell_type": "markdown",
   "metadata": {},
   "source": [
    "4.3.5. Uncomment the corresponding lines in the `terraform/outputs.tf` file (lines 37 to 44).  "
   ]
  },
  {
   "cell_type": "markdown",
   "metadata": {},
   "source": [
    "4.3.6. Deploy the infrastructure for the last layer. In the terminal, go to the `terraform` folder and run the commands:\n",
    "\n",
    "```bash\n",
    "cd terraform\n",
    "terraform init\n",
    "terraform plan\n",
    "terraform apply\n",
    "```\n",
    "\n",
    "*Note*: Remember that the command `terraform apply` will prompt you to reply `yes`.\n",
    "\n",
    "With that, you have deployed the required infrastructure for your three-tier data lake. The next step consists of modelling the data in your Redshift Data Warehouse to serve it."
   ]
  },
  {
   "cell_type": "markdown",
   "metadata": {},
   "source": [
    "<a name='5'></a>\n",
    "## 5 - Data Modeling with dbt and Redshift Spectrum"
   ]
  },
  {
   "cell_type": "markdown",
   "metadata": {},
   "source": [
    "<a name='5.1'></a>\n",
    "### 5.1 - Redshift Setup\n",
    "\n",
    "Before working with DBT to model the data in the transformation layer into the serving layer, you need to use **Redshift Spectrum** to connect Redshift with the Iceberg tables. Spectrum allows you to query files from S3 directly from Redshift, it also has a special feature that allows us to read directly from Iceberg tables just by creating an external schema that points to the Glue database containing the tables. For this initial setup, you will use Terraform to set up the external schema and a normal schema for the serving layer."
   ]
  },
  {
   "cell_type": "markdown",
   "metadata": {},
   "source": [
    "5.1.1. Navigate to the `terraform` folder and run the serving module with the following command:\n",
    "\n",
    "```bash\n",
    "terraform apply -target=module.serving\n",
    "```"
   ]
  },
  {
   "cell_type": "markdown",
   "metadata": {},
   "source": [
    "<a name='5.2'></a>\n",
    "### 5.2 - Redshift Test\n",
    "\n",
    "To verify that the schemas were set up successfully, you will connect to the target Redshift cluster using the `%sql` magic. "
   ]
  },
  {
   "cell_type": "markdown",
   "metadata": {},
   "source": [
    "5.2.1. Let's start by configuring the credentials, you can obtain the Redshift's cluster endpoint in the CloudFormation stack's outputs and replace the placeholder `<REDSHIFT_ENDPOINT>` with it."
   ]
  },
  {
   "cell_type": "code",
   "execution_count": null,
   "metadata": {},
   "outputs": [],
   "source": [
    "REDSHIFTDBHOST = '<REDSHIFT_ENDPOINT>'\n",
    "REDSHIFTDBPORT = 5439\n",
    "REDSHIFTDBNAME = 'dev'\n",
    "REDSHIFTDBUSER = 'defaultuser'\n",
    "REDSHIFTDBPASSWORD = 'Defaultuserpwrd1234+'\n",
    "\n",
    "redshift_connection_url = f'postgresql+psycopg2://{REDSHIFTDBUSER}:{REDSHIFTDBPASSWORD}@{REDSHIFTDBHOST}:{REDSHIFTDBPORT}/{REDSHIFTDBNAME}'\n",
    "%sql {redshift_connection_url}"
   ]
  },
  {
   "cell_type": "markdown",
   "metadata": {},
   "source": [
    "5.2.2. Test the connection and the setup, this query will return the list of available schemas for the `dev` database, and the external schema and gold layer schema should appear."
   ]
  },
  {
   "cell_type": "code",
   "execution_count": null,
   "metadata": {
    "exercise": [
     "ex01"
    ],
    "tags": [
     "graded"
    ]
   },
   "outputs": [],
   "source": [
    "%sql SHOW SCHEMAS FROM DATABASE dev "
   ]
  },
  {
   "cell_type": "markdown",
   "metadata": {},
   "source": [
    "5.2.3. Now, let's verify that the Iceberg tables where automatically imported into the external schema, let's query the tables available inside the external schema."
   ]
  },
  {
   "cell_type": "code",
   "execution_count": null,
   "metadata": {
    "exercise": [
     "ex02"
    ],
    "tags": [
     "graded"
    ]
   },
   "outputs": [],
   "source": [
    "%sql SHOW TABLES FROM SCHEMA dev.deftunes_transform"
   ]
  },
  {
   "cell_type": "markdown",
   "metadata": {},
   "source": [
    "Query the Iceberg tables in the external schema to verify that Redshift can read from them."
   ]
  },
  {
   "cell_type": "code",
   "execution_count": null,
   "metadata": {
    "exercise": [
     "ex03"
    ],
    "tags": [
     "graded"
    ]
   },
   "outputs": [],
   "source": [
    "%sql select * from deftunes_transform.songs limit 10"
   ]
  },
  {
   "cell_type": "code",
   "execution_count": null,
   "metadata": {
    "exercise": [
     "ex04"
    ],
    "tags": [
     "graded"
    ]
   },
   "outputs": [],
   "source": [
    "%sql select * from deftunes_transform.sessions limit 10"
   ]
  },
  {
   "cell_type": "code",
   "execution_count": null,
   "metadata": {
    "exercise": [
     "ex05"
    ],
    "tags": [
     "graded"
    ]
   },
   "outputs": [],
   "source": [
    "%sql select * from deftunes_transform.users limit 10"
   ]
  },
  {
   "cell_type": "markdown",
   "metadata": {},
   "source": [
    "<a name='5.3'></a>\n",
    "### 5.3 - dbt Setup\n",
    "\n",
    "Now that you have set up the target database in Redshift, you will create a dbt project that connects to Redshift and allows you to model the transform layer tables into the final data model in the serving layer. "
   ]
  },
  {
   "cell_type": "markdown",
   "metadata": {},
   "source": [
    "5.3.1. Create the new project using the following commands in the VSCode terminal.\n",
    "\n",
    "*Note*:<span style=\"color:red\"> All terminal commands in this lab should be run in the VSCode terminal, not Jupyter, as it may cause some issues. Always check that the virtual environment is active.</span>\n",
    "\n",
    "```bash\n",
    "cd ..\n",
    "source jupyterlab-venv/bin/activate\n",
    "dbt init dbt_modeling\n",
    "```"
   ]
  },
  {
   "cell_type": "markdown",
   "metadata": {},
   "source": [
    "After running the command, dbt will ask you the engine to run the project on, select the option for Redshift. The CLI will ask you for the connection details, use the same connection values you used before to configure the `%sql` magic (step 5.2.1), when asked for the `dbname` input `dev`, for `schema` input `deftunes_serving`, for `threads` input `1`. \n",
    "\n",
    "![dbt setup](images/dbt_config.png)"
   ]
  },
  {
   "cell_type": "markdown",
   "metadata": {},
   "source": [
    "5.3.2. To test the connection, run the following commands:\n",
    "\n",
    "```bash\n",
    "cd dbt_modeling\n",
    "dbt debug\n",
    "```"
   ]
  },
  {
   "cell_type": "markdown",
   "metadata": {},
   "source": [
    "If everything was correctly configured, you should see the following text at the end of the output:\n",
    "\n",
    "```bash\n",
    "Connection test: [OK connection ok]\n",
    "```\n",
    "\n",
    "*Note*: If you had issues defining the connection details, you can use the `profiles.yml` file in the scripts folder as a guide to define the connection details, change the placeholder in the file with the Redshift cluster endpoint and then copy it to the following path `~/.dbt/profiles.yml ` with this command:\n",
    "\n",
    "```bash\n",
    "cp ../scripts/profiles.yml ~/.dbt/profiles.yml \n",
    "```"
   ]
  },
  {
   "cell_type": "markdown",
   "metadata": {},
   "source": [
    "<a name='5.4'></a>\n",
    "### 5.4 - Data Modeling\n",
    "\n",
    "*Note*: This section is optional and not graded.\n",
    "\n",
    "5.4.1. Now that the dbt project has the initial setup, create a new folder named `serving_layer` in the models folder, this subfolder will contain the models associated with the star schema.\n",
    "```bash\n",
    "cd models\n",
    "mkdir serving_layer\n",
    "```\n",
    "\n",
    "5.4.2. In the `./dbt_modeling/dbt_project.yml`, change the `models` block to the following one:\n",
    "\n",
    "```yaml\n",
    "models:\n",
    "  dbt_modeling:\n",
    "    serving_layer:\n",
    "      +materialized: table\n",
    "```\n",
    "\n",
    "Save changes to the file."
   ]
  },
  {
   "cell_type": "markdown",
   "metadata": {},
   "source": [
    "5.4.3. Now you can prepare files for data modeling into the star schema. You will need to identify fact and dimensional tables, then create an SQL model file for each. Finally, inside the new folder, create a `schema.yml` file. You can look at the `example` folder if needed. Once you are done modelling the data, use the following command to run the models you created (make sure you are in the `dbt_modeling` project folder):\n",
    "\n",
    "```bash\n",
    "dbt run -s serving_layer\n",
    "```\n",
    "\n",
    "If all the model runs were successful, you should see an output like this one, where N is the number of models you created.\n",
    "```bash\n",
    "Completed successfully\n",
    "\n",
    "Done. PASS=X WARN=0 ERROR=0 SKIP=0 TOTAL=X\n",
    "```"
   ]
  },
  {
   "cell_type": "markdown",
   "metadata": {},
   "source": [
    "5.4.4. The final test for your models will be for you to query them using the `%sql` magic. Run the following query for each table to get a sample and verify that the model definition was correct (replace the placeholder `<TABLE_NAME>`)."
   ]
  },
  {
   "cell_type": "code",
   "execution_count": null,
   "metadata": {
    "exercise": [
     "ex06"
    ],
    "tags": [
     "graded"
    ]
   },
   "outputs": [],
   "source": [
    "%sql SHOW TABLES FROM SCHEMA dev.deftunes_serving"
   ]
  },
  {
   "cell_type": "code",
   "execution_count": null,
   "metadata": {},
   "outputs": [],
   "source": [
    "%sql SELECT * FROM deftunes_serving.<TABLE_NAME> limit 10"
   ]
  },
  {
   "cell_type": "code",
   "execution_count": null,
   "metadata": {},
   "outputs": [],
   "source": [
    "%sql DROP SCHEMA deftunes_serving CASCADE;"
   ]
  },
  {
   "cell_type": "markdown",
   "metadata": {},
   "source": [
    "During the first part of the capstone, you set up a data architecture for the new business operation of DeFtunes, you implemented a basic data pipeline that can be improved later on with an iterative approach. In the second part of the capstone, you will improve upon the existing data architecture adding orchestration, data visualization and data quality checks. "
   ]
  },
  {
   "cell_type": "markdown",
   "metadata": {},
   "source": [
    "<a name='6'></a>\n",
    "## 6 - Upload Files for Grading\n",
    "\n",
    "Upload the notebook into S3 bucket for grading purposes.\n",
    "\n",
    "*Note*: you may need to click **Save** button before the upload."
   ]
  },
  {
   "cell_type": "code",
   "execution_count": null,
   "metadata": {},
   "outputs": [],
   "source": [
    "# Retrieve the AWS account ID\n",
    "result = subprocess.run(['aws', 'sts', 'get-caller-identity', '--query', 'Account', '--output', 'text'], capture_output=True, text=True)\n",
    "AWS_ACCOUNT_ID = result.stdout.strip()\n",
    "\n",
    "SUBMISSION_BUCKET = f\"{LAB_PREFIX}-{AWS_ACCOUNT_ID}-us-east-1-submission\"\n",
    "\n",
    "!aws s3 cp ./C4_W4_Assignment_1.ipynb s3://$SUBMISSION_BUCKET/C4_W4_Assignment_1_Learner.ipynb"
   ]
  }
 ],
 "metadata": {
  "kernelspec": {
   "display_name": "Python 3 (ipykernel)",
   "language": "python",
   "name": "python3"
  },
  "language_info": {
   "codemirror_mode": {
    "name": "ipython",
    "version": 3
   },
   "file_extension": ".py",
   "mimetype": "text/x-python",
   "name": "python",
   "nbconvert_exporter": "python",
   "pygments_lexer": "ipython3",
   "version": "3.10.12"
  }
 },
 "nbformat": 4,
 "nbformat_minor": 4
}
