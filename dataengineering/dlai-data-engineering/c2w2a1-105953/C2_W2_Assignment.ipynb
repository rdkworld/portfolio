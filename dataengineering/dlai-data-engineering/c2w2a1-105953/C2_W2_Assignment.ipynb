{
 "cells": [
  {
   "cell_type": "markdown",
   "metadata": {},
   "source": [
    "# Batch Data Processing from an API\n",
    "\n",
    "In this lab, you will learn how to interact with the Spotify API and extract data from the API in a batch way. You will explore what pagination means and how to send an API request that requires authorization."
   ]
  },
  {
   "cell_type": "markdown",
   "metadata": {},
   "source": [
    "# Table of Contents\n",
    "\n",
    "- [ 1 - Create a Spotify APP](#1)\n",
    "- [ 2 - Understand the Basics of APIs](#2)\n",
    "  - [ 2.1 - Get Token](#2.1)\n",
    "  - [ 2.2 - Get Featured Playlists](#2.2)\n",
    "    - [ Exercise 1](#ex01)\n",
    "  - [ 2.3 - Pagination](#2.3)\n",
    "    - [ Exercise 2](#ex02)\n",
    "    - [ Exercise 3](#ex03)\n",
    "  - [ 2.4 - Optional - API Rate Limits](#2.4)\n",
    "- [ 3 - Batch pipeline](#3)\n",
    "  - [ Exercise 4](#ex04)\n",
    "  - [ Exercise 5](#ex05)\n",
    "  - [ Exercise 6](#ex06)\n",
    "- [ 4 - Optional - Spotipy SDK](#4)\n",
    "  - [ Exercise 7](#ex07)\n",
    "- [ 5 - Upload the Files for Grading](#5)"
   ]
  },
  {
   "cell_type": "markdown",
   "metadata": {},
   "source": [
    "<a name='1'></a>\n",
    "## 1 - Create a Spotify APP\n",
    "\n",
    "To get access to the API resources, you need to create a Spotify account if you don't already have one. A trial account will be enough to complete this lab.\n",
    "\n",
    "1. Go to https://developer.spotify.com/, create an account and log in.\n",
    "2. Click on the account name in the right-top corner and then click on **Dashboard**.\n",
    "3. Create a new APP using the following details:\n",
    "   - App name: `dec2w2a1-spotify-app`\n",
    "   - App description: `spotify app to test the API`\n",
    "   - Website: leave empty\n",
    "   - Redirect URIs: `http://localhost:3000`\n",
    "   - API to use: select `Web API`\n",
    "4. Click on **Save** button. If you get an error message saying that your account is not ready, you can log out, wait for a few minutes and then repeat again steps 2-4.\n",
    "5. In the App Home page click on **Settings** and reveal `Client ID` and `Client secret`. Store them in the `src/env` file provided in this lab. Make sure to save the `src/env` file using `Ctrl + S` or `Cmd + S`.\n",
    "\n",
    "\n",
    "Here's the link to [the Spotify API documentation](https://developer.spotify.com/documentation/web-api/tutorials/getting-started) that you can refer to while you're working on the lab's exercises. The required information to complete the tasks will be given during the lab. You will interact with two resources: \n",
    "- Featured playlists in the first and second parts ([endpoint](https://developer.spotify.com/documentation/web-api/reference/get-featured-playlists));\n",
    "- Playlist items in the second part ([endpoint](https://developer.spotify.com/documentation/web-api/reference/get-playlists-tracks))."
   ]
  },
  {
   "cell_type": "markdown",
   "metadata": {},
   "source": [
    "<a name='2'></a>\n",
    "## 2 - Understand the Basics of APIs\n",
    "\n",
    "Several packages in Python allow you to request data from an API; in this lab, you will use the `requests` package, which is a popular and versatile library to perform HTTP requests. It provides a simple and easy-to-use way to interact with web services and APIs. Let's load the required packages:"
   ]
  },
  {
   "cell_type": "code",
   "execution_count": null,
   "metadata": {},
   "outputs": [],
   "source": [
    "import os\n",
    "import subprocess\n",
    "from typing import Dict, Any, Callable\n",
    "\n",
    "from dotenv import load_dotenv\n",
    "import json\n",
    "import requests "
   ]
  },
  {
   "cell_type": "markdown",
   "metadata": {},
   "source": [
    "<a name='2.1'></a>\n",
    "### 2.1 - Get Token\n",
    "\n",
    "The first step when working with an API is to understand the authentication process. For that, the Spotify APP generates a Client ID and a Client secret that you will use to generate an access token. The access token is a string that contains the credentials and permissions that you can use to access a given resource. You can find more about it in the [API documentation](https://developer.spotify.com/documentation/web-api/concepts/access-token). Since each API is developed with a particular purpose, it is necessary for you to always read and understand the nuances of each API so you can access the data responsibly. Throughout this lab, you will be provided with several links to the documentation and you are encouraged to read them. (During the lab session, you may quickly skim through the links, but you can always check them in more details after the lab session). \n",
    "\n",
    "Let's create some variables to hold the values of the client_id and client_secret that you stored in the src/env file."
   ]
  },
  {
   "cell_type": "code",
   "execution_count": null,
   "metadata": {},
   "outputs": [],
   "source": [
    "load_dotenv('./src/env', override=True)\n",
    "\n",
    "CLIENT_ID = os.getenv('CLIENT_ID')\n",
    "CLIENT_SECRET = os.getenv('CLIENT_SECRET')"
   ]
  },
  {
   "cell_type": "markdown",
   "metadata": {},
   "source": [
    "The `get_token` function below takes a Client ID, Client secret and a URL as input, and performs a POST request to that URL to obtain an access token using the client credentials. Run the following cell to get the access token."
   ]
  },
  {
   "cell_type": "code",
   "execution_count": null,
   "metadata": {},
   "outputs": [],
   "source": [
    "def get_token(client_id: str, client_secret: str, url: str) -> Dict[Any, Any]:\n",
    "    \"\"\"Allows to perform a POST request to obtain an access token \n",
    "\n",
    "    Args:\n",
    "        client_id (str): App client id\n",
    "        client_secret (str): App client secret\n",
    "        url (str): URL to perform the post request\n",
    "\n",
    "    Returns:\n",
    "        Dict[Any, Any]: Dictionary containing the access token\n",
    "    \"\"\"\n",
    "        \n",
    "    headers = {        \n",
    "        \"Content-Type\": \"application/x-www-form-urlencoded\"            \n",
    "    }\n",
    "    \n",
    "    payload = {\n",
    "                \"grant_type\": \"client_credentials\", \n",
    "                \"client_id\": client_id, \n",
    "                \"client_secret\": client_secret\n",
    "               }\n",
    "    \n",
    "    try: \n",
    "        response = requests.post(url=url, headers=headers, data=payload)\n",
    "        print(type(response))\n",
    "        response.raise_for_status()\n",
    "        response_json = json.loads(response.content)\n",
    "        \n",
    "        return response_json\n",
    "        \n",
    "    except Exception as err:\n",
    "        print(f\"Error: {err}\")\n",
    "        return {}\n",
    "\n",
    "URL_TOKEN=\"https://accounts.spotify.com/api/token\"\n",
    "token = get_token(client_id=CLIENT_ID, client_secret=CLIENT_SECRET, url=URL_TOKEN)\n",
    "\n",
    "print(token)"
   ]
  },
  {
   "cell_type": "markdown",
   "metadata": {},
   "source": [
    "You can see that you are provided with a temporary access token. The `expires_in` field tells you the duration of this token in seconds. When this token expires, your requests will fail and an error object will be returned to you holding a status code of 401. This status code means that the request is unauthorized.\n",
    "\n",
    "Whenever you send an API request to the spotify API, you need to include in the request the access token, as an authorization header following a certain format. You are provided with the function `get_auth_header`. This function expects the access token and returns the authorization header that can be included in the API request. \n",
    "\n",
    "Make sure to run the following cell to declare the function `get_auth_header`, which you will use throughout this lab."
   ]
  },
  {
   "cell_type": "code",
   "execution_count": null,
   "metadata": {},
   "outputs": [],
   "source": [
    "def get_auth_header(access_token: str) -> Dict[str, str]:\n",
    "    return {\"Authorization\": f\"Bearer {access_token}\"}"
   ]
  },
  {
   "cell_type": "markdown",
   "metadata": {},
   "source": [
    "Now, let's use the token to perform a request to access the first resource, which is the [featured playlists](https://developer.spotify.com/documentation/web-api/reference/get-featured-playlists)."
   ]
  },
  {
   "cell_type": "markdown",
   "metadata": {},
   "source": [
    "<a name='2.2'></a>\n",
    "### 2.2 - Get Featured Playlists"
   ]
  },
  {
   "cell_type": "markdown",
   "metadata": {},
   "source": [
    "<a name='ex01'></a>\n",
    "### Exercise 1\n",
    "\n",
    "Follow the instructions to complete the `get_featured_playlists` function:\n",
    "\n",
    "1. Call the function `get_auth_header`and pass to it the access token (which is specified as input to the `get_featured_playlists` function). Save the output of `get_auth_header` to a variable called `headers`.\n",
    "2. You are provided with the URL in the `request_url` variable. Use this URL and the header from the previous step to perform a `get()` request. \n",
    "3. Request `response` is an object of type `requests.models.Response`. This object has a method named `json()` that allows you to transform the response content into a JSON object or plain Python dictionary. Use this method on the `response` object to return the content as a Python dictionary.\n",
    "\n",
    "Then you will use the provided `URL_FEATURE_PLAYLISTS` URL or endpoint to perform calls to the API, passing the `access_token` value from the `token` object that you obtained before."
   ]
  },
  {
   "cell_type": "code",
   "execution_count": null,
   "metadata": {
    "exercise": [
     "ex01"
    ],
    "tags": [
     "graded"
    ]
   },
   "outputs": [],
   "source": [
    "def get_featured_playlists(url: str, access_token: str, offset: int=0, limit: int=20, next: str=\"\") -> Dict[Any, Any]:\n",
    "    \"\"\"Perform get() request to featured playlists endpoint\n",
    "\n",
    "    Args:\n",
    "        url (str): Base url for the request\n",
    "        access_token (str): Access token\n",
    "        offset (int, optional): Page offset for pagination. Defaults to 0.\n",
    "        limit (int, optional): Number of elements per page. Defaults to 20.\n",
    "        next (str, optional): Next URL to perform next request. Defaults to \"\".\n",
    "\n",
    "    Returns:\n",
    "        Dict[Any, Any]: Request response\n",
    "    \"\"\"\n",
    "\n",
    "    if next == \"\":        \n",
    "        request_url = f\"{url}?offset={offset}&limit={limit}\"\n",
    "    else: \n",
    "        request_url = f\"{next}\"\n",
    "\n",
    "    ### START CODE HERE ### (~ 4 lines of code)\n",
    "    # Call get_auth_header() function and pass the access token.\n",
    "    headers = None(access_token=None)\n",
    "    \n",
    "    try: \n",
    "        # Perform a get() request using the request_url and headers.\n",
    "        response = requests.None(url=None, headers=None)\n",
    "        # Use json() method over the response to return it as Python dictionary.\n",
    "        return None.None()\n",
    "    ### END CODE HERE ###\n",
    "    \n",
    "    except Exception as err:\n",
    "        print(f\"Error requesting data: {err}\")\n",
    "        return {'error': err}\n",
    "        \n",
    "URL_FEATURE_PLAYLISTS = \"https://api.spotify.com/v1/browse/featured-playlists\"\n",
    "\n",
    "# Note: the `access_token` value from the dictionary `token` can be retrieved either using `get()` method or dictionary syntax `token['access_token']`\n",
    "playlists_response = get_featured_playlists(url=URL_FEATURE_PLAYLISTS, access_token=token.get('access_token'))\n",
    "playlists_response"
   ]
  },
  {
   "cell_type": "markdown",
   "metadata": {},
   "source": [
    "The result you get is a JSON object that was transformed into a python dictionary. You can explore the structure of the response you get:"
   ]
  },
  {
   "cell_type": "code",
   "execution_count": null,
   "metadata": {},
   "outputs": [],
   "source": [
    "playlists_response.keys()"
   ]
  },
  {
   "cell_type": "code",
   "execution_count": null,
   "metadata": {},
   "outputs": [],
   "source": [
    "playlists_response.get('playlists').keys()"
   ]
  },
  {
   "cell_type": "markdown",
   "metadata": {},
   "source": [
    "Each API manages responses in its own way so it is highly recommended to read the documentation and understand the nuances behind the API endpoints you are working with. In this case, you see some fields such as `'href'` under the `'playlists'` field, which tells you the URL used for the request you just sent."
   ]
  },
  {
   "cell_type": "code",
   "execution_count": null,
   "metadata": {},
   "outputs": [],
   "source": [
    "playlists_response.get('playlists').get('href')"
   ]
  },
  {
   "cell_type": "markdown",
   "metadata": {},
   "source": [
    "You can see that there are two parameters: `offset` and `limit` that were added to the endpoint. Those parameters are the base of pagination in this API endpoint. We will take a look at them later. \n",
    "\n",
    "You can also explore the returned items using the `'items'` field under `'playlists'`. This will return a list of items, you can take a look at the number of items returned:"
   ]
  },
  {
   "cell_type": "code",
   "execution_count": null,
   "metadata": {},
   "outputs": [],
   "source": [
    "len(playlists_response.get('playlists').get('items'))"
   ]
  },
  {
   "cell_type": "markdown",
   "metadata": {},
   "source": [
    "Explore the items:"
   ]
  },
  {
   "cell_type": "code",
   "execution_count": null,
   "metadata": {},
   "outputs": [],
   "source": [
    "playlists_response.get('playlists').get('items')[0]"
   ]
  },
  {
   "cell_type": "markdown",
   "metadata": {},
   "source": [
    "<a name='2.3'></a>\n",
    "### 2.3 - Pagination\n",
    "\n",
    "At the end of `playlists_response`, you can see the following fields:\n",
    "\n",
    "```json\n",
    "{\n",
    "...,\n",
    "'limit': 20,\n",
    "'next': 'https://api.spotify.com/v1/browse/featured-playlists?offset=20&limit=20',\n",
    "'offset': 0,\n",
    "'previous': None,\n",
    "'total': 100\n",
    "}\n",
    "```\n",
    "\n",
    "Although there is a total of 100 available items to be returned, only 20 were returned. This is established by the `limit` parameter and those were the 20 items you just counted before. This limit on the number of elements returned is a common feature of several APIs and although in some cases you can modify such a limit, a good practice is to use it with **pagination** to get all the elements that can be returned. \n",
    "\n",
    "Each API handles pagination differently. For Spotify, the requests response provides you with two fields that allowa you to query the different pages of your request: `previous` and `next`. These two fields will return the URL to the previous or next page respectively and they are based on the `offset` and `limit` parameters. In this case, there are two ways for you to explore the rest of the data:\n",
    "\n",
    "- you can use the value from the next parameter to get the direct URL for the next page of requests, or \n",
    "- you can build the URL for the next page from scratch using the offset and limit parameters (make sure to update the offset parameter for the request). \n",
    "\n",
    "For the sake of learning, you will use method 2 to build the URL yourself. Then you will also compare it with the result from using the first method just to check that you created the URL correctly.\n",
    "\n",
    "Before creating a function that will allow you to paginate, let's try to do it manually. If you compare the URLs provided by the `href` and `next` fields, you can see that while the `limit` parameter remains the same, the `offset` parameter has increased with the same value as the one stored in `limit`.\n",
    "\n",
    "```json\n",
    "{\n",
    "...,\n",
    "'href': 'https://api.spotify.com/v1/browse/featured-playlists?offset=0&limit=20',\n",
    "...,\n",
    "'next': 'https://api.spotify.com/v1/browse/featured-playlists?offset=20&limit=20',\n",
    "...\n",
    "}\n",
    "```\n",
    "\n",
    "So for our next call, let's pass 20 to `offset` and keep `limit` as 20:"
   ]
  },
  {
   "cell_type": "code",
   "execution_count": null,
   "metadata": {},
   "outputs": [],
   "source": [
    "next_playlists_response = get_featured_playlists(url=URL_FEATURE_PLAYLISTS, access_token=token.get('access_token'), offset=20, limit=20)"
   ]
  },
  {
   "cell_type": "markdown",
   "metadata": {},
   "source": [
    "Check the values for `href` and `next` in the new response `next_playlists_response`:"
   ]
  },
  {
   "cell_type": "code",
   "execution_count": null,
   "metadata": {},
   "outputs": [],
   "source": [
    "next_playlists_response.get('playlists').get('href')"
   ]
  },
  {
   "cell_type": "code",
   "execution_count": null,
   "metadata": {},
   "outputs": [],
   "source": [
    "next_playlists_response.get('playlists').get('next')"
   ]
  },
  {
   "cell_type": "markdown",
   "metadata": {},
   "source": [
    "Given these results, you can see that the `offset` increases by the value of the `limit`. As the responses show that the `total` value is 100, this means that you can access the last page of responses by using an `offset` of 80, while keeping the `limit` value as 20."
   ]
  },
  {
   "cell_type": "code",
   "execution_count": null,
   "metadata": {},
   "outputs": [],
   "source": [
    "last_playlists_response = get_featured_playlists(url=URL_FEATURE_PLAYLISTS, access_token=token.get('access_token'), offset=80, limit=20)\n",
    "last_playlists_response"
   ]
  },
  {
   "cell_type": "markdown",
   "metadata": {},
   "source": [
    "You can see that the value of the `next` field is `None`, indicating that you reached the last page. On the other hand, you can see that `previous` contains the URL to request the data from the previous page, so you can even go backward if required."
   ]
  },
  {
   "cell_type": "markdown",
   "metadata": {},
   "source": [
    "<a name='ex02'></a>\n",
    "### Exercise 2\n",
    "\n",
    "Follow the instructions to create a new function that will handle pagination, based on the `get_featured_playlists` function:\n",
    "\n",
    "1. Check the function definition, you have to provide a callable (`endpoint_request`) that corresponds to the function that performs the API call to get the featured playlists.\n",
    "2. Before the `while` loop, create a dictionary named `kwargs` with the following keys:\n",
    "    * `'url'`: the URL to perform the call passed to the function as a parameter.\n",
    "    * `'access_token'`: the access token passed to the function as a parameter. \n",
    "    * `'offset'`: page's offset for the paginated request.\n",
    "    * `'limit'`: maximum number of elements in the page's request.\n",
    "3. Call the `endpoint_request()` function with the keyword arguments that you specified in the `kwargs` dictionary. Assign it to `response`.\n",
    "4. Extend the `responses` list with the playlist's `items` from the `response`.\n",
    "5. Create a variable `total_elements` that hosts the total number of elements from the  `response`. Remember that the `response` has a field named `'playlists'` that has the `'total'` number of elements. If you have any doubt about the response structure, remember to see the [documentation](https://developer.spotify.com/documentation/web-api/reference/get-featured-playlists).\n",
    "6. In the `while` loop, set the stop condition as when the `offset` value is smaller than the `total_elements` variable you defined before.\n",
    "7. Inside the `while` loop do the following steps: \n",
    "   * Update the `offset` value with the current value from the request you did plus the `limit` value.\n",
    "   * Repeat the definition of the `kwargs` dictionary with the same parameters. Note that in this case the `offset` value has been updated.\n",
    "   * Repeat steps 3 and 4.\n",
    "  "
   ]
  },
  {
   "cell_type": "code",
   "execution_count": null,
   "metadata": {},
   "outputs": [],
   "source": [
    "def paginated_featured_playlists(endpoint_request: Callable, url: str, access_token: str, offset: int=0, limit: int=20) -> list:\n",
    "    \"\"\"Allows to perform pagination over and API request done by the endpoint_request function\n",
    "\n",
    "    Args:\n",
    "        endpoint_request (Callable): Function that performs the API Calls\n",
    "        url (str): Endpoint's URL for the request\n",
    "        access_token (str): Access token\n",
    "        offset (int, optional): Offset of the page's request. Defaults to 0.\n",
    "        limit (int, optional): Limit of the page's request. Defaults to 20.\n",
    "\n",
    "    Returns:\n",
    "        list: List with the requested items\n",
    "    \"\"\"\n",
    "    \n",
    "    responses = []\n",
    "    \n",
    "    ### START CODE HERE ### (~ 19 lines of code)\n",
    "    # Create a dictionary named kwargs with the values corresponding to the keys url, token, offset, limit\n",
    "    kwargs = {         \n",
    "            \"url\": None,\n",
    "            \"access_token\": None,\n",
    "            \"offset\": None,\n",
    "            \"limit\": None,\n",
    "        } \n",
    "    \n",
    "    # Call the endpoint_request() function with the arguments specified in the kwargs dictionary.\n",
    "    response = None(**None)\n",
    "    # Use extend() method to add the playlist's items to the list of responses.\n",
    "    responses.None(response.None('None').None('None'))\n",
    "    # Get the total number of the elements in playlist and save it in the variable total_elements.\n",
    "    total_elements = response.None('None').None('None')\n",
    "\n",
    "    # Run the loop as long as the offset value is smaller than total_elements.\n",
    "    while None < None:\n",
    "        # Update the offset value with the current value from the request you did plus the limit value.\n",
    "        offset = response.None('None').None('None') + None\n",
    "\n",
    "        # Repeat the definition of the kwargs dictionary with the same parameters (with the new offset value).\n",
    "        kwargs = {             \n",
    "            \"url\": None,\n",
    "            \"access_token\": None,\n",
    "            \"offset\": None,\n",
    "            \"limit\": None,\n",
    "        }         \n",
    "        # Call the endpoint_request() function with the arguments specified in the kwargs dictionary.\n",
    "        response = None(**None)\n",
    "         # Use extend() method to add the playlist's items to the list of responses.\n",
    "        responses.None(response.None('None').None('None'))\n",
    "    ### END CODE HERE ###\n",
    "        \n",
    "        print(f\"Finished iteration for page with offset: {offset-limit}\")\n",
    "\n",
    "    return responses"
   ]
  },
  {
   "cell_type": "markdown",
   "metadata": {},
   "source": [
    "Now, execute the paginated_featured_playlists with the function `get_featured_playlists` as the `endpoint_request` callable parameter. Use the same URL used in the previous `get_featured_playlists` call, as well as the access token. Set the initial `offset` as 0. For the limit, the default value is 20 but you can play with other values if you want."
   ]
  },
  {
   "cell_type": "code",
   "execution_count": null,
   "metadata": {},
   "outputs": [],
   "source": [
    "responses = paginated_featured_playlists(endpoint_request=get_featured_playlists, url=URL_FEATURE_PLAYLISTS, access_token=token.get('access_token'), offset=0, limit=20)"
   ]
  },
  {
   "cell_type": "markdown",
   "metadata": {},
   "source": [
    "Have a look at one of the item:"
   ]
  },
  {
   "cell_type": "code",
   "execution_count": null,
   "metadata": {
    "exercise": [
     "ex02"
    ],
    "tags": [
     "graded"
    ]
   },
   "outputs": [],
   "source": [
    "responses[0]"
   ]
  },
  {
   "cell_type": "markdown",
   "metadata": {},
   "source": [
    "You can check the `responses` variable to see if all the elements were downloaded successfully."
   ]
  },
  {
   "cell_type": "code",
   "execution_count": null,
   "metadata": {},
   "outputs": [],
   "source": [
    "len(responses)"
   ]
  },
  {
   "cell_type": "markdown",
   "metadata": {},
   "source": [
    "With the `paginated_featured_playlists` function that you created, you are now able to get all 100 available items."
   ]
  },
  {
   "cell_type": "markdown",
   "metadata": {},
   "source": [
    "<a name='ex03'></a>\n",
    "### Exercise 3\n",
    "\n",
    "The function `get_featured_playlists` can handle pagination by passing the `offset` and `limit` parameters or only using the `next` parameter. Create another function that uses the `next` parameter to perform the pagination and compare your results from the previous exercise. Follow the instructions below:\n",
    "\n",
    "The dictionary `kwargs` is now defined with the following keys:\n",
    "- `'url'`: the URL to perform the call passed to the function as a parameter.\n",
    "- `'access_token'`: the access token passed to the function as a parameter. \n",
    "- `'next'`: the URL to generate the next request, defined as an empty string for the first call.\n",
    "\n",
    "Inside the `while` loop:\n",
    "1. Call the `endpoint_request()` function with the keyword arguments that you specified in the `kwargs` dictionary. Assign it to `response`.\n",
    "2. Extend the `responses` list with the playlist's `items` from the `response`.\n",
    "3. Reassign the value of `next_page` as the `'next'` value from the `response[\"playlists\"]` dictionary.  If you have any doubt about the response structure, remember to see the [documentation](https://developer.spotify.com/documentation/web-api/reference/get-featured-playlists).\n",
    "4. Update the `kwargs` dictionary: set the value of the key `'next'` as the variable `next_page`."
   ]
  },
  {
   "cell_type": "code",
   "execution_count": null,
   "metadata": {},
   "outputs": [],
   "source": [
    "def paginated_with_next_featured_playlists(endpoint_request: Callable, url: str, access_token: str) -> list:\n",
    "    \"\"\"Manages pagination for API requests done with the endpoint_request callable\n",
    "\n",
    "    Args:\n",
    "        endpoint_request (Callable): Function that performs API request\n",
    "        url (str): Base URL for the request\n",
    "        access_token (str): Access token\n",
    "\n",
    "    Returns:\n",
    "        list: Responses stored in a list\n",
    "    \"\"\"\n",
    "    responses = []\n",
    "        \n",
    "    next_page = url\n",
    "    \n",
    "    kwargs = {\n",
    "            \"url\": url,\n",
    "            \"access_token\": access_token,\n",
    "            \"next\": \"\"\n",
    "        }\n",
    "    \n",
    "    while next_page:\n",
    "        \n",
    "        ### START CODE HERE ### (~ 4 lines of code)\n",
    "        # Call the endpoint_request() function with the arguments specified in the kwargs dictionary.\n",
    "        response = None(**None)\n",
    "        # Use extend() method to add the playlist's items to the list of responses.\n",
    "        responses.None(response.None('None').None('None'))\n",
    "        # Reassign the value of next_page as the 'next' value from the response[\"playlists\"] dictionary.\n",
    "        next_page = response.None('None').None('None')\n",
    "        # Update the kwargs dictionary: set the value of the key 'next' as the variable next_page.\n",
    "        kwargs[\"None\"] = None\n",
    "        ### END CODE HERE ###\n",
    "        \n",
    "        print(f\"Executed request with URL: {response.get('playlists').get('href')}.\")\n",
    "                \n",
    "    return responses\n",
    "    "
   ]
  },
  {
   "cell_type": "markdown",
   "metadata": {},
   "source": [
    "Now, perform the new paginated call:"
   ]
  },
  {
   "cell_type": "code",
   "execution_count": null,
   "metadata": {},
   "outputs": [],
   "source": [
    "responses_with_next = paginated_with_next_featured_playlists(endpoint_request=get_featured_playlists, url=URL_FEATURE_PLAYLISTS, access_token=token.get('access_token'))"
   ]
  },
  {
   "cell_type": "markdown",
   "metadata": {},
   "source": [
    "Have a look at one of the responses:"
   ]
  },
  {
   "cell_type": "code",
   "execution_count": null,
   "metadata": {
    "exercise": [
     "ex03"
    ],
    "tags": [
     "graded"
    ]
   },
   "outputs": [],
   "source": [
    "responses_with_next[0]"
   ]
  },
  {
   "cell_type": "markdown",
   "metadata": {},
   "source": [
    "<a name='2.4'></a>\n",
    "### 2.4 - Optional - API Rate Limits\n",
    "\n",
    "*Note*: This is an optional section.\n",
    "\n",
    "Another important aspect to take into account when working with APIs is regarding the rate limits. Rate limiting is a mechanism used by APIs to control the number of requests that a client can make within a specified period of time. It helps prevent abuse or overload of the API by limiting the frequency or volume of requests from a single client. Here's how rate limiting typically works:\n",
    "\n",
    "- Request Quotas: APIs may enforce a maximum number of requests that a client can make within a given time window, for example, 100 requests per minute.\n",
    "\n",
    "- Time Windows: The time window specifies the duration over which the request quota is measured. For example, a rate limit of 100 requests per minute means that the client can make up to 100 requests in any 60-second period.\n",
    "\n",
    "- Response to Exceeding Limits: When a client exceeds the rate limit, the API typically responds with an error code (such as 429 Too Many Requests) or a message indicating that the rate limit has been exceeded. This allows clients to adjust their behavior accordingly, such as by implementing [exponential backoff](https://medium.com/bobble-engineering/how-does-exponential-backoff-work-90ef02401c65) and other retry strategies. (Check [here](https://harish-bhattbhatt.medium.com/best-practices-for-retry-pattern-f29d47cd5117) or [here](https://aws.amazon.com/builders-library/timeouts-retries-and-backoff-with-jitter/)). \n",
    "\n",
    "- Rate Limit Headers: APIs may include headers in the response to indicate the client's current rate limit status, such as the number of requests remaining until the limit resets or the time at which the limit will reset.\n",
    "\n",
    "Rate limiting helps maintain the stability and reliability of APIs by ensuring fair access to resources and protecting against abusive or malicious behavior. It also allows API providers to allocate resources more effectively and manage traffic loads more efficiently.\n",
    "\n",
    "You can also see more of the specifics of the rate limits of the Spotify Web API in the [documentation](https://developer.spotify.com/documentation/web-api/concepts/rate-limits). Particularly, this API doesn't enforce a hard limit for the number of requests done but it works dynamically based on the number of calls within a rolling 30 seconds window. You can find some [blogs](https://medium.com/mendix/limiting-your-amount-of-calls-in-mendix-most-of-the-time-rest-835dde55b10e#:~:text=The%20Spotify%20API%20service%20has,for%2060%20requests%20per%20minute) where experiments have been done to identify the average number of requests per minute. \n",
    "\n",
    "Below you are provided with a code that benchmarks the API calls; you can play with the number of requests and the request interval to see the average time of a request. In case you perform too many requests so that you violate the rate limits, you will get a 429 status code.\n",
    "\n",
    "*Note*: This code may take a few minutes to run."
   ]
  },
  {
   "cell_type": "code",
   "execution_count": null,
   "metadata": {},
   "outputs": [],
   "source": [
    "import time\n",
    "\n",
    "# Define the Spotify API endpoint\n",
    "endpoint = 'https://api.spotify.com/v1/browse/featured-playlists?offset=0&limit=20'\n",
    "\n",
    "headers = get_auth_header(access_token=token.get('access_token'))\n",
    "\n",
    "# Define the number of requests to make\n",
    "num_requests = 200\n",
    "\n",
    "# Define the interval between requests (in seconds)\n",
    "request_interval = 0.1  # Adjust as needed based on the API rate limit\n",
    "\n",
    "# Store the timestamps of successful requests\n",
    "success_timestamps = []\n",
    "\n",
    "# Make repeated requests to the endpoint\n",
    "for i in range(num_requests):\n",
    "    # Make the request\n",
    "    response = requests.get(url=endpoint, headers=headers)\n",
    "    \n",
    "    # Check if the request was successful\n",
    "    if response.status_code == 200:\n",
    "        success_timestamps.append(time.time())\n",
    "    else:        \n",
    "        print(f'Request {i+1}: Failed with code {response.status_code}')\n",
    "    \n",
    "    # Wait for the specified interval before making the next request\n",
    "    time.sleep(request_interval)\n",
    "\n",
    "# Calculate the time between successful requests\n",
    "if len(success_timestamps) > 1:\n",
    "    time_gaps = [success_timestamps[i] - success_timestamps[i-1] for i in range(1, len(success_timestamps))]\n",
    "    print(f'Average time between successful requests: {sum(time_gaps) / len(time_gaps):.2f} seconds')\n",
    "else:\n",
    "    print('At least two successful requests are needed to calculate the time between requests.')"
   ]
  },
  {
   "cell_type": "markdown",
   "metadata": {},
   "source": [
    "<a name='3'></a>\n",
    "## 3 - Batch pipeline\n",
    "\n",
    "Now that you have learned the basics of working with APIs, let's create a pipeline that extracts the track information for the featured playlists. For that, you will use two endpoints:\n",
    "* The same [featured playlists endpoint](https://developer.spotify.com/documentation/web-api/reference/get-featured-playlists) you used in the previous exercises.\n",
    "* The [Get Playlist Items endpoint](https://developer.spotify.com/documentation/web-api/reference/get-playlists-tracks). This endpoint allows you to get tracks information for a given playlist such as track name, album, artists, etc."
   ]
  },
  {
   "cell_type": "markdown",
   "metadata": {},
   "source": [
    "In the `src/` folder, you are given three scripts (`authentication.py`, `endpoint.py` and `main.py`) that will allow you to perform such extraction.\n",
    "- The `endpoint.py` file contains two paginated api calls. The first one `get_paginated_featured_playlists`allows you get the list of featured playlists using the same paginated call you used in the first part. The second one `get_paginated_spotify_playlists` allows you to get the track information for a given playlist using the Get Playlist Items endpoint. \n",
    "- The `authentication.py` file contains the script of the `get_token` function that returns an access token.\n",
    "- The `main.py` file calls the first paginated API call to get the ids of the featured playlists. Then for each playlist id, the second paginated API call is performed to extract the track information for each playlist id. \n",
    "\n",
    "At this moment, the code manages paginated requests but we haven't taken into account that our access token has a limited time, so if your pipeline requests last more than 3600 seconds, you can get a 401 status code error. So the first step is to write a routine that handles token refresh in the `get_paginated_featured_playlists`. Follow the instructions to implement this routine."
   ]
  },
  {
   "cell_type": "markdown",
   "metadata": {},
   "source": [
    "<a name='ex04'></a>\n",
    "### Exercise 4\n",
    "\n",
    "Open the file located at `src/endpoint.py`.\n",
    "\n",
    "Search for the `get_paginated_featured_playlists` function. Create an if condition over the `response.status_code` and compare it with the value 401. This means that if the returned status code is 401 (Unauthorized) you will perform the next steps:\n",
    "- Use the `kwargs` argument that is passed to the `get_paginated_featured_playlists` function; pass it to the `get_token` callable and assign it to a variable named `token_response`.\n",
    "- Create an internal condition in which you will check if the key `\"access_token\"` is in the `token_response` dictionary. If true, you will call the `get_auth_header` function with the corresponding access token and assign the result to the variable `headers`. Note the usage of the `continue` keyword to make sure that the request will be executed again.\n",
    "- If the condition over `\"access_token\"` is false, just return an empty list.\n",
    "\n",
    "Save changes in the file `src/endpoint.py`."
   ]
  },
  {
   "cell_type": "markdown",
   "metadata": {},
   "source": [
    "Now that we know how to refresh the token in case it expires, it's time to continue with the rest of the code. Now that we have the featured playlists, the idea is to extract the tracks that compose each playlist with the following information: \n",
    "\n",
    "* Playlist name and reference URL\n",
    "* Track name and reference URL\n",
    "* Album name and reference URL\n",
    "* Artist name and reference URL\n",
    "\n",
    "To get this information, you will use the [Get Playlist Items endpoint](https://developer.spotify.com/documentation/web-api/reference/get-playlists-tracks). Take a moment to read the documentation and understand how to request data from that particular endpoint. Take a closer look at the `fields` parameter as it will be used for the next part of the pipeline. \n",
    "\n",
    "Open the file at `src/main.py`. There you will see after the call to the `get_paginated_featured_playlists` function that you are extracting the playlists' IDs from the response and saving them into the `playlist_ids` list. Those IDs will be used in the request. Also, search for the following constants: \n",
    "\n",
    "- `URL_PLAYLIST_ITEMS`: The base URL to get information from a particular playlist. Take a look at the documentation, you can see that you will have to complement that URL with the playlist ID and with the `tracks` string to complete the endpoint.\n",
    "- `PLAYLIST_ITEMS_FIELDS`: A string with some fields that will be passed to the particular endpoint through the `fields` parameter. This string specifies what fields should be returned in the response such as the track name and url, album name and url and artist name and url as requested.\n",
    "\n",
    "This information will be passed to the function `get_paginated_spotify_playlist` to construct the full endpoint for the API call. In the next exercise, you will work on completing this function in the file `src/endpoint.py`."
   ]
  },
  {
   "cell_type": "markdown",
   "metadata": {},
   "source": [
    "<a name='ex05'></a>\n",
    "### Exercise 5"
   ]
  },
  {
   "cell_type": "markdown",
   "metadata": {},
   "source": [
    "Go back to the `src/endpoint.py` file. Search for the comment `Exercise 5` and follow the instructions to complete the function `get_paginated_spotify_playlist`.\n",
    "\n",
    "1. The function blueprint for `get_paginated_spotify_playlist` is already provided to you. The first thing you have to do is to call the `get_auth_header` function with the access token and pass it to a variable `headers`. \n",
    "2. Create the `requests_url` by using the `base_url` and `playlist_id` parameters. Remember to add `tracks` to the URL endpoint. Also, make sure to add the `fields` parameter to the URL request to filter only the necessary fields for the playlist's items.\n",
    "3. In the `while` loop, perform a GET request using the `request_url` and `headers` that you created in the previous step. Assign the result to `response`.\n",
    "4. Implement the same token refresh routine as before for the `get_paginated_featured_playlists` function.\n",
    "5. After the token refresh, convert the `response` to JSON using the `.json()` method. Assign it to `response_json`.\n",
    "6. Extend the `playlist_data` list with the value from `\"items\"` in `response_json`.\n",
    "7. Update `request_url` with the `\"next\"` value from `response_json`.\n",
    "\n",
    "Save changes in the file `src/endpoint.py`."
   ]
  },
  {
   "cell_type": "markdown",
   "metadata": {},
   "source": [
    "<a name='ex06'></a>\n",
    "### Exercise 6\n",
    "\n",
    "Go back to the `src/main.py` file. Search for the comment `Exercise 6`. Inside the loop that iterates through the `playlists_ids`, there's a call for the `get_paginated_spotify_playlists` function. Follow the instructions to define the following parameters for the given function:\n",
    "- `base_url`: Use the `URL_PLAYLIST_ITEMS` constant defined for you.\n",
    "- `access_token`: Make sure to pass the `\"access_token\"` from the `token` object.\n",
    "- `playlist_id`.\n",
    "- `fields` Use the `PLAYLIST_ITEMS_FIELDS` constant with the fields to be extracted in the request.\n",
    "- `get_token`: pass the same `get_token` function.\n",
    "- Finally, pass the `kwargs` dictionary defined at the start of the `main()` function.\n",
    "\n",
    "The function response will be assigned to the variable `playlist_data`.\n",
    "\n",
    "Save changes in the file `src/main.py`."
   ]
  },
  {
   "cell_type": "markdown",
   "metadata": {},
   "source": [
    "Inside the same for loop, the response `playlist_data` is added to the `playlists_items` dictionary, using the corresponding playlist id as key. Finally, after iterating through all playlists, you can see that the dictionary `playlists_items` is saved to a JSON file in the local environment. Take a look at the format of the filename, which takes into account the current date time to avoid collision with other files."
   ]
  },
  {
   "cell_type": "markdown",
   "metadata": {},
   "source": [
    "Run the following commands in Jupyter or Cloud9 terminal to run the `main.py` script:"
   ]
  },
  {
   "cell_type": "markdown",
   "metadata": {},
   "source": [
    "```bash\n",
    "cd ~/environment\n",
    "source jupyterlab-venv/bin/activate\n",
    "cd src\n",
    "python main.py\n",
    "```"
   ]
  },
  {
   "cell_type": "markdown",
   "metadata": {},
   "source": [
    "*Notes*: \n",
    "- The first command ensures that you're in the root folder (environment). This is to ensure that you successfully run the second command. \n",
    "- To open the Jupyter Notebook terminal, click on File -> New -> Terminal\n",
    "<img src=\"images/JupyterTerminal.png\"  width=\"500\"/>"
   ]
  },
  {
   "cell_type": "markdown",
   "metadata": {},
   "source": [
    "Once the script is finished, you should be able to see a file named `playlist_items_<DATETIME>.json` in the folder `src`."
   ]
  },
  {
   "cell_type": "markdown",
   "metadata": {},
   "source": [
    "<a name='4'></a>\n",
    "## 4 - Optional - Spotipy SDK\n",
    "\n",
    "In several cases, the API developers also provide a Software Development Kit (SDK) to connect and perform requests to the different endpoints of the API without the necessity of creating the code from scratch. For Spotify Web API they developed the [Spotipy SDK](https://spotipy.readthedocs.io/en/2.22.1/) to do it. Let's see an example of how it will work to replicate the extraction of data from the featured playlists endpoint in a paginated way."
   ]
  },
  {
   "cell_type": "code",
   "execution_count": null,
   "metadata": {},
   "outputs": [],
   "source": [
    "import spotipy\n",
    "from spotipy.oauth2 import SpotifyClientCredentials"
   ]
  },
  {
   "cell_type": "code",
   "execution_count": null,
   "metadata": {},
   "outputs": [],
   "source": [
    "credentials = SpotifyClientCredentials(\n",
    "        client_id=CLIENT_ID, client_secret=CLIENT_SECRET\n",
    "    )\n",
    "\n",
    "spotify = spotipy.Spotify(client_credentials_manager=credentials)"
   ]
  },
  {
   "cell_type": "markdown",
   "metadata": {},
   "source": [
    "You can see that the `credentials` object handles the authentication process and contains the token to be used in later requests.\n",
    "\n",
    "*Note*: Please ignore the `DeprecationWarning` message if you see an access token in the output."
   ]
  },
  {
   "cell_type": "code",
   "execution_count": null,
   "metadata": {},
   "outputs": [],
   "source": [
    "credentials.get_access_token()"
   ]
  },
  {
   "cell_type": "markdown",
   "metadata": {},
   "source": [
    "Let's get data from the featured playlists, as you did in the previous example:"
   ]
  },
  {
   "cell_type": "code",
   "execution_count": null,
   "metadata": {},
   "outputs": [],
   "source": [
    "limit = 20\n",
    "response = spotify.featured_playlists(limit=limit)\n",
    "response"
   ]
  },
  {
   "cell_type": "markdown",
   "metadata": {},
   "source": [
    "You can also paginate through these responses. If you check the documentation of the [`featured_playlist` method](https://spotipy.readthedocs.io/en/2.22.1/?highlight=featured_playlists#spotipy.client.Spotify.featured_playlists), you can see that you can specify the parameter `offset`, as you previously did. "
   ]
  },
  {
   "cell_type": "markdown",
   "metadata": {},
   "source": [
    "<a name='ex07'></a>\n",
    "### Exercise 7\n",
    "\n",
    "LetвЂ™s perform a paginated request with the SDK. We can then check the results of this paginated request against the total number of elements we saw in the previous exercises, which would be 100. Follow the instructions to finish the code to perform paginated requests.\n",
    "\n",
    "1. Extend the `playlist_data` list with the `items` from the `playlists` key in the previous `response`.\n",
    "2. Get the `total` number of elements from the response and assign it to the variable `total_playlists_elements`.\n",
    "3. Create a list of offset indexes. As you already have the data from the first call, your starting offset index should be the `limit` value that you used to make the first request. The list should finish at `total_playlists_elements` and the pace should be the same `limit` value. Save it into `offset_idx`.\n",
    "4. Start the pagination: iterate over each index in `offset_idx`. In `response_page`, assign the response from the request to the `featured_playlists` method using the corresponding offset index and limit.\n",
    "5. Extend again the `playlist_data` with the playlist `items` that you get in the `response_page`.\n",
    "\n",
    "You can visually inspect the values in the `playlist_data` and make sure the list length is the same as the total number of elements that are available to request."
   ]
  },
  {
   "cell_type": "code",
   "execution_count": null,
   "metadata": {
    "exercise": [
     "ex07"
    ],
    "tags": [
     "graded"
    ]
   },
   "outputs": [],
   "source": [
    "def paginated_feature_playlists_sdk(limit: int=20) -> list:\n",
    "\n",
    "    playlist_data = []\n",
    "    ### START CODE HERE ### (~ 6 lines of code)\n",
    "    playlist_data.None(None.None('None').None('None'))\n",
    "    total_playlists_elements = None.None('None').None('None')\n",
    "    offset_idx = list(range(None, None, limit))\n",
    "\n",
    "    for idx in offset_idx:         \n",
    "        response_page = spotify.None(limit=None, offset=None)\n",
    "        playlist_data.None(None.None('None').None('None'))\n",
    "    ### END CODE HERE ###\n",
    "    return playlist_data\n",
    "    \n",
    "playlist_data_sdk = paginated_feature_playlists_sdk()\n",
    "playlist_data_sdk[0]"
   ]
  },
  {
   "cell_type": "code",
   "execution_count": null,
   "metadata": {},
   "outputs": [],
   "source": [
    "len(playlist_data_sdk)"
   ]
  },
  {
   "cell_type": "markdown",
   "metadata": {},
   "source": [
    "In this lab you learned the basics of ingesting data from the API. You worked with authentication process and pagination in a manual way as well as using an API SDK."
   ]
  },
  {
   "cell_type": "markdown",
   "metadata": {},
   "source": [
    "<a name='5'></a>\n",
    "## 5 - Upload the Files for Grading\n",
    "Run the following cell to upload the notebook and Python files `./src/main.py`, `./src/endpoint.py` into S3 bucket for grading purposes.\n",
    "\n",
    "*Note*: you may need to click **Save** button before the upload."
   ]
  },
  {
   "cell_type": "code",
   "execution_count": null,
   "metadata": {},
   "outputs": [],
   "source": [
    "# Retrieve the AWS account ID\n",
    "result = subprocess.run(['aws', 'sts', 'get-caller-identity', '--query', 'Account', '--output', 'text'], capture_output=True, text=True)\n",
    "AWS_ACCOUNT_ID = result.stdout.strip()\n",
    "\n",
    "SUBMISSION_BUCKET = f\"de-c2w2a1-{AWS_ACCOUNT_ID}-us-east-1-submission\"\n",
    "\n",
    "!aws s3 cp ./C2_W2_Assignment.ipynb s3://$SUBMISSION_BUCKET/C2_W2_Assignment_Learner.ipynb\n",
    "!aws s3 cp ./src/main.py s3://$SUBMISSION_BUCKET/src/main_learner.py\n",
    "!aws s3 cp ./src/endpoint.py s3://$SUBMISSION_BUCKET/src/endpoint_learner.py"
   ]
  }
 ],
 "metadata": {
  "interpreter": {
   "hash": "31f2aee4e71d21fbe5cf8b01ff0e069b9275f58929596ceb00d14d90e3e16cd6"
  },
  "kernelspec": {
   "display_name": "Python 3 (ipykernel)",
   "language": "python",
   "name": "python3"
  },
  "language_info": {
   "codemirror_mode": {
    "name": "ipython",
    "version": 3
   },
   "file_extension": ".py",
   "mimetype": "text/x-python",
   "name": "python",
   "nbconvert_exporter": "python",
   "pygments_lexer": "ipython3",
   "version": "3.12.4"
  },
  "vscode": {
   "interpreter": {
    "hash": "286072405b4aad1fd50276a28f527182039f1d0b696f26f8301816cecc2a19fb"
   }
  }
 },
 "nbformat": 4,
 "nbformat_minor": 4
}
