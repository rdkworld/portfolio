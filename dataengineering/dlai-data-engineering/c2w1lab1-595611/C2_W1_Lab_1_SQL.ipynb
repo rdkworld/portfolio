{
 "cells": [
  {
   "cell_type": "markdown",
   "metadata": {},
   "source": [
    "# Introduction to SQL\n",
    "\n",
    "As a Data Engineer, you will have to manipulate data to process it and help the organization find valuable insights. To do so, you should learn the basics of SQL to work with data in different ways.\n",
    "\n",
    "This time, you will be working with a DVD rental sample database where you will find information about stores, customers, and rented films. Below you will find the diagram with the relationships between the tables, and a brief description of each one.\n",
    "\n",
    "The purpose of this lab is to answer business questions using SQL language to query the database. The idea is that you get the same answer that is shown in each exercise."
   ]
  },
  {
   "cell_type": "markdown",
   "metadata": {},
   "source": [
    "# Outline\n",
    "- [ 1 - Database](#1)\n",
    "- [ 2 - Running SQL Commands in a Notebook](#2)\n",
    "- [ 3 - Create, Read, Update, and Delete (CRUD) Operations](#3)\n",
    "  - [ 3.1 - CREATE TABLE](#3.1)\n",
    "    - [ Exercise 1](#ex01)\n",
    "  - [ 3.2 - SELECT](#3.2)\n",
    "    - [ Exercise 2](#ex02)\n",
    "    - [ Exercise 3](#ex03)\n",
    "  - [ 3.3 - WHERE](#3.3)\n",
    "    - [ Exercise 4](#ex04)\n",
    "  - [ 3.4 - INSERT INTO](#3.4)\n",
    "    - [ Exercise 5](#ex05)\n",
    "  - [ 3.5 - UPDATE](#3.5)\n",
    "    - [ Exercise 6](#ex06)\n",
    "  - [ 3.6 - DELETE](#3.6)\n",
    "    - [ Exercise 7](#ex07)\n",
    "- [ 4 - SQL Clauses](#4)\n",
    "  - [ 4.1 - ALIASES](#4.1)\n",
    "    - [ Exercise 8](#ex08)\n",
    "  - [ 4.2 - JOIN](#4.2)\n",
    "    - [ Exercise 9](#ex09)\n",
    "    - [ Exercise 10](#ex10)\n",
    "  - [ 4.3 - GROUP BY](#4.3)\n",
    "    - [ Exercise 11](#ex11)\n",
    "  - [ 4.4 - ORDER BY](#4.4)\n",
    "    - [ Exercise 12](#ex12)\n",
    "  - [ 4.5 - LIMIT](#4.5)\n",
    "    - [ Exercise 13](#ex13)\n",
    "- [ 5 - Conclusion](#5)"
   ]
  },
  {
   "cell_type": "markdown",
   "metadata": {},
   "source": [
    "<a name='1'></a>\n",
    "## 1 - Database\n",
    "\n",
    "You will be working with a modified version of the [Sakila Sample Database](https://dev.mysql.com/doc/sakila/en/), which is licensed under the [New BSD license](https://dev.mysql.com/doc/sakila/en/sakila-license.html).\n",
    "\n",
    "For learning purposes, let's assume that the data belongs to _Rentio_, which is a fictitious company dedicated to renting movies to clients from all around the world.\n",
    "\n",
    "In the database, you will be able to find the data of the stores and the staff who works in them as well as their addresses. Each store manages its inventory, so when a store receives a new DVD, information about the film, category, language and actors is inserted into the database. Also, every time a new customer rents a film, the customer's basic information is inserted into the database along with his address. Additionally, a rental is added as soon as a transaction occurs with information about inventory, film, and paying customers.\n",
    "\n",
    "After all, you will have to process the data to answer questions that can give us general information about the business, and that can help us to understand the most rented films by different attributes.\n",
    "\n",
    "Rentio's transactional database includes the following tables.\n",
    "\n",
    "- `actor`: Contains the actor's data such as first and last name.\n",
    "- `address`: Contains address data of staff and customers.\n",
    "- `category`: Contains category data of the film.\n",
    "- `city`: Has city names.\n",
    "- `country`: Has country names.\n",
    "- `customer`: Contains customer data such as first name, last name, stores where they bought, and if it is active or not.\n",
    "- `film`: Contains film data such as title, description, language, and ratings.\n",
    "- `film_actor`: Stores the relationship between film and actor.\n",
    "- `film_category`: Stores the relationship between film and category.\n",
    "- `inventory`: Contains inventory data related to the films and the store where they are stored.\n",
    "- `language`: Has language names.\n",
    "- `payment`: Contains payment data from customers related to the staff, the amounts, and dates.\n",
    "- `rental`: Contains rental data related to the customer, staff, rental dates, and return date.\n",
    "- `staff`: Contains staff data such as first name, last name, stores where they work, and if it is active or not.\n",
    "- `store`: Contains store data such as the manager and store address.\n",
    "\n",
    "Here you can find the entity-relationship model (ERM) of the transactional database showing all the tables and how they are related:\n",
    "\n",
    "![rentio-database-erd](images/rentio_database_erd.jpg)"
   ]
  },
  {
   "cell_type": "markdown",
   "metadata": {},
   "source": [
    "<a name='2'></a>\n",
    "## 2 - Running SQL Commands in a Notebook\n",
    "\n",
    "To interact with SQL Databases within a JupyterLab notebook, you will leverage the SQL \"magic\" offered by the `ipython-sql` extension. JupyterLab defines \"magic\" as special commands prefixed with `%`. Here, you'll employ the `load_ext` magic to load the `ipython-sql` extension. Load the SQL module:"
   ]
  },
  {
   "cell_type": "code",
   "execution_count": null,
   "metadata": {},
   "outputs": [],
   "source": [
    "%load_ext sql"
   ]
  },
  {
   "cell_type": "markdown",
   "metadata": {},
   "source": [
    "The provided magic command loads the `ipython-sql` extension, enabling connection to databases supported by [SQLAlchemy](https://www.sqlalchemy.org/features.html). In this example, you'll connect to an existing MySQL database. However, to proceed, it's essential to obtain your credentials and establish a connection to the MySQL database.\n",
    "\n",
    "It's worth mentioning that `dotenv`, a package to load \"Environment Variables\" is employed here to retrieve credentials (such as username or password) external to the Jupyter notebook. Modify the value of the variables in the `env` file with the values to create the connection."
   ]
  },
  {
   "cell_type": "code",
   "execution_count": null,
   "metadata": {},
   "outputs": [],
   "source": [
    "import os \n",
    "\n",
    "from dotenv import load_dotenv\n",
    "\n",
    "load_dotenv('./env', override=True)\n",
    "\n",
    "DBHOST = os.getenv('DBHOST')\n",
    "DBPORT = os.getenv('DBPORT')\n",
    "DBNAME = os.getenv('DBNAME')\n",
    "DBUSER = os.getenv('DBUSER')\n",
    "DBPASSWORD = os.getenv('DBPASSWORD')\n",
    "\n",
    "connection_url = f'mysql+pymysql://{DBUSER}:{DBPASSWORD}@{DBHOST}:{DBPORT}/{DBNAME}'\n",
    "\n",
    "%sql {connection_url}"
   ]
  },
  {
   "cell_type": "markdown",
   "metadata": {},
   "source": [
    "<a name='3'></a>\n",
    "## 3 - Create, Read, Update, and Delete (CRUD) Operations\n",
    "\n",
    "CRUD stands for Create, Read, Update, and Delete, which are basic operations for manipulating data. When we talk about databases, we use `INSERT INTO`, `SELECT`, `UPDATE`, and `DELETE` statements respectively to refer to CRUD operations."
   ]
  },
  {
   "cell_type": "markdown",
   "metadata": {},
   "source": [
    "<a name='3.1'></a>\n",
    "### 3.1 - CREATE TABLE\n",
    "\n",
    "Before using the statements for CRUD operations, you will see the `CREATE TABLE` statement which is used to create a new table in a database. You must specify the name of the columns, and the data type for each column. You can check the full list of data types [here](https://dev.mysql.com/doc/refman/8.0/en/data-types.html).\n",
    "\n",
    "```sql\n",
    "CREATE TABLE table_name (\n",
    "    column1 datatype,\n",
    "    column2 datatype,\n",
    "    column3 datatype,\n",
    "   ...\n",
    ");\n",
    "```"
   ]
  },
  {
   "cell_type": "markdown",
   "metadata": {},
   "source": [
    "<a name='ex01'></a>\n",
    "### Exercise 1\n",
    "\n",
    "Write a SQL query to create a replica of the `category` table called `category_copy`. Use these columns:\n",
    "\n",
    "| column name | data type   |\n",
    "| ----------- | ----------- |\n",
    "| category_id | INTEGER     |\n",
    "| name        | VARCHAR(25) |\n",
    "| last_update | TIMESTAMP   |"
   ]
  },
  {
   "attachments": {},
   "cell_type": "markdown",
   "metadata": {},
   "source": [
    "**NOTE:** We are using the magic command `%%sql` to allow multiline query syntax"
   ]
  },
  {
   "cell_type": "code",
   "execution_count": null,
   "metadata": {},
   "outputs": [],
   "source": [
    "%%sql \n",
    "### START CODE HERE ### (~ 3 lines of code)\n",
    "CREATE TABLE None (\n",
    "    None None,\n",
    "    None None,\n",
    "    None None\n",
    "); ### END CODE HERE ###\n"
   ]
  },
  {
   "cell_type": "markdown",
   "metadata": {},
   "source": [
    "<a name='3.2'></a>\n",
    "### 3.2 - SELECT\n",
    "\n",
    "The `SELECT` statement is used to get data from a database. It also goes along with the `FROM` clause to indicate the table you want to query.\n",
    "\n",
    "You could specify the columns of the table you want to retrieve from the query by listing each one as follows:\n",
    "\n",
    "```sql\n",
    "SELECT\n",
    "    column1,\n",
    "    column2,\n",
    "    column3,\n",
    "    ...\n",
    "FROM table_name;\n",
    "```\n",
    "\n",
    "What's more, you could use `*` to get all the columns from the table:\n",
    "\n",
    "```sql\n",
    "SELECT\n",
    "    *\n",
    "FROM table_name;\n",
    "```\n"
   ]
  },
  {
   "attachments": {},
   "cell_type": "markdown",
   "metadata": {},
   "source": [
    "<a name='ex02'></a>\n",
    "### Exercise 2\n",
    "\n",
    "Write a SQL query to retrieve the title, length, and release year of the films.\n"
   ]
  },
  {
   "cell_type": "code",
   "execution_count": null,
   "metadata": {},
   "outputs": [],
   "source": [
    "%%sql\n",
    "### START CODE HERE ### (~ 2 lines of code)\n",
    "SELECT None, None, None\n",
    "FROM None;\n",
    "### END CODE HERE ###"
   ]
  },
  {
   "cell_type": "markdown",
   "metadata": {},
   "source": [
    "##### __Expected Output__ \n",
    "\n",
    "**Note:** Not all of the records are shown here. Their order may change.\n",
    "\n",
    "| **title**         | **length** | **release_year** |\n",
    "| ----------------- | ---------- | ---------------- |\n",
    "| ACADEMY DINOSAUR  | 86         | 2006             |\n",
    "| ACE GOLDFINGER    | 48         | 2006             |\n",
    "| ADAPTATION HOLES  | 50         | 2006             |\n",
    "| AFFAIR PREJUDICE  | 117        | 2006             |\n",
    "| ...               | ...        | ...              |\n",
    "```"
   ]
  },
  {
   "attachments": {},
   "cell_type": "markdown",
   "metadata": {},
   "source": [
    "<a name='ex03'></a>\n",
    "### Exercise 3\n",
    "\n",
    "Write an SQL query to get all the columns of the store table.\n",
    "\n",
    "<details>\n",
    "<summary>Expected Output</summary>\n",
    "\n",
    "| **store_id** | **manager_staff_id** | **address_id** | **last_update**         |\n",
    "| ------------ | -------------------- | -------------- | ----------------------- |\n",
    "| 1            | 1                    | 1              | 2006-02-15 09:57:12.000 |\n",
    "| 2            | 2                    | 2              | 2006-02-15 09:57:12.000 |\n",
    "\n",
    "**Note:** The order of the records may change.\n",
    "\n",
    "</details>"
   ]
  },
  {
   "cell_type": "code",
   "execution_count": null,
   "metadata": {},
   "outputs": [],
   "source": [
    "%%sql\n",
    "/*YOUR CODE HERE*/"
   ]
  },
  {
   "cell_type": "markdown",
   "metadata": {},
   "source": [
    "<a name='3.3'></a>\n",
    "### 3.3 - WHERE\n",
    "\n",
    "The `WHERE` clause is used to filter data based on a condition. In the end, the query will return the rows which satisfy the condition.\n",
    "\n",
    "```sql\n",
    "SELECT\n",
    "    *\n",
    "FROM table_name\n",
    "WHERE column1 = 'value1';\n",
    "```"
   ]
  },
  {
   "attachments": {},
   "cell_type": "markdown",
   "metadata": {},
   "source": [
    "<a name='ex04'></a>\n",
    "### Exercise 4\n",
    "\n",
    "Write an SQL query to retrieve the first name, last name, and email of each `active` manager.\n",
    "\n",
    "<details>\n",
    "<summary>Expected Output</summary>\n",
    "\n",
    "| **First_Name** | **Last_Name** | **Email**                    |\n",
    "| -------------- | ------------- | ---------------------------- |\n",
    "| Mike           | Hillyer       | Mike.Hillyer@sakilastaff.com |\n",
    "| Jon            | Stephens      | Jon.Stephens@sakilastaff.com |\n",
    "\n",
    "**Note:** The order of the records may change.\n",
    "\n",
    "</details>"
   ]
  },
  {
   "cell_type": "code",
   "execution_count": null,
   "metadata": {},
   "outputs": [],
   "source": [
    "%%sql\n",
    "/*YOUR CODE HERE*/"
   ]
  },
  {
   "cell_type": "markdown",
   "metadata": {},
   "source": [
    "<a name='3.4'></a>\n",
    "### 3.4 - INSERT INTO\n",
    "\n",
    "The `INSERT INTO` statement is used to insert new rows in a table.\n",
    "\n",
    "You could insert new rows without specifying some columns, but you will have to write the column names and values that you want to insert. That's useful when some columns are filled automatically by the default value of the column or when the column is of `SERIAL` data type.\n",
    "\n",
    "```sql\n",
    "INSERT INTO table_name (\n",
    "  column1,\n",
    "  column2,\n",
    "  column3,\n",
    "  ...\n",
    ")\n",
    "VALUES (\n",
    "  'value1',\n",
    "  'value2',\n",
    "  'value3',\n",
    "  ...\n",
    ");\n",
    "```\n",
    "\n",
    "If you are adding the values for all the columns of the table, you could only specify the values to be inserted.\n",
    "\n",
    "```sql\n",
    "INSERT INTO table_name\n",
    "VALUES (\n",
    "  'value1',\n",
    "  'value2',\n",
    "  'value3',\n",
    "  ...\n",
    ");\n",
    "```"
   ]
  },
  {
   "attachments": {},
   "cell_type": "markdown",
   "metadata": {},
   "source": [
    "<a name='ex05'></a>\n",
    "### Exercise 5\n",
    "\n",
    "Write an SQL query to insert the following rows to the `category_copy` table:\n",
    "\n",
    "| **category_id** | **name**  | **last_update**         |\n",
    "| --------------- | --------- | ----------------------- |\n",
    "| 1               | Horror    | 2006-02-15 09:46:27.000 |\n",
    "| 10              | Animation | 2006-02-15 09:46:27.000 |\n",
    "| 20              | Pop       | 2006-02-15 09:46:27.000 |\n",
    "\n",
    "If you execute the `SELECT` statement on the table you should get:\n",
    "\n",
    "| **category_id** | **name**  | **last_update**         |\n",
    "| --------------- | --------- | ----------------------- |\n",
    "| 1               | Horror    | 2006-02-15 09:46:27.000 |\n",
    "| 10              | Animation | 2006-02-15 09:46:27.000 |\n",
    "| 20              | Pop       | 2006-02-15 09:46:27.000 |\n",
    "\n",
    "**Note:** The order of the records may change."
   ]
  },
  {
   "cell_type": "code",
   "execution_count": null,
   "metadata": {},
   "outputs": [],
   "source": [
    "%%sql\n",
    "/*YOUR CODE HERE*/"
   ]
  },
  {
   "cell_type": "markdown",
   "metadata": {},
   "source": [
    "<a name='3.5'></a>\n",
    "### 3.5 - UPDATE\n",
    "\n",
    "The `UPDATE` statement is used to change the values of some columns on existing rows in a table. You could use the `WHERE` clause to filter the rows you want to change.\n",
    "\n",
    "```sql\n",
    "UPDATE table_name\n",
    "SET\n",
    "  column2 = 'value2',\n",
    "  column3 = 'value3',\n",
    "...\n",
    "WHERE column1 = 'value1';\n",
    "```"
   ]
  },
  {
   "attachments": {},
   "cell_type": "markdown",
   "metadata": {},
   "source": [
    "<a name='ex06'></a>\n",
    "### Exercise 6\n",
    "\n",
    "Write an SQL query to perform the following changes:\n",
    "\n",
    "- Change the `last_update` value to `2020-09-12 08:00:00.000` for all the rows.\n",
    "- Change the `category_id` value to `2` for the row with the `name` of `Animation`.\n",
    "- Change the `name` value to `Action` for the row with the `category_id` of `1`.\n",
    "\n",
    "You can add more cells for each query if you want.\n",
    "\n",
    "If you execute the `SELECT` statement on the table you should get:\n",
    "\n",
    "| **category_id** | **name**  | **last_update**         |\n",
    "| --------------- | --------- | ----------------------- |\n",
    "| 1               | Action    | 2020-09-12 08:00:00.000 |\n",
    "| 2               | Animation | 2020-09-12 08:00:00.000 |\n",
    "| 20              | Pop       | 2020-09-12 08:00:00.000 |\n",
    "\n",
    "**Note:** The order of the records may change."
   ]
  },
  {
   "cell_type": "code",
   "execution_count": null,
   "metadata": {},
   "outputs": [],
   "source": [
    "%%sql\n",
    "/*YOUR CODE HERE*/"
   ]
  },
  {
   "cell_type": "markdown",
   "metadata": {},
   "source": [
    "<a name='3.6'></a>\n",
    "### 3.6 - DELETE\n",
    "\n",
    "The `DELETE` statement is used to delete existing rows in a table. It also goes along with the `FROM` clause to indicate the table where you want to delete the rows. You could use the `WHERE` clause to filter the rows you want to change.\n",
    "\n",
    "**You have to be careful because you will delete all rows of a table if you don't specify a condition:**\n",
    "\n",
    "```sql\n",
    "DELETE FROM table_name;\n",
    "```\n",
    "\n",
    "That's why you should add a condition unless you want to delete all:\n",
    "\n",
    "```sql\n",
    "DELETE FROM table_name\n",
    "WHERE column1 = 'value1';\n",
    "```"
   ]
  },
  {
   "attachments": {},
   "cell_type": "markdown",
   "metadata": {},
   "source": [
    "<a name='ex07'></a>\n",
    "### Exercise 7\n",
    "\n",
    "Write an SQL query to delete the row where the `category_id` is `20`.\n",
    "\n",
    "If you execute the `SELECT` statement on the table you should get:\n",
    "\n",
    "| **category_id** | **name**  | **last_update**         |\n",
    "| --------------- | --------- | ----------------------- |\n",
    "| 1               | Action    | 2020-09-12 08:00:00.000 |\n",
    "| 2               | Animation | 2020-09-12 08:00:00.000 |\n",
    "\n",
    "**Note:** The order of the records may change."
   ]
  },
  {
   "cell_type": "code",
   "execution_count": null,
   "metadata": {},
   "outputs": [],
   "source": [
    "%%sql\n",
    "/*YOUR CODE HERE*/"
   ]
  },
  {
   "cell_type": "markdown",
   "metadata": {},
   "source": [
    "<a name='4'></a>\n",
    "## 4 - SQL Clauses\n",
    "\n",
    "In the next sections, you will see how to create more complex SQL queries to read data from a database using the most common clauses."
   ]
  },
  {
   "cell_type": "markdown",
   "metadata": {},
   "source": [
    "<a name='4.1'></a>\n",
    "### 4.1 - ALIASES\n",
    "\n",
    "Aliases temporarily change the name of a column. They allow you to use and display a more readable name for the columns. To create an alias you could use the keywords `AS` next to a column to change its name:\n",
    "\n",
    "```sql\n",
    "SELECT\n",
    "    column1 AS Alias_Column_1,\n",
    "    column2 AS Alias_Column_2,\n",
    "    column3 AS Alias_Column_3,\n",
    "    ...\n",
    "FROM table_name;\n",
    "```"
   ]
  },
  {
   "attachments": {},
   "cell_type": "markdown",
   "metadata": {},
   "source": [
    "<a name='ex08'></a>\n",
    "### Exercise 8\n",
    "\n",
    "Write an SQL query to obtain the title, length, and release year of the films. Change column names to have `film_` as a prefix.\n",
    "\n",
    "<details>\n",
    "<summary>Expected Output</summary>\n",
    "\n",
    "| **film_title**    | **film_length** | **film_release_year** |\n",
    "| ----------------- | --------------- | --------------------- |\n",
    "| Chamber Italian   | 117             | 2006                  |\n",
    "| Grosse Wonderful  | 49              | 2006                  |\n",
    "| Airport Pollock   | 54              | 2006                  |\n",
    "| Bright Encounters | 73              | 2006                  |\n",
    "| Academy Dinosaur  | 86              | 2006                  |\n",
    "| Ace Goldfinger    | 48              | 2006                  |\n",
    "| Adaptation Holes  | 50              | 2006                  |\n",
    "| Affair Prejudice  | 117             | 2006                  |\n",
    "| African Egg       | 130             | 2006                  |\n",
    "| Agent Truman      | 169             | 2006                  |\n",
    "| Airplane Sierra   | 62              | 2006                  |\n",
    "| Alabama Devil     | 114             | 2006                  |\n",
    "| Aladdin Calendar  | 63              | 2006                  |\n",
    "| Alamo Videotape   | 126             | 2006                  |\n",
    "| Alaska Phantom    | 136             | 2006                  |\n",
    "| ...               | ...             | ...                   |\n",
    "\n",
    "**Note:** The order of the records may change.\n",
    "\n",
    "</details>"
   ]
  },
  {
   "cell_type": "code",
   "execution_count": null,
   "metadata": {},
   "outputs": [],
   "source": [
    "%%sql\n",
    "/*YOUR CODE HERE*/"
   ]
  },
  {
   "cell_type": "markdown",
   "metadata": {},
   "source": [
    "<a name='4.2'></a>\n",
    "### 4.2 - JOIN\n",
    "\n",
    "The `JOIN` clause is used to combine the data from multiple tables based on a shared column between the tables.\n",
    "\n",
    "```sql\n",
    "SELECT\n",
    "    *\n",
    "FROM table1\n",
    "JOIN table2 ON table1.column1 = table2.column2;\n",
    "```\n",
    "\n",
    "By default, the `JOIN` clause is equivalent to `INNER JOIN` and it returns the rows with common values on the column in both tables. There are also other types of joins:\n",
    "\n",
    "- `LEFT JOIN`: Returns the rows from the left table and the matched rows from the right table.\n",
    "- `RIGHT JOIN`: Returns the rows from the right table and the matched rows from the left table.\n",
    "- `FULL JOIN`: Returns the rows when there is a match in either of both tables."
   ]
  },
  {
   "attachments": {},
   "cell_type": "markdown",
   "metadata": {},
   "source": [
    "<a name='ex09'></a>\n",
    "### Exercise 9\n",
    "\n",
    "Write an SQL query to get the city, address, district, and phone number of each store.\n",
    "\n",
    "<details>\n",
    "<summary>Expected Output</summary>\n",
    "\n",
    "| **city**   | **address**        | **district** | **phone** |\n",
    "| ---------- | ------------------ | ------------ | --------- |\n",
    "| Lethbridge | 47 MySakila Drive  | Alberta      |           |\n",
    "| Woodridge  | 28 MySQL Boulevard | QLD          |           |\n",
    "\n",
    "**Note:** The order of the records may change.\n",
    "\n",
    "</details>"
   ]
  },
  {
   "cell_type": "code",
   "execution_count": null,
   "metadata": {},
   "outputs": [],
   "source": [
    "%%sql\n",
    "/*YOUR CODE HERE*/"
   ]
  },
  {
   "attachments": {},
   "cell_type": "markdown",
   "metadata": {},
   "source": [
    "<a name='ex10'></a>\n",
    "### Exercise 10\n",
    "\n",
    "Write an SQL query to obtain the country, city, and address of the stores where active managers work.\n",
    "\n",
    "<details>\n",
    "<summary>Expected Output</summary>\n",
    "\n",
    "| **country** | **city**   | **address**        |\n",
    "| ----------- | ---------- | ------------------ |\n",
    "| Canada      | Lethbridge | 47 MySakila Drive  |\n",
    "| Australia   | Woodridge  | 28 MySQL Boulevard |\n",
    "\n",
    "**Note:** The order of the records may change.\n",
    "\n",
    "</details>"
   ]
  },
  {
   "cell_type": "code",
   "execution_count": null,
   "metadata": {},
   "outputs": [],
   "source": [
    "%%sql\n",
    "/*YOUR CODE HERE*/"
   ]
  },
  {
   "cell_type": "markdown",
   "metadata": {},
   "source": [
    "<a name='4.3'></a>\n",
    "### 4.3 - GROUP BY\n",
    "\n",
    "The `GROUP BY` statement is used to group rows based on their values. It will group the columns with the same value and for the other columns, you could use aggregate functions such as `COUNT`, `SUM`, `AVG`, `MIN`, `MAX` to perform some calculations.\n",
    "\n",
    "```sql\n",
    "SELECT\n",
    "    column1,\n",
    "    COUNT(column2),\n",
    "    SUM(column3)\n",
    "FROM table1\n",
    "GROUP BY column1;\n",
    "```"
   ]
  },
  {
   "attachments": {},
   "cell_type": "markdown",
   "metadata": {},
   "source": [
    "<a name='ex11'></a>\n",
    "### Exercise 11\n",
    "\n",
    "Write an SQL query to retrieve the number of films by rating.\n",
    "\n",
    "<details>\n",
    "<summary>Expected Output</summary>\n",
    "\n",
    "| **rating** | **films** |\n",
    "| ---------- | --------- |\n",
    "| G          | 178       |\n",
    "| R          | 195       |\n",
    "| PG         | 194       |\n",
    "| PG-13      | 223       |\n",
    "| NC-17      | 210       |\n",
    "\n",
    "**Note:** The order of the records may change.\n",
    "\n",
    "</details>"
   ]
  },
  {
   "cell_type": "code",
   "execution_count": null,
   "metadata": {},
   "outputs": [],
   "source": [
    "%%sql\n",
    "/*YOUR CODE HERE*/"
   ]
  },
  {
   "cell_type": "markdown",
   "metadata": {},
   "source": [
    "<a name='4.4'></a>\n",
    "### 4.4 - ORDER BY\n",
    "\n",
    "The `ORDER BY` clause is used to sort the rows in ascending or descending order based on one or more columns. By default, this clause will sort the rows in ascending order, but you could use the `DESC` keyword to order the rows in descending order.\n",
    "\n",
    "```sql\n",
    "SELECT\n",
    "    *\n",
    "FROM table1\n",
    "ORDER BY column1 DESC;\n",
    "```"
   ]
  },
  {
   "cell_type": "markdown",
   "metadata": {},
   "source": [
    "<a name='ex12'></a>\n",
    "### Exercise 12\n",
    "\n",
    "Write an SQL query to get the number of films by category. Sort the results by the number of films in ascending order.\n",
    "\n",
    "<details>\n",
    "<summary>Expected Output</summary>\n",
    "\n",
    "| **category** | **films** |\n",
    "| ------------ | --------- |\n",
    "| Music        | 51        |\n",
    "| Horror       | 56        |\n",
    "| Travel       | 57        |\n",
    "| Classics     | 57        |\n",
    "| Comedy       | 58        |\n",
    "| Children     | 60        |\n",
    "| Sci-Fi       | 61        |\n",
    "| Games        | 61        |\n",
    "| Drama        | 62        |\n",
    "| New          | 63        |\n",
    "| Action       | 64        |\n",
    "| Animation    | 66        |\n",
    "| Documentary  | 68        |\n",
    "| Family       | 69        |\n",
    "| Foreign      | 73        |\n",
    "| Sports       | 74        |\n",
    "\n",
    "</details>"
   ]
  },
  {
   "cell_type": "code",
   "execution_count": null,
   "metadata": {},
   "outputs": [],
   "source": [
    "%%sql\n",
    "/*YOUR CODE HERE*/"
   ]
  },
  {
   "cell_type": "markdown",
   "metadata": {},
   "source": [
    "<a name='4.5'></a>\n",
    "### 4.5 - LIMIT\n",
    "\n",
    "The `LIMIT` clause is used to limit the number of rows the query is returning.\n",
    "\n",
    "```sql\n",
    "SELECT\n",
    "    *\n",
    "FROM table1\n",
    "LIMIT 1;\n",
    "```"
   ]
  },
  {
   "cell_type": "markdown",
   "metadata": {},
   "source": [
    "<a name='ex13'></a>\n",
    "### Exercise 13\n",
    "\n",
    "Write an SQL query to obtain the category with the highest number of films.\n",
    "\n",
    "<details>\n",
    "<summary>Expected Output</summary>\n",
    "\n",
    "| **category** | **films** |\n",
    "| ------------ | --------- |\n",
    "| Sports       | 74        |\n",
    "\n",
    "</details>"
   ]
  },
  {
   "cell_type": "code",
   "execution_count": null,
   "metadata": {},
   "outputs": [],
   "source": [
    "%%sql\n",
    "/*YOUR CODE HERE*/"
   ]
  },
  {
   "cell_type": "markdown",
   "metadata": {},
   "source": [
    "<a name='5'></a>\n",
    "## 5 - Conclusion\n",
    "\n",
    "During this lab, you've written several SQL queries to manipulate data from the DVD rental sample database. Firstly, you created queries to gather general information relevant to the business. Then, you built queries using more complex clauses to perform data transformation while combining multiple tables. Finally, you perform other basic CRUD operations. Overall, you now have the basic knowledge to process data using SQL."
   ]
  },
  {
   "cell_type": "markdown",
   "metadata": {},
   "source": [
    "## References\n",
    "\n",
    "<a id=\"1\">[1]</a> SQL Tutorial, W3schools, 2022. [Online]. Available: <https://www.w3schools.com/sql/>. [Accessed: 07- Mar- 2022]"
   ]
  }
 ],
 "metadata": {
  "interpreter": {
   "hash": "31f2aee4e71d21fbe5cf8b01ff0e069b9275f58929596ceb00d14d90e3e16cd6"
  },
  "kernelspec": {
   "display_name": "Python 3 (ipykernel)",
   "language": "python",
   "name": "python3"
  },
  "language_info": {
   "codemirror_mode": {
    "name": "ipython",
    "version": 3
   },
   "file_extension": ".py",
   "mimetype": "text/x-python",
   "name": "python",
   "nbconvert_exporter": "python",
   "pygments_lexer": "ipython3",
   "version": "3.9.16"
  },
  "vscode": {
   "interpreter": {
    "hash": "0f7c385fa1e05902489312e0f26958bd15563da08ffbc61abb00afd1f64e2ab3"
   }
  }
 },
 "nbformat": 4,
 "nbformat_minor": 4
}
